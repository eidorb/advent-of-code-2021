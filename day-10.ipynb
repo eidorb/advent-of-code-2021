{
 "cells": [
  {
   "cell_type": "markdown",
   "id": "ab433a7a-e598-4cb4-8212-7bc5f22cec36",
   "metadata": {},
   "source": [
    "# Day 10: Syntax Scoring"
   ]
  },
  {
   "cell_type": "code",
   "execution_count": 1,
   "id": "82358901-fab8-4c14-9faa-15ffbb7be8a0",
   "metadata": {},
   "outputs": [],
   "source": [
    "example = \"\"\"[({(<(())[]>[[{[]{<()<>>\n",
    "[(()[<>])]({[<{<<[]>>(\n",
    "{([(<{}[<>[]}>{[]{[(<()>\n",
    "(((({<>}<{<{<>}{[]{[]{}\n",
    "[[<[([]))<([[{}[[()]]]\n",
    "[{[{({}]{}}([{[{{{}}([]\n",
    "{<[[]]>}<{[{[{[]{()[[[]\n",
    "[<(<(<(<{}))><([]([]()\n",
    "<{([([[(<>()){}]>(<<{{\n",
    "<{([{{}}[<[[[<>{}]]]>[]]\"\"\""
   ]
  },
  {
   "cell_type": "markdown",
   "id": "263792cb-a31f-40fb-a550-5b21321aa93a",
   "metadata": {},
   "source": [
    "The example syntax error score is correct."
   ]
  },
  {
   "cell_type": "code",
   "execution_count": 2,
   "id": "e9f9b015-b0bb-4e54-85c1-f2598ecada8d",
   "metadata": {},
   "outputs": [
    {
     "data": {
      "text/plain": [
       "26397"
      ]
     },
     "execution_count": 2,
     "metadata": {},
     "output_type": "execute_result"
    }
   ],
   "source": [
    "import collections\n",
    "\n",
    "# Maps opening to closing pairs.\n",
    "pairs = {'(': ')', '[': ']', '{': '}', '<':  '>'}\n",
    "# Maps illegal characters to points.\n",
    "points = {')': 3, ']': 57, '}': 1197, '>': 25137}\n",
    "\n",
    "def score(lines):\n",
    "    \"\"\"Generates scores of syntax errors in lines.\"\"\"\n",
    "    for line in lines:\n",
    "        stack = collections.deque()\n",
    "        for char in line:\n",
    "            try:\n",
    "                # Add to stack if opening character.\n",
    "                if char in pairs:\n",
    "                    stack.append(char)\n",
    "                # If closing character does not match, yield points and terminate loop.\n",
    "                elif char != pairs[stack.pop()]:\n",
    "                    yield points[char]\n",
    "                    break\n",
    "            # IndexError will be raised if first character of line is a closing \n",
    "            # character because stack is empty.\n",
    "            except IndexError:\n",
    "                yield points[char]\n",
    "                break\n",
    "\n",
    "sum(score(example.splitlines()))"
   ]
  },
  {
   "cell_type": "markdown",
   "id": "2d24201f-7b08-41ff-926c-0ea575b61ce8",
   "metadata": {},
   "source": [
    "Score syntax errors in input."
   ]
  },
  {
   "cell_type": "code",
   "execution_count": 3,
   "id": "d0f16864-f70f-4603-b3d8-67b9d4e1648b",
   "metadata": {},
   "outputs": [
    {
     "data": {
      "text/plain": [
       "339477"
      ]
     },
     "execution_count": 3,
     "metadata": {},
     "output_type": "execute_result"
    }
   ],
   "source": [
    "sum(score(open('day-10-input.txt').read().splitlines()))"
   ]
  },
  {
   "cell_type": "markdown",
   "id": "74b22014-4bce-4aae-aa86-703fee449337",
   "metadata": {},
   "source": [
    "# Part two"
   ]
  },
  {
   "cell_type": "markdown",
   "id": "aa7391b1-ff80-4108-af43-54a323f82be5",
   "metadata": {},
   "source": [
    "Closing characters for the example are correct. "
   ]
  },
  {
   "cell_type": "code",
   "execution_count": 4,
   "id": "d4780782-ceee-4831-ad40-6a6ed65c83ab",
   "metadata": {},
   "outputs": [
    {
     "data": {
      "text/plain": [
       "['}}]])})]', ')}>]})', '}}>}>))))', ']]}}]}]}>', '])}>']"
      ]
     },
     "execution_count": 4,
     "metadata": {},
     "output_type": "execute_result"
    }
   ],
   "source": [
    "def complete(lines):\n",
    "    \"\"\"Generates sequences of characters that close incomplete lines.\"\"\"\n",
    "    for line in lines:\n",
    "        stack = collections.deque()\n",
    "        for char in line:\n",
    "            try:\n",
    "                # Add to stack if opening character.\n",
    "                if char in pairs:\n",
    "                    stack.append(char)\n",
    "                # If closing character does not match, terminate loop.\n",
    "                elif char != pairs[stack.pop()]:\n",
    "                    break\n",
    "            # IndexError will be raised if first character of line is a closing \n",
    "            # character because stack is empty.\n",
    "            except IndexError:\n",
    "                break\n",
    "        else:\n",
    "            # The line is incomplete if stack is not empty.\n",
    "            if stack:\n",
    "                # To complete the line, close the stack in reverse order.\n",
    "                yield ''.join(pairs[char] for char in reversed(stack))\n",
    "\n",
    "list(complete(example.splitlines()))"
   ]
  },
  {
   "cell_type": "markdown",
   "id": "95fe3b09-7cfc-4d33-b9ee-fd8609306fb3",
   "metadata": {},
   "source": [
    "The example completions score is correct."
   ]
  },
  {
   "cell_type": "code",
   "execution_count": 5,
   "id": "bbb35431-c67a-41ce-b4ad-106c59eac30b",
   "metadata": {},
   "outputs": [
    {
     "data": {
      "text/plain": [
       "288957"
      ]
     },
     "execution_count": 5,
     "metadata": {},
     "output_type": "execute_result"
    }
   ],
   "source": [
    "# Maps closing chars to points.\n",
    "char_points = {')': 1, ']': 2, '}': 3, '>': 4}\n",
    "\n",
    "def score_completions(strings):\n",
    "    \"\"\"Scores completion strings.\"\"\"\n",
    "    scores = []\n",
    "    for string in strings:\n",
    "        score = 0\n",
    "        for char in string:\n",
    "            score = score * 5 + char_points[char]\n",
    "        scores.append(score)\n",
    "    scores = sorted(scores)\n",
    "    return scores[len(scores) // 2]\n",
    "            \n",
    "score_completions(complete(example.splitlines()))"
   ]
  },
  {
   "cell_type": "markdown",
   "id": "c41cbb7d-2c51-4e49-8fc5-84aff0f66e33",
   "metadata": {},
   "source": [
    "Find completion score on input.\n",
    "\n",
    "\n",
    "\n"
   ]
  },
  {
   "cell_type": "code",
   "execution_count": 6,
   "id": "cffe9a2c-51df-4dcc-b04c-563f3a0967e8",
   "metadata": {},
   "outputs": [
    {
     "data": {
      "text/plain": [
       "3049320156"
      ]
     },
     "execution_count": 6,
     "metadata": {},
     "output_type": "execute_result"
    }
   ],
   "source": [
    "score_completions(complete(open('day-10-input.txt').read().splitlines()))"
   ]
  }
 ],
 "metadata": {
  "kernelspec": {
   "display_name": "Python 3 (ipykernel)",
   "language": "python",
   "name": "python3"
  },
  "language_info": {
   "codemirror_mode": {
    "name": "ipython",
    "version": 3
   },
   "file_extension": ".py",
   "mimetype": "text/x-python",
   "name": "python",
   "nbconvert_exporter": "python",
   "pygments_lexer": "ipython3",
   "version": "3.8.5"
  }
 },
 "nbformat": 4,
 "nbformat_minor": 5
}
