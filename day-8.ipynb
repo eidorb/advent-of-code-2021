{
 "cells": [
  {
   "cell_type": "markdown",
   "id": "04740e50-22d8-4d9a-a374-0ec23ca8b53c",
   "metadata": {},
   "source": [
    "# Day 8: Seven Segment Search"
   ]
  },
  {
   "cell_type": "code",
   "execution_count": 1,
   "id": "2c0d77e5-aca5-4a4e-92eb-e03893ec6211",
   "metadata": {},
   "outputs": [],
   "source": [
    "example = \"\"\"be cfbegad cbdgef fgaecd cgeb fdcge agebfd fecdb fabcd edb | fdgacbe cefdb cefbgd gcbe\n",
    "edbfga begcd cbg gc gcadebf fbgde acbgfd abcde gfcbed gfec | fcgedb cgb dgebacf gc\n",
    "fgaebd cg bdaec gdafb agbcfd gdcbef bgcad gfac gcb cdgabef | cg cg fdcagb cbg\n",
    "fbegcd cbd adcefb dageb afcb bc aefdc ecdab fgdeca fcdbega | efabcd cedba gadfec cb\n",
    "aecbfdg fbg gf bafeg dbefa fcge gcbea fcaegb dgceab fcbdga | gecf egdcabf bgf bfgea\n",
    "fgeab ca afcebg bdacfeg cfaedg gcfdb baec bfadeg bafgc acf | gebdcfa ecba ca fadegcb\n",
    "dbcfg fgd bdegcaf fgec aegbdf ecdfab fbedc dacgb gdcebf gf | cefg dcbef fcge gbcadfe\n",
    "bdfegc cbegaf gecbf dfcage bdacg ed bedf ced adcbefg gebcd | ed bcgafe cdgba cbgef\n",
    "egadfb cdbfeg cegd fecab cgb gbdefca cg fgcdab egfdb bfceg | gbdfcae bgc cg cgb\n",
    "gcafb gcf dcaebfg ecagb gf abcdeg gaef cafbge fdbac fegbdc | fgae cfgab fg bagce\"\"\""
   ]
  },
  {
   "cell_type": "code",
   "execution_count": 2,
   "id": "23a6bf25-073a-47d8-bfa7-a6774045f979",
   "metadata": {},
   "outputs": [
    {
     "data": {
      "text/plain": [
       "[[frozenset({'b', 'e'}),\n",
       "  frozenset({'a', 'b', 'c', 'd', 'e', 'f', 'g'}),\n",
       "  frozenset({'b', 'c', 'd', 'e', 'f', 'g'}),\n",
       "  frozenset({'a', 'c', 'd', 'e', 'f', 'g'}),\n",
       "  frozenset({'b', 'c', 'e', 'g'}),\n",
       "  frozenset({'c', 'd', 'e', 'f', 'g'}),\n",
       "  frozenset({'a', 'b', 'd', 'e', 'f', 'g'}),\n",
       "  frozenset({'b', 'c', 'd', 'e', 'f'}),\n",
       "  frozenset({'a', 'b', 'c', 'd', 'f'}),\n",
       "  frozenset({'b', 'd', 'e'})],\n",
       " [frozenset({'a', 'b', 'c', 'd', 'e', 'f', 'g'}),\n",
       "  frozenset({'b', 'c', 'd', 'e', 'f'}),\n",
       "  frozenset({'b', 'c', 'd', 'e', 'f', 'g'}),\n",
       "  frozenset({'b', 'c', 'e', 'g'})]]"
      ]
     },
     "execution_count": 2,
     "metadata": {},
     "output_type": "execute_result"
    }
   ],
   "source": [
    "def parse(input):\n",
    "    \"\"\"Parses signal patterns and digit outputs from input.\"\"\"\n",
    "    lines =  input.strip().splitlines()\n",
    "    \n",
    "    # Parse [patterns, digits] string pairs from lines.\n",
    "    entries = (\n",
    "        [string.strip() for string in line.split('|')]\n",
    "        for line in lines\n",
    "    )\n",
    "    \n",
    "    # Convert space-separated patterns to sets of characters.\n",
    "    return [\n",
    "        [[frozenset(pattern) for pattern in string.split()]for string in entry]\n",
    "        for entry in entries\n",
    "    ]\n",
    "\n",
    "parse(example)[0]"
   ]
  },
  {
   "cell_type": "markdown",
   "id": "ca2f345c-1b18-40af-aca5-9ec5129d3b1d",
   "metadata": {},
   "source": [
    "Counting simple digits in the example gives the correct answer."
   ]
  },
  {
   "cell_type": "code",
   "execution_count": 3,
   "id": "4d669f22-5c24-421b-b1d2-e5f28ff4ae3e",
   "metadata": {},
   "outputs": [
    {
     "data": {
      "text/plain": [
       "26"
      ]
     },
     "execution_count": 3,
     "metadata": {},
     "output_type": "execute_result"
    }
   ],
   "source": [
    "def count_simple_digits(entries):\n",
    "    \"\"\"Counts occurences of 1, 4, 7, or 8 digits in output.\"\"\"\n",
    "    simple_digits = [\n",
    "        digit for patterns, outputs in entries for digit in outputs \n",
    "        if (\n",
    "            len(digit) == 2 # 1\n",
    "            or len(digit) == 4 # 4\n",
    "            or len(digit) == 3 # 7\n",
    "            or len(digit) == 7 # 8\n",
    "        )\n",
    "    ]\n",
    "    return len(simple_digits)\n",
    "\n",
    "count_simple_digits(parse(example))"
   ]
  },
  {
   "cell_type": "markdown",
   "id": "c78c8bbb-58b0-4b9d-b0ec-1f1be6f28af3",
   "metadata": {},
   "source": [
    "Count simple digits in input."
   ]
  },
  {
   "cell_type": "code",
   "execution_count": 4,
   "id": "3e13668f-11f9-4aa8-b9d6-1073275e9f9d",
   "metadata": {},
   "outputs": [
    {
     "data": {
      "text/plain": [
       "344"
      ]
     },
     "execution_count": 4,
     "metadata": {},
     "output_type": "execute_result"
    }
   ],
   "source": [
    "count_simple_digits(parse(open('day-8-input.txt').read()))"
   ]
  },
  {
   "cell_type": "markdown",
   "id": "6493625b",
   "metadata": {},
   "source": [
    "# Part two"
   ]
  },
  {
   "cell_type": "code",
   "execution_count": 5,
   "id": "cc4653be",
   "metadata": {},
   "outputs": [],
   "source": [
    "simple_example = 'acedgfb cdfbe gcdfa fbcad dab cefabd cdfgeb eafb cagedb ab | cdfeb fcadb cdfeb cdbaf'"
   ]
  },
  {
   "cell_type": "code",
   "execution_count": 6,
   "id": "52e29fa1-646d-489a-95f3-53904f4ba31e",
   "metadata": {},
   "outputs": [
    {
     "data": {
      "text/plain": [
       "[[[frozenset({'a', 'b', 'c', 'd', 'e', 'f', 'g'}),\n",
       "   frozenset({'b', 'c', 'd', 'e', 'f'}),\n",
       "   frozenset({'a', 'c', 'd', 'f', 'g'}),\n",
       "   frozenset({'a', 'b', 'c', 'd', 'f'}),\n",
       "   frozenset({'a', 'b', 'd'}),\n",
       "   frozenset({'a', 'b', 'c', 'd', 'e', 'f'}),\n",
       "   frozenset({'b', 'c', 'd', 'e', 'f', 'g'}),\n",
       "   frozenset({'a', 'b', 'e', 'f'}),\n",
       "   frozenset({'a', 'b', 'c', 'd', 'e', 'g'}),\n",
       "   frozenset({'a', 'b'})],\n",
       "  [frozenset({'b', 'c', 'd', 'e', 'f'}),\n",
       "   frozenset({'a', 'b', 'c', 'd', 'f'}),\n",
       "   frozenset({'b', 'c', 'd', 'e', 'f'}),\n",
       "   frozenset({'a', 'b', 'c', 'd', 'f'})]]]"
      ]
     },
     "execution_count": 6,
     "metadata": {},
     "output_type": "execute_result"
    }
   ],
   "source": [
    "parse(simple_example)"
   ]
  },
  {
   "cell_type": "code",
   "execution_count": 7,
   "id": "47ce3165",
   "metadata": {},
   "outputs": [
    {
     "data": {
      "text/plain": [
       "[5353]"
      ]
     },
     "execution_count": 7,
     "metadata": {},
     "output_type": "execute_result"
    }
   ],
   "source": [
    "def unscramble_digits(entries):\n",
    "    \"\"\"Determines signal to digit mapping and generates output digits.\"\"\"\n",
    "    for patterns, outputs in entries:\n",
    "        # Maps simple digits to patterns.\n",
    "        simple_digits = {}\n",
    "        # Maps patterns to digits.\n",
    "        pattern_map = {}\n",
    "\n",
    "        # Map simple patterns first.\n",
    "        for pattern in patterns:\n",
    "            if len(pattern) == 2:\n",
    "                simple_digits[1] = pattern\n",
    "                pattern_map[pattern] = 1\n",
    "                continue\n",
    "            if len(pattern) == 4:\n",
    "                simple_digits[4] = pattern\n",
    "                pattern_map[pattern] = 4\n",
    "                continue\n",
    "            if len(pattern) == 3:\n",
    "                simple_digits[7] = pattern\n",
    "                pattern_map[pattern] = 7\n",
    "                continue\n",
    "            if len(pattern) == 7:\n",
    "                simple_digits[8] = pattern\n",
    "                pattern_map[pattern] = 8\n",
    "                continue\n",
    "        \n",
    "        # Map complex patterns.\n",
    "        for pattern in patterns:\n",
    "            # Skip simple digit patterns.\n",
    "            if pattern in pattern_map:\n",
    "                continue\n",
    "            \n",
    "            # Compute the lengths of the intersection of pattern with simple digit \n",
    "            # patterns. The sequence of lengths uniquely identifies digit patterns.\n",
    "            lengths = len(pattern & simple_digits[1]), len(pattern & simple_digits[4]), len(pattern & simple_digits[7]), len(pattern & simple_digits[8])\n",
    "            \n",
    "            if lengths == (2, 3, 3, 6):\n",
    "                pattern_map[pattern] = 0\n",
    "            elif lengths == (1, 2, 2, 5):\n",
    "                pattern_map[pattern] = 2\n",
    "            elif lengths == (2, 3, 3, 5):\n",
    "                pattern_map[pattern] = 3\n",
    "            elif lengths == (1, 3, 2, 5):\n",
    "                pattern_map[pattern] = 5\n",
    "            elif lengths == (1, 3, 2, 6):\n",
    "                pattern_map[pattern] = 6\n",
    "            elif lengths == (2, 4, 3, 6):\n",
    "                pattern_map[pattern] = 9\n",
    "        \n",
    "        yield int(''.join(str(pattern_map[pattern]) for pattern in outputs))\n",
    "\n",
    "list(unscramble_digits(parse(simple_example)))"
   ]
  },
  {
   "cell_type": "markdown",
   "id": "7dfa4f6b-61ce-4a4d-bc79-62bc3e420b6e",
   "metadata": {},
   "source": [
    "The sum of unscrambled digits from the larger example is correct."
   ]
  },
  {
   "cell_type": "code",
   "execution_count": 8,
   "id": "d84ac6c1-2a9a-43fc-b35d-c41b29050034",
   "metadata": {},
   "outputs": [
    {
     "data": {
      "text/plain": [
       "61229"
      ]
     },
     "execution_count": 8,
     "metadata": {},
     "output_type": "execute_result"
    }
   ],
   "source": [
    "sum(list(unscramble_digits(parse(example))))"
   ]
  },
  {
   "cell_type": "markdown",
   "id": "b78998c6-6e2a-41c2-92c1-1f841c61a2af",
   "metadata": {},
   "source": [
    "Determine the sum of unscrambled digits from intput."
   ]
  },
  {
   "cell_type": "code",
   "execution_count": 9,
   "id": "c8c06326-28c4-4187-a9a1-8ba33701e618",
   "metadata": {},
   "outputs": [
    {
     "data": {
      "text/plain": [
       "1048410"
      ]
     },
     "execution_count": 9,
     "metadata": {},
     "output_type": "execute_result"
    }
   ],
   "source": [
    "sum(list(unscramble_digits(parse(open('day-8-input.txt').read()))))"
   ]
  }
 ],
 "metadata": {
  "kernelspec": {
   "display_name": "Python 3 (ipykernel)",
   "language": "python",
   "name": "python3"
  },
  "language_info": {
   "codemirror_mode": {
    "name": "ipython",
    "version": 3
   },
   "file_extension": ".py",
   "mimetype": "text/x-python",
   "name": "python",
   "nbconvert_exporter": "python",
   "pygments_lexer": "ipython3",
   "version": "3.8.5"
  }
 },
 "nbformat": 4,
 "nbformat_minor": 5
}
