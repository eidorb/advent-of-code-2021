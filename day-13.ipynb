{
 "cells": [
  {
   "cell_type": "markdown",
   "id": "efd3502c-989a-4391-b31f-69c578fa1298",
   "metadata": {},
   "source": [
    "# Day 13: Transparent Origami"
   ]
  },
  {
   "cell_type": "code",
   "execution_count": 1,
   "id": "81363e5e-437a-4364-a97f-5c2b8377340a",
   "metadata": {},
   "outputs": [],
   "source": [
    "example = \"\"\"6,10\n",
    "0,14\n",
    "9,10\n",
    "0,3\n",
    "10,4\n",
    "4,11\n",
    "6,0\n",
    "6,12\n",
    "4,1\n",
    "0,13\n",
    "10,12\n",
    "3,4\n",
    "3,0\n",
    "8,4\n",
    "1,10\n",
    "2,14\n",
    "8,10\n",
    "9,0\n",
    "\n",
    "fold along y=7\n",
    "fold along x=5\"\"\""
   ]
  },
  {
   "cell_type": "code",
   "execution_count": 2,
   "id": "81c59f9e-ea20-4bcf-839a-a918a9cdc16f",
   "metadata": {},
   "outputs": [
    {
     "data": {
      "text/plain": [
       "({(0, 3),\n",
       "  (0, 13),\n",
       "  (0, 14),\n",
       "  (1, 10),\n",
       "  (2, 14),\n",
       "  (3, 0),\n",
       "  (3, 4),\n",
       "  (4, 1),\n",
       "  (4, 11),\n",
       "  (6, 0),\n",
       "  (6, 10),\n",
       "  (6, 12),\n",
       "  (8, 4),\n",
       "  (8, 10),\n",
       "  (9, 0),\n",
       "  (9, 10),\n",
       "  (10, 4),\n",
       "  (10, 12)},\n",
       " (('y', 7), ('x', 5)))"
      ]
     },
     "execution_count": 2,
     "metadata": {},
     "output_type": "execute_result"
    }
   ],
   "source": [
    "def parse(input):\n",
    "    \"\"\"Parses dot locations and fold instructions from input.\"\"\"\n",
    "    lines = input.splitlines()\n",
    "    split = lines.index('')\n",
    "    \n",
    "    dots = set(tuple(int(string) for string in line.split(',')) for line in lines[:split])\n",
    "    folds = (line.split()[2].split('=') for line in lines[split + 1:])\n",
    "    folds = tuple((axis, int(location)) for axis, location in folds)\n",
    "    \n",
    "    return dots, folds\n",
    "\n",
    "parse(example)"
   ]
  },
  {
   "cell_type": "code",
   "execution_count": 3,
   "id": "7a0387c1-7951-4468-a175-76bd4a80c8fb",
   "metadata": {},
   "outputs": [
    {
     "data": {
      "text/plain": [
       "17"
      ]
     },
     "execution_count": 3,
     "metadata": {},
     "output_type": "execute_result"
    }
   ],
   "source": [
    "def fold(dots, axis, location):\n",
    "    \"\"\"Folds dots according to folds.\"\"\"\n",
    "    folded = set()\n",
    "    for x, y in dots:\n",
    "        if axis == 'y' and y > location:\n",
    "            folded.add((x, location - (y - location)))\n",
    "            continue\n",
    "        if axis == 'x' and x > location:\n",
    "            folded.add((location - (x - location), y))\n",
    "            continue\n",
    "        folded.add((x, y))\n",
    "                \n",
    "    return folded\n",
    "\n",
    "dots, folds = parse(example)\n",
    "for axis, location in folds:\n",
    "    dots = fold(dots, axis, location)\n",
    "    break\n",
    "len(dots)"
   ]
  },
  {
   "cell_type": "code",
   "execution_count": 4,
   "id": "f8eed99f-d5b2-4a9d-b31c-a4ce1b954ccc",
   "metadata": {},
   "outputs": [
    {
     "data": {
      "text/plain": [
       "16"
      ]
     },
     "execution_count": 4,
     "metadata": {},
     "output_type": "execute_result"
    }
   ],
   "source": [
    "dots, folds = parse(example)\n",
    "for axis, location in folds:\n",
    "    dots = fold(dots, axis, location)\n",
    "len(dots)"
   ]
  },
  {
   "cell_type": "code",
   "execution_count": 5,
   "id": "f546ce25-e37d-4f7a-9aaa-943871a99e98",
   "metadata": {},
   "outputs": [
    {
     "data": {
      "text/plain": [
       "653"
      ]
     },
     "execution_count": 5,
     "metadata": {},
     "output_type": "execute_result"
    }
   ],
   "source": [
    "dots, folds = parse(open('day-13-input.txt').read())\n",
    "for axis, location in folds:\n",
    "    dots = fold(dots, axis, location)\n",
    "    break\n",
    "len(dots)"
   ]
  },
  {
   "cell_type": "markdown",
   "id": "68904694-70c4-4cc1-8d43-f1983b53e6a0",
   "metadata": {},
   "source": [
    "# Part two"
   ]
  },
  {
   "cell_type": "code",
   "execution_count": 6,
   "id": "9965a693-be50-4ba1-90dc-310c76d0e19e",
   "metadata": {},
   "outputs": [],
   "source": [
    "dots, folds = parse(open('day-13-input.txt').read())\n",
    "for axis, location in folds:\n",
    "    dots = fold(dots, axis, location)"
   ]
  },
  {
   "cell_type": "code",
   "execution_count": 7,
   "id": "dd4e7377-cfc1-4435-8ddb-796035996b73",
   "metadata": {},
   "outputs": [
    {
     "data": {
      "text/plain": [
       "[38, 5]"
      ]
     },
     "execution_count": 7,
     "metadata": {},
     "output_type": "execute_result"
    }
   ],
   "source": [
    "[max(nums) for nums in list(zip(*dots))]"
   ]
  },
  {
   "cell_type": "code",
   "execution_count": 8,
   "id": "0e75d864-ba1b-453d-ab6d-c16c5e4b5fbb",
   "metadata": {},
   "outputs": [
    {
     "name": "stdout",
     "output_type": "stream",
     "text": [
      "*    *  * ***  **** ***  ***  ***  *  *\n",
      "*    * *  *  * *    *  * *  * *  * * * \n",
      "*    **   *  * ***  ***  *  * *  * **  \n",
      "*    * *  ***  *    *  * ***  ***  * * \n",
      "*    * *  * *  *    *  * *    * *  * * \n",
      "**** *  * *  * **** ***  *    *  * *  *\n"
     ]
    }
   ],
   "source": [
    "display = [[' '] * 39 for _ in range(6)]\n",
    "\n",
    "for x, y in dots:\n",
    "    try:\n",
    "        display[y][x] = '*'\n",
    "    except IndexError:\n",
    "        print((x, y))\n",
    "\n",
    "for line in display:\n",
    "    print(''.join(line))"
   ]
  }
 ],
 "metadata": {
  "kernelspec": {
   "display_name": "Python 3 (ipykernel)",
   "language": "python",
   "name": "python3"
  },
  "language_info": {
   "codemirror_mode": {
    "name": "ipython",
    "version": 3
   },
   "file_extension": ".py",
   "mimetype": "text/x-python",
   "name": "python",
   "nbconvert_exporter": "python",
   "pygments_lexer": "ipython3",
   "version": "3.8.5"
  }
 },
 "nbformat": 4,
 "nbformat_minor": 5
}
