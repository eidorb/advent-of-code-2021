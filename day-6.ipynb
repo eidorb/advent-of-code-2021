{
 "cells": [
  {
   "cell_type": "markdown",
   "id": "724d98f9-15fc-4019-ab09-5f68cfe89a2b",
   "metadata": {},
   "source": [
    "# Day 6: Lanternfish"
   ]
  },
  {
   "cell_type": "code",
   "execution_count": 1,
   "id": "4051793b-f6ff-42b9-90e1-e0529af208a0",
   "metadata": {},
   "outputs": [],
   "source": [
    "example = '3,4,3,1,2'"
   ]
  },
  {
   "cell_type": "code",
   "execution_count": 2,
   "id": "9e7ab65e-fcd9-4804-9261-b21ed0ecd1f6",
   "metadata": {},
   "outputs": [
    {
     "data": {
      "text/plain": [
       "[3, 4, 3, 1, 2]"
      ]
     },
     "execution_count": 2,
     "metadata": {},
     "output_type": "execute_result"
    }
   ],
   "source": [
    "def parse(input):\n",
    "    \"\"\"Parses initial state from input.\"\"\"\n",
    "    return [int(string) for string in input.strip().split(',')]\n",
    "    \n",
    "parse(example)"
   ]
  },
  {
   "cell_type": "markdown",
   "id": "838eea42-3bae-464f-b9ae-0dcf2b64d9fa",
   "metadata": {},
   "source": [
    "Stepping the example once is correct."
   ]
  },
  {
   "cell_type": "code",
   "execution_count": 3,
   "id": "5019afc1-17b3-4218-b9fa-4f8de9c2facc",
   "metadata": {},
   "outputs": [
    {
     "data": {
      "text/plain": [
       "[2, 3, 2, 0, 1]"
      ]
     },
     "execution_count": 3,
     "metadata": {},
     "output_type": "execute_result"
    }
   ],
   "source": [
    "def step(state):\n",
    "    \"\"\"Generates state after one time step.\"\"\"\n",
    "    for timer in state:\n",
    "        # When timer hits 0, create a new fish and reset timer. \n",
    "        if timer == 0:\n",
    "            yield 8\n",
    "            yield 6\n",
    "        # Otherwise decrement timer.\n",
    "        else:\n",
    "            yield timer - 1\n",
    "\n",
    "list(step(parse(example)))"
   ]
  },
  {
   "cell_type": "markdown",
   "id": "40edd3cf-64d3-4bc3-b505-f4dcf9abf39b",
   "metadata": {},
   "source": [
    "After 18 days there are 26 fish."
   ]
  },
  {
   "cell_type": "code",
   "execution_count": 4,
   "id": "56d79f58-5ac7-4487-8091-1e588d38e087",
   "metadata": {},
   "outputs": [
    {
     "data": {
      "text/plain": [
       "26"
      ]
     },
     "execution_count": 4,
     "metadata": {},
     "output_type": "execute_result"
    }
   ],
   "source": [
    "def evolve(state, days):\n",
    "    \"\"\"Returns state after days of evolution.\"\"\"\n",
    "    for _ in range(days):\n",
    "        state = list(step(state))\n",
    "    return state\n",
    "\n",
    "len(evolve(parse(example), 18))"
   ]
  },
  {
   "cell_type": "markdown",
   "id": "26534f08-7135-41a4-a9c8-3bf74103bd54",
   "metadata": {},
   "source": [
    "After 80 days there are 5934 fish."
   ]
  },
  {
   "cell_type": "code",
   "execution_count": 5,
   "id": "06c61221-4870-4613-85f9-5266bbd0fa1b",
   "metadata": {},
   "outputs": [
    {
     "data": {
      "text/plain": [
       "5934"
      ]
     },
     "execution_count": 5,
     "metadata": {},
     "output_type": "execute_result"
    }
   ],
   "source": [
    "len(evolve(parse(example), 80))"
   ]
  },
  {
   "cell_type": "code",
   "execution_count": 6,
   "id": "9b04c915-5695-47de-9a56-9d9a35cc673a",
   "metadata": {},
   "outputs": [
    {
     "data": {
      "text/plain": [
       "390923"
      ]
     },
     "execution_count": 6,
     "metadata": {},
     "output_type": "execute_result"
    }
   ],
   "source": [
    "len(evolve(parse(open('day-6-input.txt').read()), 80))"
   ]
  },
  {
   "cell_type": "markdown",
   "id": "050f1eda-02fe-4b57-8721-b22145caa8e2",
   "metadata": {},
   "source": [
    "# Part two"
   ]
  },
  {
   "cell_type": "code",
   "execution_count": 7,
   "id": "0b0dcc8d-e773-4dac-a2b9-8844e995322d",
   "metadata": {},
   "outputs": [
    {
     "data": {
      "text/plain": [
       "[0, 1, 1, 2, 1, 0, 0, 0, 0]"
      ]
     },
     "execution_count": 7,
     "metadata": {},
     "output_type": "execute_result"
    }
   ],
   "source": [
    "from collections import Counter\n",
    "\n",
    "def parse2(input):\n",
    "    \"\"\"Parses initial state from input.\"\"\"\n",
    "    state = [0] * 9\n",
    "    counter = Counter(int(string) for string in input.strip().split(','))\n",
    "    for timer, count in counter.items():\n",
    "        state[timer] = count\n",
    "    return state\n",
    "    \n",
    "parse2(example)"
   ]
  },
  {
   "cell_type": "code",
   "execution_count": 8,
   "id": "ba002eee-ffd1-4661-b19b-6e223861d137",
   "metadata": {},
   "outputs": [
    {
     "data": {
      "text/plain": [
       "[1, 1, 2, 1, 0, 0, 0, 0, 0]"
      ]
     },
     "execution_count": 8,
     "metadata": {},
     "output_type": "execute_result"
    }
   ],
   "source": [
    "def step2(state: dict):\n",
    "    \"\"\"Alternative using bag for state.\"\"\"\n",
    "    new_fish = state[0]\n",
    "    state[0] = state[1]\n",
    "    state[1] = state[2]\n",
    "    state[2] = state[3]\n",
    "    state[3] = state[4]\n",
    "    state[4] = state[5]\n",
    "    state[5] = state[6]\n",
    "    state[6] = state[7] + new_fish\n",
    "    state[7] = state[8]\n",
    "    state[8] = new_fish\n",
    "    return state\n",
    "\n",
    "step2(parse2(example))"
   ]
  },
  {
   "cell_type": "markdown",
   "id": "c815ec80-7d0a-4159-88b5-22966f3bef8a",
   "metadata": {},
   "source": [
    "After 18 days there are 26 fish."
   ]
  },
  {
   "cell_type": "code",
   "execution_count": 9,
   "id": "55b08098-4fd8-4fb0-a902-0af7fff609ae",
   "metadata": {},
   "outputs": [
    {
     "data": {
      "text/plain": [
       "26"
      ]
     },
     "execution_count": 9,
     "metadata": {},
     "output_type": "execute_result"
    }
   ],
   "source": [
    "def evolve2(state, days):\n",
    "    \"\"\"Returns state after days of evolution.\"\"\"\n",
    "    for _ in range(days):\n",
    "        state = step2(state)\n",
    "    return state\n",
    "\n",
    "sum(evolve2(parse2(example), 18))"
   ]
  },
  {
   "cell_type": "markdown",
   "id": "0cf0b421-a4bf-45eb-b2df-fcea3e300061",
   "metadata": {},
   "source": [
    "After 80 days there are 5934 fish."
   ]
  },
  {
   "cell_type": "code",
   "execution_count": 10,
   "id": "59b980db-bab3-4580-86a3-4dd0f6526d6b",
   "metadata": {},
   "outputs": [
    {
     "data": {
      "text/plain": [
       "5934"
      ]
     },
     "execution_count": 10,
     "metadata": {},
     "output_type": "execute_result"
    }
   ],
   "source": [
    "sum(evolve2(parse2(example), 80))"
   ]
  },
  {
   "cell_type": "markdown",
   "id": "855ee14c-ed90-4061-898a-1c9f0d7c2d33",
   "metadata": {},
   "source": [
    "The new method is FAST."
   ]
  },
  {
   "cell_type": "code",
   "execution_count": 11,
   "id": "e8697c05-4f05-404d-b4bb-fcb801c28e13",
   "metadata": {},
   "outputs": [
    {
     "data": {
      "text/plain": [
       "26984457539"
      ]
     },
     "execution_count": 11,
     "metadata": {},
     "output_type": "execute_result"
    }
   ],
   "source": [
    "sum(evolve2(parse2(example), 256))"
   ]
  },
  {
   "cell_type": "markdown",
   "id": "0303c3b5-f46e-4cb2-9ca6-4fb0900916ca",
   "metadata": {},
   "source": [
    "Trying it on input..."
   ]
  },
  {
   "cell_type": "code",
   "execution_count": 12,
   "id": "81f788d0-14c0-4044-a6ae-19b9d70170ec",
   "metadata": {},
   "outputs": [
    {
     "data": {
      "text/plain": [
       "1749945484935"
      ]
     },
     "execution_count": 12,
     "metadata": {},
     "output_type": "execute_result"
    }
   ],
   "source": [
    "sum(evolve2(parse2(open('day-6-input.txt').read()), 256))"
   ]
  }
 ],
 "metadata": {
  "kernelspec": {
   "display_name": "Python 3 (ipykernel)",
   "language": "python",
   "name": "python3"
  },
  "language_info": {
   "codemirror_mode": {
    "name": "ipython",
    "version": 3
   },
   "file_extension": ".py",
   "mimetype": "text/x-python",
   "name": "python",
   "nbconvert_exporter": "python",
   "pygments_lexer": "ipython3",
   "version": "3.8.5"
  }
 },
 "nbformat": 4,
 "nbformat_minor": 5
}
