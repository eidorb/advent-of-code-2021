{
 "cells": [
  {
   "cell_type": "markdown",
   "id": "7b9100e9-1667-4cb5-b9c8-59467d12c40e",
   "metadata": {},
   "source": [
    "# Day 1"
   ]
  },
  {
   "cell_type": "code",
   "execution_count": 1,
   "id": "c8dc064f-e577-4df7-bd0e-2c3fc7d7323d",
   "metadata": {},
   "outputs": [],
   "source": [
    "def count_increases(measurements):\n",
    "    \"\"\"Counts number of times measurements increase.\"\"\"\n",
    "    previous_measurement = None\n",
    "    count = 0\n",
    "    \n",
    "    for measurement in measurements:\n",
    "        if previous_measurement is None:\n",
    "            previous_measurement = measurement\n",
    "            continue\n",
    "        if measurement > previous_measurement:\n",
    "            count += 1\n",
    "        previous_measurement = measurement\n",
    "    \n",
    "    return count"
   ]
  },
  {
   "cell_type": "markdown",
   "id": "97d9e5bc-c33d-44e1-b2a6-7286f29d0817",
   "metadata": {},
   "source": [
    "There is an example report."
   ]
  },
  {
   "cell_type": "code",
   "execution_count": 2,
   "id": "4d7c5241-6849-4478-a392-5a48ee324eea",
   "metadata": {},
   "outputs": [
    {
     "data": {
      "text/plain": [
       "[199, 200, 208, 210, 200, 207, 240, 269, 260, 263]"
      ]
     },
     "execution_count": 2,
     "metadata": {},
     "output_type": "execute_result"
    }
   ],
   "source": [
    "example = \"\"\"199\n",
    "200\n",
    "208\n",
    "210\n",
    "200\n",
    "207\n",
    "240\n",
    "269\n",
    "260\n",
    "263\n",
    "\"\"\"\n",
    "example_measurements = [int(string) for string in example.split()]\n",
    "example_measurements"
   ]
  },
  {
   "cell_type": "markdown",
   "id": "e9ddeae1-72f3-4ef4-b09c-101395ee781c",
   "metadata": {},
   "source": [
    "There are 7 increases in the example."
   ]
  },
  {
   "cell_type": "code",
   "execution_count": 3,
   "id": "aed8bbe7-4013-4019-963e-eb292453ab56",
   "metadata": {},
   "outputs": [
    {
     "data": {
      "text/plain": [
       "7"
      ]
     },
     "execution_count": 3,
     "metadata": {},
     "output_type": "execute_result"
    }
   ],
   "source": [
    "count_increases(example_measurements)"
   ]
  },
  {
   "cell_type": "code",
   "execution_count": 4,
   "id": "51220a04-2b5c-4a85-bf46-fd17f2ff45e7",
   "metadata": {},
   "outputs": [],
   "source": [
    "measurements = [\n",
    "    int(string) for string in\n",
    "    open('day-1-input.txt').read().split()\n",
    "]"
   ]
  },
  {
   "cell_type": "code",
   "execution_count": 5,
   "id": "8f3e69dc-4b41-4ac3-a0e6-251bbf05bcad",
   "metadata": {},
   "outputs": [
    {
     "data": {
      "text/plain": [
       "1301"
      ]
     },
     "execution_count": 5,
     "metadata": {},
     "output_type": "execute_result"
    }
   ],
   "source": [
    "count_increases(measurements)"
   ]
  },
  {
   "cell_type": "markdown",
   "id": "c283b58f-4535-489a-872e-299cb7405b06",
   "metadata": {},
   "source": [
    "# Part two"
   ]
  },
  {
   "cell_type": "markdown",
   "id": "382d327e-e58d-4e51-91e6-19a79d960497",
   "metadata": {},
   "source": [
    "A sliding window function."
   ]
  },
  {
   "cell_type": "code",
   "execution_count": 6,
   "id": "0914eb78-649d-4e7b-b0f1-1caabf9bbd88",
   "metadata": {},
   "outputs": [],
   "source": [
    "# Stolen from https://docs.python.org/3/library/itertools.html#itertools-recipes.\n",
    "import collections\n",
    "from itertools import islice\n",
    "\n",
    "def sliding_window(iterable, n):\n",
    "    # sliding_window('ABCDEFG', 4) -> ABCD BCDE CDEF DEFG\n",
    "    it = iter(iterable)\n",
    "    window = collections.deque(islice(it, n), maxlen=n)\n",
    "    if len(window) == n:\n",
    "        yield tuple(window)\n",
    "    for x in it:\n",
    "        window.append(x)\n",
    "        yield tuple(window)"
   ]
  },
  {
   "cell_type": "markdown",
   "id": "6d4fc251-f88b-4d37-bef6-59ff5c8b8a84",
   "metadata": {},
   "source": [
    "The sliding window works on example measurements."
   ]
  },
  {
   "cell_type": "code",
   "execution_count": 7,
   "id": "353f147d-50de-4c52-960f-8b56bd40981d",
   "metadata": {},
   "outputs": [
    {
     "data": {
      "text/plain": [
       "[(199, 200, 208),\n",
       " (200, 208, 210),\n",
       " (208, 210, 200),\n",
       " (210, 200, 207),\n",
       " (200, 207, 240),\n",
       " (207, 240, 269),\n",
       " (240, 269, 260),\n",
       " (269, 260, 263)]"
      ]
     },
     "execution_count": 7,
     "metadata": {},
     "output_type": "execute_result"
    }
   ],
   "source": [
    "windows = list(sliding_window(example_measurements, 3))\n",
    "windows"
   ]
  },
  {
   "cell_type": "markdown",
   "id": "67cdc43d-4e0f-4569-9c0b-a1b45cd48b86",
   "metadata": {},
   "source": [
    "Sum of windows."
   ]
  },
  {
   "cell_type": "code",
   "execution_count": 8,
   "id": "ea6644c9-dea8-47b8-814a-b9319ee643fa",
   "metadata": {},
   "outputs": [
    {
     "data": {
      "text/plain": [
       "[607, 618, 618, 617, 647, 716, 769, 792]"
      ]
     },
     "execution_count": 8,
     "metadata": {},
     "output_type": "execute_result"
    }
   ],
   "source": [
    "[sum(window) for window in windows]"
   ]
  },
  {
   "cell_type": "markdown",
   "id": "c32f19d7-0470-484c-9b6a-96aa081dffd0",
   "metadata": {},
   "source": [
    "Count increases as before."
   ]
  },
  {
   "cell_type": "code",
   "execution_count": 9,
   "id": "0edde28e-30f9-422f-8621-1587d6c56e44",
   "metadata": {},
   "outputs": [
    {
     "data": {
      "text/plain": [
       "5"
      ]
     },
     "execution_count": 9,
     "metadata": {},
     "output_type": "execute_result"
    }
   ],
   "source": [
    "count_increases([sum(window) for window in windows])"
   ]
  },
  {
   "cell_type": "markdown",
   "id": "4762575d-70c5-4772-a2c0-86be929df63d",
   "metadata": {},
   "source": [
    "Run it on input data."
   ]
  },
  {
   "cell_type": "code",
   "execution_count": 10,
   "id": "cb4c997f-ef60-4257-83fc-8cab045093aa",
   "metadata": {},
   "outputs": [
    {
     "data": {
      "text/plain": [
       "1346"
      ]
     },
     "execution_count": 10,
     "metadata": {},
     "output_type": "execute_result"
    }
   ],
   "source": [
    "count_increases([sum(window) for window in sliding_window(measurements, 3)])"
   ]
  }
 ],
 "metadata": {
  "kernelspec": {
   "display_name": "Python 3 (ipykernel)",
   "language": "python",
   "name": "python3"
  },
  "language_info": {
   "codemirror_mode": {
    "name": "ipython",
    "version": 3
   },
   "file_extension": ".py",
   "mimetype": "text/x-python",
   "name": "python",
   "nbconvert_exporter": "python",
   "pygments_lexer": "ipython3",
   "version": "3.9.7"
  }
 },
 "nbformat": 4,
 "nbformat_minor": 5
}
