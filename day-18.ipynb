{
 "cells": [
  {
   "cell_type": "markdown",
   "id": "ba303ea6-6aee-45f4-876f-e4d9d7460d6e",
   "metadata": {},
   "source": [
    "# Day 18: Snailfish"
   ]
  },
  {
   "cell_type": "code",
   "execution_count": 1,
   "id": "09d6a825-9204-400d-b207-67a10c87e2c3",
   "metadata": {},
   "outputs": [],
   "source": [
    "example = \"\"\"[[[0,[5,8]],[[1,7],[9,6]]],[[4,[1,2]],[[1,4],2]]]\n",
    "[[[5,[2,8]],4],[5,[[9,9],0]]]\n",
    "[6,[[[6,2],[5,6]],[[7,6],[4,7]]]]\n",
    "[[[6,[0,7]],[0,9]],[4,[9,[9,0]]]]\n",
    "[[[7,[6,4]],[3,[1,3]]],[[[5,5],1],9]]\n",
    "[[6,[[7,3],[3,2]]],[[[3,8],[5,7]],4]]\n",
    "[[[[5,4],[7,7]],8],[[8,3],8]]\n",
    "[[9,3],[[9,9],[6,[4,9]]]]\n",
    "[[2,[[7,7],7]],[[5,8],[[9,3],[0,2]]]]\n",
    "[[[[5,2],5],[8,[3,7]]],[[5,[7,5]],[4,4]]]\"\"\""
   ]
  },
  {
   "cell_type": "code",
   "execution_count": 2,
   "id": "c9aaeb70-0783-4050-bbdc-586780ab216d",
   "metadata": {},
   "outputs": [
    {
     "data": {
      "text/plain": [
       "[[[[0, [5, 8]], [[1, 7], [9, 6]]], [[4, [1, 2]], [[1, 4], 2]]],\n",
       " [[[5, [2, 8]], 4], [5, [[9, 9], 0]]],\n",
       " [6, [[[6, 2], [5, 6]], [[7, 6], [4, 7]]]],\n",
       " [[[6, [0, 7]], [0, 9]], [4, [9, [9, 0]]]],\n",
       " [[[7, [6, 4]], [3, [1, 3]]], [[[5, 5], 1], 9]],\n",
       " [[6, [[7, 3], [3, 2]]], [[[3, 8], [5, 7]], 4]],\n",
       " [[[[5, 4], [7, 7]], 8], [[8, 3], 8]],\n",
       " [[9, 3], [[9, 9], [6, [4, 9]]]],\n",
       " [[2, [[7, 7], 7]], [[5, 8], [[9, 3], [0, 2]]]],\n",
       " [[[[5, 2], 5], [8, [3, 7]]], [[5, [7, 5]], [4, 4]]]]"
      ]
     },
     "execution_count": 2,
     "metadata": {},
     "output_type": "execute_result"
    }
   ],
   "source": [
    "def parse(input):\n",
    "    \"\"\"Parse snailfish numbers from semi-trusted input ;)\"\"\"\n",
    "    return [eval(line) for line in input.splitlines()]\n",
    "\n",
    "parse(example)"
   ]
  },
  {
   "cell_type": "code",
   "execution_count": 3,
   "id": "c4be3920-86fc-4c4c-94b8-e87b99e5cee6",
   "metadata": {},
   "outputs": [
    {
     "data": {
      "text/plain": [
       "5"
      ]
     },
     "execution_count": 3,
     "metadata": {},
     "output_type": "execute_result"
    }
   ],
   "source": [
    "def lookup(snailfish, address):\n",
    "    \"\"\"Return value of address in snailfish.\"\"\"\n",
    "    for index in address:\n",
    "        snailfish = snailfish[index]\n",
    "    return snailfish\n",
    "\n",
    "lookup([[1, 2], [[3, 4], 5]], [1, 1])"
   ]
  },
  {
   "cell_type": "code",
   "execution_count": 4,
   "id": "383e641a-a140-4406-aca5-332c123fb17c",
   "metadata": {},
   "outputs": [
    {
     "data": {
      "text/plain": [
       "[(9, [0, 0, 0, 0, 0]),\n",
       " (8, [0, 0, 0, 0, 1]),\n",
       " (1, [0, 0, 0, 1]),\n",
       " (2, [0, 0, 1]),\n",
       " (3, [0, 1]),\n",
       " (4, [1])]"
      ]
     },
     "execution_count": 4,
     "metadata": {},
     "output_type": "execute_result"
    }
   ],
   "source": [
    "LEFT = 0\n",
    "RIGHT = 1\n",
    "\n",
    "def walk(snailfish, address=None):\n",
    "    \"\"\"Depth first walk.\n",
    "    \n",
    "    Yields value and address of each ordinary number.\n",
    "    \"\"\"\n",
    "    if address is None:\n",
    "        address = []\n",
    "    try:\n",
    "        left, right = snailfish\n",
    "        yield from walk(left, address=address + [LEFT])\n",
    "        yield from walk(right, address=address + [RIGHT])\n",
    "    except TypeError:\n",
    "        yield snailfish, address\n",
    "\n",
    "list(walk([[[[[9,8],1],2],3],4]))"
   ]
  },
  {
   "cell_type": "markdown",
   "id": "6a89e2fa-bc43-4745-bf44-4901e0287444",
   "metadata": {},
   "source": [
    "Test exploding examples."
   ]
  },
  {
   "cell_type": "code",
   "execution_count": 5,
   "id": "e49fa895-403f-4ba4-8dfa-bf23b0178c06",
   "metadata": {},
   "outputs": [],
   "source": [
    "def explode(snailfish):\n",
    "    \"\"\"Explodes snailfish (in-place).\n",
    "    \n",
    "    Returns True if exploded.\"\"\"\n",
    "    # Track previously visited address so it can be incremented once exploded.\n",
    "    prev_address = None\n",
    "    # Note address of exploding pair (not value in pair).\n",
    "    exploding_address = None\n",
    "    for value, address in walk(snailfish):\n",
    "        # If a pair has exploded, increment the next value by the right side's value.\n",
    "        if exploding_address and exploding_address + [RIGHT] != address:\n",
    "            lookup(snailfish, address[:-1])[address[-1]] += lookup(snailfish, exploding_address + [RIGHT])\n",
    "            break\n",
    "            \n",
    "        # The address will exceed length 4 on left value of exploding pair.\n",
    "        if len(address) > 4 and address[-1] == LEFT:\n",
    "            exploding_address = address[:-1]\n",
    "            if prev_address:\n",
    "                lookup(snailfish, prev_address[:-1])[prev_address[-1]] += value\n",
    "                \n",
    "        prev_address = address\n",
    "\n",
    "    # Replace exploding pair with 0.\n",
    "    if exploding_address:\n",
    "        lookup(snailfish, exploding_address[:-1])[exploding_address[-1]] = 0\n",
    "        return True\n",
    "    else:\n",
    "        return False\n",
    "\n",
    "snailfish = [[[[[9,8],1],2],3],4]\n",
    "explode(snailfish)\n",
    "assert snailfish == [[[[0,9],2],3],4]\n",
    "\n",
    "snailfish = [7,[6,[5,[4,[3,2]]]]]  \n",
    "explode(snailfish)\n",
    "assert snailfish == [7,[6,[5,[7,0]]]]\n",
    "\n",
    "snailfish = [[6,[5,[4,[3,2]]]],1]\n",
    "explode(snailfish)\n",
    "assert snailfish == [[6,[5,[7,0]]],3]\n",
    "\n",
    "snailfish = [[3,[2,[1,[7,3]]]],[6,[5,[4,[3,2]]]]]\n",
    "explode(snailfish)\n",
    "assert snailfish == [[3,[2,[8,0]]],[9,[5,[4,[3,2]]]]]\n",
    "\n",
    "snailfish = [[3,[2,[8,0]]],[9,[5,[4,[3,2]]]]]\n",
    "explode(snailfish)\n",
    "assert snailfish == [[3,[2,[8,0]]],[9,[5,[7,0]]]]"
   ]
  },
  {
   "cell_type": "markdown",
   "id": "0a2d51c9-6963-4bc8-94af-2d8b91ffffe2",
   "metadata": {},
   "source": [
    "Test split examples."
   ]
  },
  {
   "cell_type": "code",
   "execution_count": 6,
   "id": "46a779e7-57b0-4976-8b06-a708296e5c75",
   "metadata": {},
   "outputs": [],
   "source": [
    "def split(snailfish):\n",
    "    \"\"\"\"\"\"\n",
    "    for value, address in walk(snailfish):\n",
    "        if value >= 10:\n",
    "            lookup(snailfish, address[:-1])[address[-1]] = [value // 2, value - value // 2]\n",
    "            return True\n",
    "    else:\n",
    "        return False\n",
    "\n",
    "snailfish = [10, 1] \n",
    "split(snailfish)\n",
    "assert snailfish == [[5,5],1]\n",
    "\n",
    "snailfish = [11, 1] \n",
    "split(snailfish)\n",
    "assert snailfish == [[5,6],1]\n",
    "\n",
    "snailfish = [12, 1] \n",
    "split(snailfish)\n",
    "assert snailfish == [[6,6],1]"
   ]
  },
  {
   "cell_type": "markdown",
   "id": "b788cbc6-ea02-4657-bfe5-fe5d73eff5dc",
   "metadata": {},
   "source": [
    "Test addition."
   ]
  },
  {
   "cell_type": "code",
   "execution_count": 7,
   "id": "a99618c5-cfd3-40fb-82ca-3775611f31a6",
   "metadata": {},
   "outputs": [],
   "source": [
    "import copy\n",
    "\n",
    "def add(left, right):\n",
    "    \"\"\"Returns the addition of two snailfish numbers.\"\"\"\n",
    "    snailfish = [copy.deepcopy(left), copy.deepcopy(right)]\n",
    "    while explode(snailfish) or split(snailfish):\n",
    "        pass\n",
    "    return snailfish\n",
    "\n",
    "assert add([1,2], [[3,4],5]) == [[1,2],[[3,4],5]]\n",
    "assert add([[[[4,3],4],4],[7,[[8,4],9]]], [1,1]) == [[[[0,7],4],[[7,8],[6,0]]],[8,1]]"
   ]
  },
  {
   "cell_type": "markdown",
   "id": "a8fc11aa-d1fd-48b1-adbe-b1d2caa2509b",
   "metadata": {},
   "source": [
    "Test summation."
   ]
  },
  {
   "cell_type": "code",
   "execution_count": 8,
   "id": "e942edb3-b999-4d6e-acfb-65bcc83dddbf",
   "metadata": {},
   "outputs": [],
   "source": [
    "def sum(snailfishies):\n",
    "    \"\"\"Returns summation of snailfishies.\"\"\"\n",
    "    total = snailfishies[0]\n",
    "    [total := add(total, snailfish) for snailfish in snailfishies[1:]]\n",
    "    return total\n",
    "\n",
    "assert sum(parse(\"\"\"[1,1]\n",
    "[2,2]\n",
    "[3,3]\n",
    "[4,4]\"\"\")) == [[[[1,1],[2,2]],[3,3]],[4,4]]\n",
    "\n",
    "assert sum(parse(\"\"\"[1,1]\n",
    "[2,2]\n",
    "[3,3]\n",
    "[4,4]\n",
    "[5,5]\"\"\")) == [[[[3,0],[5,3]],[4,4]],[5,5]]\n",
    "\n",
    "assert sum(parse(\"\"\"[1,1]\n",
    "[2,2]\n",
    "[3,3]\n",
    "[4,4]\n",
    "[5,5]\n",
    "[6,6]\"\"\")) == [[[[5,0],[7,4]],[5,5]],[6,6]]\n",
    "\n",
    "assert sum(parse(\"\"\"[[[0,[4,5]],[0,0]],[[[4,5],[2,6]],[9,5]]]\n",
    "[7,[[[3,7],[4,3]],[[6,3],[8,8]]]]\n",
    "[[2,[[0,8],[3,4]]],[[[6,7],1],[7,[1,6]]]]\n",
    "[[[[2,4],7],[6,[0,5]]],[[[6,8],[2,8]],[[2,1],[4,5]]]]\n",
    "[7,[5,[[3,8],[1,4]]]]\n",
    "[[2,[2,2]],[8,[8,1]]]\n",
    "[2,9]\n",
    "[1,[[[9,3],9],[[9,0],[0,7]]]]\n",
    "[[[5,[7,4]],7],1]\n",
    "[[[[4,2],2],6],[8,7]]\"\"\")) == [[[[8,7],[7,7]],[[8,6],[7,7]]],[[[0,7],[6,6]],[8,7]]]"
   ]
  },
  {
   "cell_type": "markdown",
   "id": "96544114-f380-4ee4-8b3e-2760269b47d3",
   "metadata": {},
   "source": [
    "Test magnitude."
   ]
  },
  {
   "cell_type": "code",
   "execution_count": 9,
   "id": "2b69c2a5-ba26-412f-a907-5ab7a417f8e4",
   "metadata": {},
   "outputs": [],
   "source": [
    "def magnitude(snailfish):\n",
    "    \"\"\"Returns magnitude of snailfish number.\"\"\"\n",
    "    try:\n",
    "        left, right = snailfish\n",
    "    except TypeError:\n",
    "        return snailfish\n",
    "    \n",
    "    return 3 * magnitude(left) + 2 * magnitude(right)\n",
    " \n",
    "assert magnitude([9,1]) == 29\n",
    "assert magnitude([[1,2],[[3,4],5]]) == 143\n",
    "assert magnitude([[[[0,7],4],[[7,8],[6,0]]],[8,1]]) == 1384\n",
    "assert magnitude([[[[1,1],[2,2]],[3,3]],[4,4]]) == 445\n",
    "assert magnitude([[[[3,0],[5,3]],[4,4]],[5,5]]) == 791\n",
    "assert magnitude([[[[5,0],[7,4]],[5,5]],[6,6]]) == 1137\n",
    "assert magnitude([[[[8,7],[7,7]],[[8,6],[7,7]]],[[[0,7],[6,6]],[8,7]]]) == 3488"
   ]
  },
  {
   "cell_type": "markdown",
   "id": "e07e65d5-960e-4d13-b3c6-c5be9358ab2d",
   "metadata": {},
   "source": [
    "Compute magnitude of sum of example."
   ]
  },
  {
   "cell_type": "code",
   "execution_count": 10,
   "id": "c3e09854-4170-4ee8-8805-d772f255c505",
   "metadata": {},
   "outputs": [
    {
     "data": {
      "text/plain": [
       "4140"
      ]
     },
     "execution_count": 10,
     "metadata": {},
     "output_type": "execute_result"
    }
   ],
   "source": [
    "magnitude(sum(parse(example)))"
   ]
  },
  {
   "cell_type": "markdown",
   "id": "5666677b-deec-4d5b-8bcd-982cba5a7cd1",
   "metadata": {},
   "source": [
    "Compute magnitude of sum of input."
   ]
  },
  {
   "cell_type": "code",
   "execution_count": 11,
   "id": "d2a99daa-499d-4f7f-b247-0c9ef15a8a92",
   "metadata": {},
   "outputs": [
    {
     "data": {
      "text/plain": [
       "4176"
      ]
     },
     "execution_count": 11,
     "metadata": {},
     "output_type": "execute_result"
    }
   ],
   "source": [
    "magnitude(sum(parse(open('day-18-input.txt').read())))"
   ]
  },
  {
   "cell_type": "markdown",
   "id": "bbe669b4-282f-42f1-a6ba-088c5e1b8416",
   "metadata": {},
   "source": [
    "# Part two"
   ]
  },
  {
   "cell_type": "code",
   "execution_count": 12,
   "id": "cc3e7121-4298-43ef-a37d-6409669b4d0d",
   "metadata": {},
   "outputs": [
    {
     "data": {
      "text/plain": [
       "4633"
      ]
     },
     "execution_count": 12,
     "metadata": {},
     "output_type": "execute_result"
    }
   ],
   "source": [
    "import itertools\n",
    "\n",
    "# Find the maximum magnitude of the addition of all length-2 permutations in input.\n",
    "max([\n",
    "    magnitude(add(*permutation)) for permutation in \n",
    "    itertools.permutations(parse(open('day-18-input.txt').read()), r=2)\n",
    "])"
   ]
  }
 ],
 "metadata": {
  "kernelspec": {
   "display_name": "Python 3 (ipykernel)",
   "language": "python",
   "name": "python3"
  },
  "language_info": {
   "codemirror_mode": {
    "name": "ipython",
    "version": 3
   },
   "file_extension": ".py",
   "mimetype": "text/x-python",
   "name": "python",
   "nbconvert_exporter": "python",
   "pygments_lexer": "ipython3",
   "version": "3.8.5"
  }
 },
 "nbformat": 4,
 "nbformat_minor": 5
}
