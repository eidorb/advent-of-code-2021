{
 "cells": [
  {
   "cell_type": "markdown",
   "id": "1a05e40c-a59f-47b3-8135-610ea0bc8cd1",
   "metadata": {},
   "source": [
    "# Day 7: The Treachery of Whales"
   ]
  },
  {
   "cell_type": "code",
   "execution_count": 1,
   "id": "6ebe261a-180a-4f0a-ac3a-cb4c46600628",
   "metadata": {},
   "outputs": [],
   "source": [
    "example = '16,1,2,0,4,2,7,1,2,14'"
   ]
  },
  {
   "cell_type": "code",
   "execution_count": 2,
   "id": "57e836fb-a442-4adb-82cc-423e7aee3ca1",
   "metadata": {},
   "outputs": [
    {
     "data": {
      "text/plain": [
       "Counter({16: 1, 1: 2, 2: 3, 0: 1, 4: 1, 7: 1, 14: 1})"
      ]
     },
     "execution_count": 2,
     "metadata": {},
     "output_type": "execute_result"
    }
   ],
   "source": [
    "from collections import Counter\n",
    "\n",
    "def parse(input):\n",
    "    \"\"\"Parses crab positions from input.\"\"\"\n",
    "    return Counter(int(string) for string in input.strip().split(','))\n",
    "    \n",
    "parse(example)"
   ]
  },
  {
   "cell_type": "code",
   "execution_count": 3,
   "id": "4475ec6f-6e6b-46c4-a85c-1f91272602a2",
   "metadata": {},
   "outputs": [
    {
     "data": {
      "text/plain": [
       "{16: 14, 1: 2, 2: 0, 0: 2, 4: 2, 7: 5, 14: 12}"
      ]
     },
     "execution_count": 3,
     "metadata": {},
     "output_type": "execute_result"
    }
   ],
   "source": [
    "def align(crabs, position):\n",
    "    \"\"\"Returns fuel spent for to align crabs on position.\"\"\"\n",
    "    return {location: count * abs(location - position) for location, count in crabs.items()} \n",
    "\n",
    "align(parse(example), 2)"
   ]
  },
  {
   "cell_type": "markdown",
   "id": "85366a4b-115f-475f-b6b2-c27c1cc258aa",
   "metadata": {},
   "source": [
    "The total fuel cost of the example is correct. "
   ]
  },
  {
   "cell_type": "code",
   "execution_count": 4,
   "id": "db6b0d9e-20b3-4e9c-9d88-095943eae892",
   "metadata": {},
   "outputs": [
    {
     "data": {
      "text/plain": [
       "37"
      ]
     },
     "execution_count": 4,
     "metadata": {},
     "output_type": "execute_result"
    }
   ],
   "source": [
    "def cost(crabs, position):\n",
    "    \"\"\"Returns fuel cost of aligning crabs to position.\"\"\"\n",
    "    return sum(align(crabs, position).values())\n",
    "\n",
    "cost(parse(example), 2)"
   ]
  },
  {
   "cell_type": "markdown",
   "id": "21c24fc5-92fa-4651-9945-fdc801bae4dc",
   "metadata": {},
   "source": [
    "Fuel costs for positions 1 (41 fuel), position 3 (39 fuel), and position 10 (71 fuel) are correct."
   ]
  },
  {
   "cell_type": "code",
   "execution_count": 5,
   "id": "172e9704-c147-4cfb-b972-050eaeb59ba3",
   "metadata": {},
   "outputs": [
    {
     "name": "stdout",
     "output_type": "stream",
     "text": [
      "41\n",
      "39\n",
      "71\n"
     ]
    }
   ],
   "source": [
    "for position in 1, 3, 10:\n",
    "    print(cost(parse(example), position))"
   ]
  },
  {
   "cell_type": "markdown",
   "id": "0df3a0ef-0b78-4dba-b4a0-e0bf3281bcf2",
   "metadata": {},
   "source": [
    "Find total fuel costs for moves to all positions."
   ]
  },
  {
   "cell_type": "code",
   "execution_count": 6,
   "id": "b883c0ba-4e3c-468c-b328-8e98a18abd58",
   "metadata": {},
   "outputs": [
    {
     "data": {
      "text/plain": [
       "{0: 49,\n",
       " 1: 41,\n",
       " 2: 37,\n",
       " 3: 39,\n",
       " 4: 41,\n",
       " 5: 45,\n",
       " 6: 49,\n",
       " 7: 53,\n",
       " 8: 59,\n",
       " 9: 65,\n",
       " 10: 71,\n",
       " 11: 77,\n",
       " 12: 83,\n",
       " 13: 89,\n",
       " 14: 95,\n",
       " 15: 103,\n",
       " 16: 111}"
      ]
     },
     "execution_count": 6,
     "metadata": {},
     "output_type": "execute_result"
    }
   ],
   "source": [
    "def find_all_costs(crabs):\n",
    "    \"\"\"Returns costs of aligning crabs to all positions.\"\"\"\n",
    "    return {position: cost(crabs, position) for position in range(max(crabs) + 1)}\n",
    "\n",
    "find_all_costs(parse(example))"
   ]
  },
  {
   "cell_type": "markdown",
   "id": "01f803d1-9ad1-42de-8066-b23366dfc9eb",
   "metadata": {},
   "source": [
    "Find the minimum cost with input data. "
   ]
  },
  {
   "cell_type": "code",
   "execution_count": 7,
   "id": "c2a220b6-e97c-4d9b-9273-5a767617e6cb",
   "metadata": {},
   "outputs": [
    {
     "data": {
      "text/plain": [
       "328187"
      ]
     },
     "execution_count": 7,
     "metadata": {},
     "output_type": "execute_result"
    }
   ],
   "source": [
    "min(find_all_costs(parse(open('day-7-input.txt').read())).values())"
   ]
  },
  {
   "cell_type": "markdown",
   "id": "be3d2fdc-bd64-44ef-ab66-82bfed8519dd",
   "metadata": {},
   "source": [
    "# Part two"
   ]
  },
  {
   "cell_type": "markdown",
   "id": "b09b2273-7086-45db-ad02-2364f3512212",
   "metadata": {},
   "source": [
    "Moves further away are more costly."
   ]
  },
  {
   "cell_type": "code",
   "execution_count": 8,
   "id": "eb46c731-c1cd-4580-87e3-54ee5c79d32d",
   "metadata": {},
   "outputs": [
    {
     "data": {
      "text/plain": [
       "{16: 66, 1: 20, 2: 18, 0: 15, 4: 1, 7: 3, 14: 45}"
      ]
     },
     "execution_count": 8,
     "metadata": {},
     "output_type": "execute_result"
    }
   ],
   "source": [
    "def align2(crabs, position):\n",
    "    \"\"\"Returns fuel spent for to align crabs on position.\"\"\"\n",
    "    return {location: count * sum(range(abs(location - position) + 1)) for location, count in crabs.items()} \n",
    "\n",
    "align2(parse(example), 5)"
   ]
  },
  {
   "cell_type": "markdown",
   "id": "f19e7189-9161-440e-8e9f-b9cc16a71043",
   "metadata": {},
   "source": [
    "The cheapest fuel cost is now greater."
   ]
  },
  {
   "cell_type": "code",
   "execution_count": 9,
   "id": "738ff367-faa0-4e90-acfa-9380fc0d6bfd",
   "metadata": {},
   "outputs": [
    {
     "data": {
      "text/plain": [
       "168"
      ]
     },
     "execution_count": 9,
     "metadata": {},
     "output_type": "execute_result"
    }
   ],
   "source": [
    "def cost2(crabs, position):\n",
    "    \"\"\"Returns fuel cost of aligning crabs to position.\"\"\"\n",
    "    return sum(align2(crabs, position).values())\n",
    "\n",
    "cost2(parse(example), 5)"
   ]
  },
  {
   "cell_type": "markdown",
   "id": "fb67b866-fca1-4198-891c-3354b0193dfe",
   "metadata": {},
   "source": [
    "The old position costs more too."
   ]
  },
  {
   "cell_type": "code",
   "execution_count": 10,
   "id": "72e41475-1cff-498b-9a02-329beefe3b66",
   "metadata": {},
   "outputs": [
    {
     "data": {
      "text/plain": [
       "206"
      ]
     },
     "execution_count": 10,
     "metadata": {},
     "output_type": "execute_result"
    }
   ],
   "source": [
    "cost2(parse(example), 2)"
   ]
  },
  {
   "cell_type": "markdown",
   "id": "1c6a8948-5e93-471b-b313-f442bed9adbc",
   "metadata": {},
   "source": [
    "Find total fuel costs for moves to all positions."
   ]
  },
  {
   "cell_type": "code",
   "execution_count": 11,
   "id": "2682834f-2332-4f5c-847c-9fe028d7c40f",
   "metadata": {},
   "outputs": [
    {
     "data": {
      "text/plain": [
       "{0: 290,\n",
       " 1: 242,\n",
       " 2: 206,\n",
       " 3: 183,\n",
       " 4: 170,\n",
       " 5: 168,\n",
       " 6: 176,\n",
       " 7: 194,\n",
       " 8: 223,\n",
       " 9: 262,\n",
       " 10: 311,\n",
       " 11: 370,\n",
       " 12: 439,\n",
       " 13: 518,\n",
       " 14: 607,\n",
       " 15: 707,\n",
       " 16: 817}"
      ]
     },
     "execution_count": 11,
     "metadata": {},
     "output_type": "execute_result"
    }
   ],
   "source": [
    "def find_all_costs2(crabs):\n",
    "    \"\"\"Returns costs of aligning crabs to all positions.\"\"\"\n",
    "    return {position: cost2(crabs, position) for position in range(max(crabs) + 1)}\n",
    "\n",
    "find_all_costs2(parse(example))"
   ]
  },
  {
   "cell_type": "markdown",
   "id": "62b3f6d1-47a0-48a4-807d-d40c039d5c6d",
   "metadata": {},
   "source": [
    "Find the new minimum cost with input data. "
   ]
  },
  {
   "cell_type": "code",
   "execution_count": 12,
   "id": "e9563143-0ae7-414a-9e31-df11be3540f0",
   "metadata": {},
   "outputs": [
    {
     "data": {
      "text/plain": [
       "91257582"
      ]
     },
     "execution_count": 12,
     "metadata": {},
     "output_type": "execute_result"
    }
   ],
   "source": [
    "min(find_all_costs2(parse(open('day-7-input.txt').read())).values())"
   ]
  }
 ],
 "metadata": {
  "kernelspec": {
   "display_name": "Python 3 (ipykernel)",
   "language": "python",
   "name": "python3"
  },
  "language_info": {
   "codemirror_mode": {
    "name": "ipython",
    "version": 3
   },
   "file_extension": ".py",
   "mimetype": "text/x-python",
   "name": "python",
   "nbconvert_exporter": "python",
   "pygments_lexer": "ipython3",
   "version": "3.8.5"
  }
 },
 "nbformat": 4,
 "nbformat_minor": 5
}
