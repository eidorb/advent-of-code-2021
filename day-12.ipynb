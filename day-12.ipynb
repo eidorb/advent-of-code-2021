{
 "cells": [
  {
   "cell_type": "markdown",
   "id": "d6b623cb-17c1-4fe6-9533-8d90a3dc9b7b",
   "metadata": {},
   "source": [
    "# Day 12: Passage Pathing"
   ]
  },
  {
   "cell_type": "code",
   "execution_count": 1,
   "id": "3f68f69c-617c-4dc8-9ade-838f0c1f4fb7",
   "metadata": {},
   "outputs": [],
   "source": [
    "example = \"\"\"start-A\n",
    "start-b\n",
    "A-c\n",
    "A-b\n",
    "b-d\n",
    "A-end\n",
    "b-end\"\"\""
   ]
  },
  {
   "cell_type": "code",
   "execution_count": 2,
   "id": "5513b107-b2c5-45cd-bd7e-fce54edfe0fd",
   "metadata": {},
   "outputs": [
    {
     "data": {
      "text/plain": [
       "EdgeView([('start', 'A'), ('start', 'b'), ('A', 'c'), ('A', 'b'), ('A', 'end'), ('b', 'd'), ('b', 'end')])"
      ]
     },
     "execution_count": 2,
     "metadata": {},
     "output_type": "execute_result"
    }
   ],
   "source": [
    "import networkx as nx\n",
    "\n",
    "def parse(input):\n",
    "    \"\"\"Parses graph from input.\"\"\"\n",
    "    return nx.from_edgelist(line.split('-') for line in input.splitlines())\n",
    "\n",
    "parse(example).edges"
   ]
  },
  {
   "cell_type": "markdown",
   "id": "590a3023-f025-4235-9999-cfd4eef1b405",
   "metadata": {},
   "source": [
    "There are 10 paths in example."
   ]
  },
  {
   "cell_type": "code",
   "execution_count": 3,
   "id": "f2dbf0f5-e22e-4bfb-af5f-7f92c026e95c",
   "metadata": {},
   "outputs": [
    {
     "data": {
      "text/plain": [
       "10"
      ]
     },
     "execution_count": 3,
     "metadata": {},
     "output_type": "execute_result"
    }
   ],
   "source": [
    "import math\n",
    "\n",
    "def determine_paths(graph):\n",
    "    \"\"\"Returns paths through caves in graph.\"\"\"\n",
    "    # Set remaining cave visits.\n",
    "    remaining = {}\n",
    "    for cave in graph:\n",
    "        if cave == 'start':\n",
    "            remaining[cave] = 0\n",
    "        elif cave.isupper():\n",
    "            # Big caves can be visited any number of times.\n",
    "            remaining[cave] = math.inf\n",
    "        else:\n",
    "            # Small caves can only be visited once.\n",
    "            remaining[cave] = 1\n",
    "\n",
    "    # Incomplete maps incomplete paths to remaining visits.\n",
    "    incomplete = {('start',): remaining}\n",
    "\n",
    "    # Holds complete paths from start to end.\n",
    "    complete = set()\n",
    "\n",
    "    while incomplete:\n",
    "        path, remaining = incomplete.popitem()\n",
    "\n",
    "        # Mark if path complete.\n",
    "        if path[-1] == 'end':\n",
    "            complete.add(path)\n",
    "        else:\n",
    "            for neighbour in graph[path[-1]]:\n",
    "                if remaining[neighbour] > 0:\n",
    "                    incomplete[path + (neighbour,)] = remaining.copy()\n",
    "                    incomplete[path + (neighbour,)][neighbour] -= 1\n",
    "    return complete\n",
    "                \n",
    "len(determine_paths(parse(example)))"
   ]
  },
  {
   "cell_type": "markdown",
   "id": "08cd3335-e703-4613-8d2d-ec5044f6fb17",
   "metadata": {},
   "source": [
    "There are 19 paths in the slightly larger example."
   ]
  },
  {
   "cell_type": "code",
   "execution_count": 4,
   "id": "e431acc0-a8b1-4d1d-9715-84cce0d7f825",
   "metadata": {},
   "outputs": [
    {
     "data": {
      "text/plain": [
       "19"
      ]
     },
     "execution_count": 4,
     "metadata": {},
     "output_type": "execute_result"
    }
   ],
   "source": [
    "slightly_larger_example=\"\"\"dc-end\n",
    "HN-start\n",
    "start-kj\n",
    "dc-start\n",
    "dc-HN\n",
    "LN-dc\n",
    "HN-end\n",
    "kj-sa\n",
    "kj-HN\n",
    "kj-dc\"\"\"\n",
    "\n",
    "len(determine_paths(parse(slightly_larger_example)))"
   ]
  },
  {
   "cell_type": "markdown",
   "id": "79b57f19-44fc-40f2-a269-51e8e61c8172",
   "metadata": {},
   "source": [
    "There are 226 paths in the even larger example."
   ]
  },
  {
   "cell_type": "code",
   "execution_count": 5,
   "id": "d1f82076-420a-4393-a868-b7b8ff7d67ee",
   "metadata": {},
   "outputs": [
    {
     "data": {
      "text/plain": [
       "226"
      ]
     },
     "execution_count": 5,
     "metadata": {},
     "output_type": "execute_result"
    }
   ],
   "source": [
    "even_larger_example=\"\"\"fs-end\n",
    "he-DX\n",
    "fs-he\n",
    "start-DX\n",
    "pj-DX\n",
    "end-zg\n",
    "zg-sl\n",
    "zg-pj\n",
    "pj-he\n",
    "RW-he\n",
    "fs-DX\n",
    "pj-RW\n",
    "zg-RW\n",
    "start-pj\n",
    "he-WI\n",
    "zg-he\n",
    "pj-fs\n",
    "start-RW\"\"\"\n",
    "\n",
    "len(determine_paths(parse(even_larger_example)))"
   ]
  },
  {
   "cell_type": "markdown",
   "id": "319fcace-63df-4aff-af6b-e1c408c8baf7",
   "metadata": {},
   "source": [
    "Determine number of paths in input."
   ]
  },
  {
   "cell_type": "code",
   "execution_count": 6,
   "id": "b4b21ade-9475-4ed8-a32c-4190d67e76ba",
   "metadata": {},
   "outputs": [
    {
     "data": {
      "text/plain": [
       "3298"
      ]
     },
     "execution_count": 6,
     "metadata": {},
     "output_type": "execute_result"
    }
   ],
   "source": [
    "len(determine_paths(parse(open('day-12-input.txt').read())))"
   ]
  },
  {
   "cell_type": "markdown",
   "id": "25890077-2bc8-406e-82b8-692970f0d949",
   "metadata": {},
   "source": [
    "# Part two"
   ]
  },
  {
   "cell_type": "code",
   "execution_count": 7,
   "id": "b380a7d2-1121-44ff-900d-e63d28006463",
   "metadata": {},
   "outputs": [
    {
     "data": {
      "text/plain": [
       "36"
      ]
     },
     "execution_count": 7,
     "metadata": {},
     "output_type": "execute_result"
    }
   ],
   "source": [
    "import math\n",
    "\n",
    "def determine_paths2(graph):\n",
    "    \"\"\"Returns paths through caves in graph, where one small cave can be visited twice.\"\"\"\n",
    "    # Set remaining cave visits.\n",
    "    remaining = {}\n",
    "    for cave in graph:\n",
    "        if cave == 'start':\n",
    "            remaining[cave] = 0\n",
    "        elif cave.isupper():\n",
    "            # Big caves can be visited any number of times.\n",
    "            remaining[cave] = math.inf\n",
    "        else:\n",
    "            # Small caves can only be visited once.\n",
    "            remaining[cave] = 1\n",
    "\n",
    "    # List of (incomplete path, remaining visits, small cave status) tuples.\n",
    "    incomplete = [(('start',), remaining, False)]\n",
    "\n",
    "    # Holds complete paths from start to end.\n",
    "    complete = set()\n",
    "\n",
    "    while incomplete:\n",
    "        path, remaining, visited_small_cave_twice = incomplete.pop()\n",
    "\n",
    "        # Mark if path complete.\n",
    "        if path[-1] == 'end':\n",
    "            complete.add(path)\n",
    "        else:\n",
    "            for neighbour in graph[path[-1]]:\n",
    "                if remaining[neighbour] > 0:\n",
    "                    new_remaining = remaining.copy()\n",
    "                    new_remaining[path[-1]] -= 1\n",
    "                    incomplete.append((path + (neighbour,), new_remaining, visited_small_cave_twice))\n",
    "                    \n",
    "                    # Extra logic for double visit.\n",
    "                    if not visited_small_cave_twice and path[-1].islower() and path[-1] != 'end':\n",
    "                        incomplete.append((path + (neighbour,), remaining, True))\n",
    "#         print(complete)\n",
    "\n",
    "    return complete\n",
    "                \n",
    "len(determine_paths2(parse(example)))"
   ]
  },
  {
   "cell_type": "code",
   "execution_count": 8,
   "id": "dbcb34d2-1c39-4a5a-83e1-883941642a56",
   "metadata": {},
   "outputs": [
    {
     "data": {
      "text/plain": [
       "103"
      ]
     },
     "execution_count": 8,
     "metadata": {},
     "output_type": "execute_result"
    }
   ],
   "source": [
    "len(determine_paths2(parse(slightly_larger_example)))"
   ]
  },
  {
   "cell_type": "code",
   "execution_count": 9,
   "id": "e8993f28-9d1d-480b-8385-763ef2cb41f3",
   "metadata": {},
   "outputs": [
    {
     "data": {
      "text/plain": [
       "3509"
      ]
     },
     "execution_count": 9,
     "metadata": {},
     "output_type": "execute_result"
    }
   ],
   "source": [
    "len(determine_paths2(parse(even_larger_example)))"
   ]
  },
  {
   "cell_type": "code",
   "execution_count": 10,
   "id": "4bdb3cae-37df-4f8e-b797-e30c57028a25",
   "metadata": {},
   "outputs": [
    {
     "data": {
      "text/plain": [
       "93572"
      ]
     },
     "execution_count": 10,
     "metadata": {},
     "output_type": "execute_result"
    }
   ],
   "source": [
    "len(determine_paths2(parse(open('day-12-input.txt').read())))"
   ]
  }
 ],
 "metadata": {
  "kernelspec": {
   "display_name": "Python 3 (ipykernel)",
   "language": "python",
   "name": "python3"
  },
  "language_info": {
   "codemirror_mode": {
    "name": "ipython",
    "version": 3
   },
   "file_extension": ".py",
   "mimetype": "text/x-python",
   "name": "python",
   "nbconvert_exporter": "python",
   "pygments_lexer": "ipython3",
   "version": "3.8.5"
  }
 },
 "nbformat": 4,
 "nbformat_minor": 5
}
