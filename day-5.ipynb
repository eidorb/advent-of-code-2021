{
 "cells": [
  {
   "cell_type": "markdown",
   "id": "e2e3f7ed-e905-4e9a-a35e-ea093970de6f",
   "metadata": {},
   "source": [
    "# Day 5: Hydrothermal Venture"
   ]
  },
  {
   "cell_type": "code",
   "execution_count": 1,
   "id": "ba6e99aa-e82c-4c42-b77f-27f6efc39e92",
   "metadata": {},
   "outputs": [],
   "source": [
    "example = \"\"\"0,9 -> 5,9\n",
    "8,0 -> 0,8\n",
    "9,4 -> 3,4\n",
    "2,2 -> 2,1\n",
    "7,0 -> 7,4\n",
    "6,4 -> 2,0\n",
    "0,9 -> 2,9\n",
    "3,4 -> 1,4\n",
    "0,0 -> 8,8\n",
    "5,5 -> 8,2\n",
    "\"\"\""
   ]
  },
  {
   "cell_type": "code",
   "execution_count": 2,
   "id": "7f4f4d84-b06a-464e-af8c-40bb8e5dcadc",
   "metadata": {},
   "outputs": [
    {
     "data": {
      "text/plain": [
       "[(0, 9, 5, 9),\n",
       " (8, 0, 0, 8),\n",
       " (9, 4, 3, 4),\n",
       " (2, 2, 2, 1),\n",
       " (7, 0, 7, 4),\n",
       " (6, 4, 2, 0),\n",
       " (0, 9, 2, 9),\n",
       " (3, 4, 1, 4),\n",
       " (0, 0, 8, 8),\n",
       " (5, 5, 8, 2)]"
      ]
     },
     "execution_count": 2,
     "metadata": {},
     "output_type": "execute_result"
    }
   ],
   "source": [
    "def parse(input):\n",
    "    \"\"\"Returns a sequence (x1, y1, x2, y2) coordinates from input.\"\"\"\n",
    "    return [\n",
    "        tuple(int(string) for string in start.split(',') + end.split(','))\n",
    "        for start, _, end in zip(*[iter(input.split())] * 3)\n",
    "    ]\n",
    "         \n",
    "parse(example)"
   ]
  },
  {
   "cell_type": "code",
   "execution_count": 3,
   "id": "4d4813f7-f9d7-4eb9-ba50-045186d7db30",
   "metadata": {},
   "outputs": [
    {
     "data": {
      "text/plain": [
       "[[0, 0, 0, 0, 0, 0, 0, 1, 0, 0],\n",
       " [0, 0, 1, 0, 0, 0, 0, 1, 0, 0],\n",
       " [0, 0, 1, 0, 0, 0, 0, 1, 0, 0],\n",
       " [0, 0, 0, 0, 0, 0, 0, 1, 0, 0],\n",
       " [0, 1, 1, 2, 1, 1, 1, 2, 1, 1],\n",
       " [0, 0, 0, 0, 0, 0, 0, 0, 0, 0],\n",
       " [0, 0, 0, 0, 0, 0, 0, 0, 0, 0],\n",
       " [0, 0, 0, 0, 0, 0, 0, 0, 0, 0],\n",
       " [0, 0, 0, 0, 0, 0, 0, 0, 0, 0],\n",
       " [2, 2, 2, 1, 1, 1, 0, 0, 0, 0]]"
      ]
     },
     "execution_count": 3,
     "metadata": {},
     "output_type": "execute_result"
    }
   ],
   "source": [
    "def draw(lines):\n",
    "    \"\"\"Returns lines drawn on a grid.\"\"\"\n",
    "    # Create an empty grid large enough to hold all lines.\n",
    "    flattened = [num for line in lines for num in line]\n",
    "    max_x = max(flattened[::2])\n",
    "    max_y = max(flattened[1::2])\n",
    "    \n",
    "    # The grid is a list (ys) of lists (xs).\n",
    "    grid = [[0 for _ in range(max_x + 1)] for _ in range(max_y + 1)]\n",
    "\n",
    "    ranges = [(\n",
    "        # x1 -> x2\n",
    "        range(x1, x2 + 1) if x2 >= x1 else range(x1, x2 - 1, -1),\n",
    "        # y1 -> y2\n",
    "        range(y1, y2 + 1) if y2 >= y1 else range(y1, y2 - 1, -1)\n",
    "    ) \n",
    "        for x1, y1, x2, y2 in lines\n",
    "        # Consider purely horizontal or vertical lines only.\n",
    "        if x1 == x2 or y1 == y2\n",
    "    ]\n",
    "    \n",
    "    # Draw lines.\n",
    "    for x_range, y_range in ranges:\n",
    "        for x in x_range:\n",
    "            for y in y_range:\n",
    "                # y first, to select the column.\n",
    "                grid[y][x] += 1\n",
    "                \n",
    "    return grid\n",
    "\n",
    "draw(parse(example))"
   ]
  },
  {
   "cell_type": "markdown",
   "id": "d460851f-9b01-4cc3-8607-d3e0b3158bc9",
   "metadata": {},
   "source": [
    "The danger rating is correct for example data."
   ]
  },
  {
   "cell_type": "code",
   "execution_count": 4,
   "id": "72c9a32e-57ab-46b1-b94c-bb690a0df44b",
   "metadata": {},
   "outputs": [
    {
     "data": {
      "text/plain": [
       "5"
      ]
     },
     "execution_count": 4,
     "metadata": {},
     "output_type": "execute_result"
    }
   ],
   "source": [
    "def rate_danger(grid):\n",
    "    \"\"\"Returns number of points in grid >= 2.\"\"\"\n",
    "    return len([value for row in grid for value in row if value >= 2])\n",
    "    \n",
    "rate_danger(draw(parse(example)))"
   ]
  },
  {
   "cell_type": "markdown",
   "id": "7a85d0ef-4879-403b-8ac0-ddcf8d5977f9",
   "metadata": {},
   "source": [
    "Try it on input data."
   ]
  },
  {
   "cell_type": "code",
   "execution_count": 5,
   "id": "2473dba3-bacf-4969-9470-910f6ce6f4d6",
   "metadata": {},
   "outputs": [
    {
     "data": {
      "text/plain": [
       "5698"
      ]
     },
     "execution_count": 5,
     "metadata": {},
     "output_type": "execute_result"
    }
   ],
   "source": [
    "rate_danger(draw(parse(open('day-5-input.txt').read())))"
   ]
  },
  {
   "cell_type": "markdown",
   "id": "f8dbbcc7-04fd-4041-94d5-83d60d089818",
   "metadata": {},
   "source": [
    "# Part two"
   ]
  },
  {
   "cell_type": "markdown",
   "id": "9d69a112-892a-4c0e-be14-dcc61cf9c42f",
   "metadata": {},
   "source": [
    "The new diagonal drawing function looks good on example data. "
   ]
  },
  {
   "cell_type": "code",
   "execution_count": 6,
   "id": "ad045e17-f968-4520-9508-d0a0e90b633d",
   "metadata": {},
   "outputs": [
    {
     "data": {
      "text/plain": [
       "[[1, 0, 1, 0, 0, 0, 0, 1, 1, 0],\n",
       " [0, 1, 1, 1, 0, 0, 0, 2, 0, 0],\n",
       " [0, 0, 2, 0, 1, 0, 1, 1, 1, 0],\n",
       " [0, 0, 0, 1, 0, 2, 0, 2, 0, 0],\n",
       " [0, 1, 1, 2, 3, 1, 3, 2, 1, 1],\n",
       " [0, 0, 0, 1, 0, 2, 0, 0, 0, 0],\n",
       " [0, 0, 1, 0, 0, 0, 1, 0, 0, 0],\n",
       " [0, 1, 0, 0, 0, 0, 0, 1, 0, 0],\n",
       " [1, 0, 0, 0, 0, 0, 0, 0, 1, 0],\n",
       " [2, 2, 2, 1, 1, 1, 0, 0, 0, 0]]"
      ]
     },
     "execution_count": 6,
     "metadata": {},
     "output_type": "execute_result"
    }
   ],
   "source": [
    "def draw_with_diagonals(lines):\n",
    "    \"\"\"Returns lines drawn on a grid.\"\"\"\n",
    "    # Create an empty grid large enough to hold all lines.\n",
    "    flattened = [num for line in lines for num in line]\n",
    "    max_x = max(flattened[::2])\n",
    "    max_y = max(flattened[1::2])\n",
    "    \n",
    "    # The grid is a list (ys) of lists (xs).\n",
    "    grid = [[0 for _ in range(max_x + 1)] for _ in range(max_y + 1)]\n",
    "\n",
    "    ranges = [(\n",
    "        # x1 -> x2\n",
    "        range(x1, x2 + 1) if x2 >= x1 else range(x1, x2 - 1, -1),\n",
    "        # y1 -> y2\n",
    "        range(y1, y2 + 1) if y2 >= y1 else range(y1, y2 - 1, -1)\n",
    "    ) \n",
    "        for x1, y1, x2, y2 in lines\n",
    "        # Consider purely horizontal or vertical lines only.\n",
    "#         if x1 == x2 or y1 == y2\n",
    "    ]\n",
    "    \n",
    "    \n",
    "    # Draw lines.\n",
    "    for x_range, y_range in ranges:\n",
    "        if len(x_range) == 1:\n",
    "            x_range = list(x_range) * len(y_range)\n",
    "        elif len(y_range) == 1:\n",
    "            y_range = list(y_range) * len(x_range)\n",
    "        for x, y in zip(x_range, y_range):\n",
    "            # y first, to select the column.\n",
    "            grid[y][x] += 1\n",
    "                \n",
    "    return grid\n",
    "\n",
    "draw_with_diagonals(parse(example))"
   ]
  },
  {
   "cell_type": "markdown",
   "id": "d8fbff22-9c5f-4dcd-9a34-af93efb245f2",
   "metadata": {},
   "source": [
    "The example rating is correct too."
   ]
  },
  {
   "cell_type": "code",
   "execution_count": 7,
   "id": "38de2da5-a225-4ff4-9fd6-dc3c51f23f33",
   "metadata": {},
   "outputs": [
    {
     "data": {
      "text/plain": [
       "12"
      ]
     },
     "execution_count": 7,
     "metadata": {},
     "output_type": "execute_result"
    }
   ],
   "source": [
    "rate_danger(draw_with_diagonals(parse(example)))"
   ]
  },
  {
   "cell_type": "markdown",
   "id": "a66df808-1823-46ad-b2ab-7327269490c1",
   "metadata": {},
   "source": [
    "Try it on input data."
   ]
  },
  {
   "cell_type": "code",
   "execution_count": 8,
   "id": "a585a499-3b7e-4a04-b44e-72c3c3d4c106",
   "metadata": {},
   "outputs": [
    {
     "data": {
      "text/plain": [
       "15463"
      ]
     },
     "execution_count": 8,
     "metadata": {},
     "output_type": "execute_result"
    }
   ],
   "source": [
    "rate_danger(draw_with_diagonals(parse(open('day-5-input.txt').read())))"
   ]
  }
 ],
 "metadata": {
  "kernelspec": {
   "display_name": "Python 3 (ipykernel)",
   "language": "python",
   "name": "python3"
  },
  "language_info": {
   "codemirror_mode": {
    "name": "ipython",
    "version": 3
   },
   "file_extension": ".py",
   "mimetype": "text/x-python",
   "name": "python",
   "nbconvert_exporter": "python",
   "pygments_lexer": "ipython3",
   "version": "3.8.5"
  }
 },
 "nbformat": 4,
 "nbformat_minor": 5
}
