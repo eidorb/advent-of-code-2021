{
 "cells": [
  {
   "cell_type": "markdown",
   "id": "fe99efb2-5fcc-4515-8ee1-aa37f0fc27c4",
   "metadata": {},
   "source": [
    "# Day 2"
   ]
  },
  {
   "cell_type": "code",
   "execution_count": 1,
   "id": "ce3b4360-43b2-4eea-8109-93c6041f88a0",
   "metadata": {},
   "outputs": [
    {
     "data": {
      "text/plain": [
       "['00100',\n",
       " '11110',\n",
       " '10110',\n",
       " '10111',\n",
       " '10101',\n",
       " '01111',\n",
       " '00111',\n",
       " '11100',\n",
       " '10000',\n",
       " '11001',\n",
       " '00010',\n",
       " '01010']"
      ]
     },
     "execution_count": 1,
     "metadata": {},
     "output_type": "execute_result"
    }
   ],
   "source": [
    "example = \"\"\"\n",
    "00100\n",
    "11110\n",
    "10110\n",
    "10111\n",
    "10101\n",
    "01111\n",
    "00111\n",
    "11100\n",
    "10000\n",
    "11001\n",
    "00010\n",
    "01010\n",
    "\"\"\".split()\n",
    "example"
   ]
  },
  {
   "cell_type": "code",
   "execution_count": 2,
   "id": "a86d8618-addc-4c97-bb0d-184cddfa596f",
   "metadata": {},
   "outputs": [],
   "source": [
    "from collections import Counter\n",
    "\n",
    "def compute_gamma(report):\n",
    "    \"\"\"Computes gamma and bit mask from sequence of bit strings.\"\"\"\n",
    "    # Columns of bits.\n",
    "    columns = zip(*report)\n",
    "    \n",
    "    # Frequency of bit values.\n",
    "    bit_counts = [Counter(column) for column in columns]\n",
    "    \n",
    "    # Gamma is sum of bitshifted most common bits. i.e., if most common column 3\n",
    "    # bit is 1, its value is 2^3, or 8.\n",
    "    return sum(\n",
    "        # Bitshift most common bit by its column index.\n",
    "        (counter['1'] >= counter['0']) << index \n",
    "        for index, counter in enumerate(reversed(bit_counts))\n",
    "    )"
   ]
  },
  {
   "cell_type": "markdown",
   "id": "1f29b8b2-c1c5-4f77-8c05-bb5c41d29515",
   "metadata": {},
   "source": [
    "Gamma is computed correctly on the example."
   ]
  },
  {
   "cell_type": "code",
   "execution_count": 3,
   "id": "b1d3021f-f9a2-4838-91a2-e7b137f58f15",
   "metadata": {},
   "outputs": [
    {
     "data": {
      "text/plain": [
       "22"
      ]
     },
     "execution_count": 3,
     "metadata": {},
     "output_type": "execute_result"
    }
   ],
   "source": [
    "compute_gamma(example)"
   ]
  },
  {
   "cell_type": "code",
   "execution_count": 4,
   "id": "1eaeebe9-2eb4-4473-a218-35b25b0b5cae",
   "metadata": {},
   "outputs": [],
   "source": [
    "def compute_mask(report):\n",
    "    \"\"\"Returns bit mask as wide as inputs.\"\"\"\n",
    "    return int('1' * len(report[0]), 2)"
   ]
  },
  {
   "cell_type": "code",
   "execution_count": 5,
   "id": "4a219cc7-808b-4336-91f9-7db09cbd90d2",
   "metadata": {},
   "outputs": [
    {
     "data": {
      "text/plain": [
       "'0b11111'"
      ]
     },
     "execution_count": 5,
     "metadata": {},
     "output_type": "execute_result"
    }
   ],
   "source": [
    "bin(compute_mask(example))"
   ]
  },
  {
   "cell_type": "code",
   "execution_count": 6,
   "id": "1353db28-2811-45e5-9522-0a11dec305b6",
   "metadata": {},
   "outputs": [],
   "source": [
    "def compute_epsilon(gamma, mask):\n",
    "    \"\"\"Inverts gamma value using bit mask.\"\"\"\n",
    "    return ~gamma & mask"
   ]
  },
  {
   "cell_type": "markdown",
   "id": "a8eb16f7-9b60-4c35-85a5-c7958e75822a",
   "metadata": {},
   "source": [
    "Epsilon is computed correctly on the example."
   ]
  },
  {
   "cell_type": "code",
   "execution_count": 7,
   "id": "0c711fac-752c-4d46-b99e-ed847f7c9f1f",
   "metadata": {},
   "outputs": [
    {
     "data": {
      "text/plain": [
       "9"
      ]
     },
     "execution_count": 7,
     "metadata": {},
     "output_type": "execute_result"
    }
   ],
   "source": [
    "compute_epsilon(compute_gamma(example), compute_mask(example))"
   ]
  },
  {
   "cell_type": "markdown",
   "id": "b564708a-9ab8-4bc9-8b35-5269e17e8746",
   "metadata": {},
   "source": [
    "Example power consumption is correct."
   ]
  },
  {
   "cell_type": "code",
   "execution_count": 8,
   "id": "59f4077a-b9e5-49ac-b05b-e06ff4508800",
   "metadata": {},
   "outputs": [
    {
     "data": {
      "text/plain": [
       "198"
      ]
     },
     "execution_count": 8,
     "metadata": {},
     "output_type": "execute_result"
    }
   ],
   "source": [
    "gamma = compute_gamma(example)\n",
    "gamma * compute_epsilon(gamma, compute_mask(example))"
   ]
  },
  {
   "cell_type": "markdown",
   "id": "cb46f673-8c78-40e1-856e-c0b8a58a78a7",
   "metadata": {},
   "source": [
    "Compute power consumption from input."
   ]
  },
  {
   "cell_type": "code",
   "execution_count": 9,
   "id": "75bc329a-17d9-43c4-b61e-323dc7ee2a51",
   "metadata": {},
   "outputs": [
    {
     "data": {
      "text/plain": [
       "2250414"
      ]
     },
     "execution_count": 9,
     "metadata": {},
     "output_type": "execute_result"
    }
   ],
   "source": [
    "input = open('day-3-input.txt').read().split()\n",
    "\n",
    "gamma = compute_gamma(input)\n",
    "gamma * compute_epsilon(gamma, compute_mask(input))"
   ]
  },
  {
   "cell_type": "markdown",
   "id": "e2cc9fc3-fe49-4790-8b7d-3aa74836b728",
   "metadata": {},
   "source": [
    "# Part two"
   ]
  },
  {
   "cell_type": "code",
   "execution_count": 10,
   "id": "ba2edaa1-d2f8-4e30-8541-41eb94bdcee9",
   "metadata": {},
   "outputs": [
    {
     "data": {
      "text/plain": [
       "['00100',\n",
       " '11110',\n",
       " '10110',\n",
       " '10111',\n",
       " '10101',\n",
       " '01111',\n",
       " '00111',\n",
       " '11100',\n",
       " '10000',\n",
       " '11001',\n",
       " '00010',\n",
       " '01010']"
      ]
     },
     "execution_count": 10,
     "metadata": {},
     "output_type": "execute_result"
    }
   ],
   "source": [
    "example"
   ]
  },
  {
   "cell_type": "code",
   "execution_count": 11,
   "id": "da13e9b4-540c-431b-ab6a-aff182a9a9e6",
   "metadata": {},
   "outputs": [],
   "source": [
    "def calc_o2_rating(report):\n",
    "    # Iterate over most significant to least significant bit positions. \n",
    "    for bit_pos in range(len(report[0])):\n",
    "        # Count bits in bit position.\n",
    "        counter = Counter(value[bit_pos] for value in report)\n",
    "        most_common = '1' if counter['1'] >= counter['0'] else '0'\n",
    "\n",
    "        report = [value for value in report if value[bit_pos] == most_common]\n",
    "        \n",
    "        if len(report) == 1:\n",
    "            return int(report[0], base=2)\n",
    "    else:\n",
    "        raise ValueError('More than one value remains after filtering')"
   ]
  },
  {
   "cell_type": "markdown",
   "id": "397f4a94-6057-4b9b-9c8b-f40cdd006d57",
   "metadata": {},
   "source": [
    "The example O2 rating checks out."
   ]
  },
  {
   "cell_type": "code",
   "execution_count": 12,
   "id": "9acdfd3f-8e0e-47bb-8242-8654400fd7bb",
   "metadata": {},
   "outputs": [],
   "source": [
    "assert calc_o2_rating(example) == 23"
   ]
  },
  {
   "cell_type": "code",
   "execution_count": 13,
   "id": "e7616701-14ab-4ab5-957c-1d2ab6b24a93",
   "metadata": {},
   "outputs": [],
   "source": [
    "def calc_co2_rating(report):\n",
    "    # Iterate over most significant to least significant bit positions. \n",
    "    for bit_pos in range(len(report[0])):\n",
    "        # Count bits in bit position.\n",
    "        counter = Counter(value[bit_pos] for value in report)\n",
    "\n",
    "        least_common = '0' if counter['0'] <= counter['1'] else '1'\n",
    "        report = [value for value in report if value[bit_pos] == least_common]\n",
    "        \n",
    "        if len(report) == 1:\n",
    "            return int(report[0], base=2)\n",
    "    else:\n",
    "        raise ValueError('More than one value remains after filtering')"
   ]
  },
  {
   "cell_type": "markdown",
   "id": "e1374444-a0a0-417a-b949-c5254ebac0d1",
   "metadata": {},
   "source": [
    "The example CO2 rating checks out."
   ]
  },
  {
   "cell_type": "code",
   "execution_count": 14,
   "id": "c2728045-6084-4bd5-8120-8f50c4626e44",
   "metadata": {},
   "outputs": [],
   "source": [
    "assert calc_co2_rating(example) == 10"
   ]
  },
  {
   "cell_type": "markdown",
   "id": "19e1767b-3f3a-4867-9edd-eaa0c7df1f40",
   "metadata": {},
   "source": [
    "The example life support rating calculation is correct."
   ]
  },
  {
   "cell_type": "code",
   "execution_count": 15,
   "id": "61537494-c247-4522-9647-7fa120e1e031",
   "metadata": {},
   "outputs": [],
   "source": [
    "assert calc_o2_rating(example) * calc_co2_rating(example) == 230"
   ]
  },
  {
   "cell_type": "code",
   "execution_count": 16,
   "id": "ed273494-1ee5-4eb3-ae68-d109af4aea3c",
   "metadata": {},
   "outputs": [
    {
     "data": {
      "text/plain": [
       "6085575"
      ]
     },
     "execution_count": 16,
     "metadata": {},
     "output_type": "execute_result"
    }
   ],
   "source": [
    "calc_o2_rating(input) * calc_co2_rating(input)"
   ]
  },
  {
   "cell_type": "code",
   "execution_count": null,
   "id": "01e37bb9-69ae-4f9f-95e9-c174070a2e21",
   "metadata": {},
   "outputs": [],
   "source": []
  }
 ],
 "metadata": {
  "kernelspec": {
   "display_name": "Python 3 (ipykernel)",
   "language": "python",
   "name": "python3"
  },
  "language_info": {
   "codemirror_mode": {
    "name": "ipython",
    "version": 3
   },
   "file_extension": ".py",
   "mimetype": "text/x-python",
   "name": "python",
   "nbconvert_exporter": "python",
   "pygments_lexer": "ipython3",
   "version": "3.8.5"
  }
 },
 "nbformat": 4,
 "nbformat_minor": 5
}
