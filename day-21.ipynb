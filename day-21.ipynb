{
 "cells": [
  {
   "cell_type": "markdown",
   "id": "efbeecd1-33df-4158-a51b-f5aa75783e6c",
   "metadata": {},
   "source": [
    "# Day 21: Dirac Dice"
   ]
  },
  {
   "cell_type": "code",
   "execution_count": 1,
   "id": "35d302a3",
   "metadata": {},
   "outputs": [],
   "source": [
    "example = \"\"\"Player 1 starting position: 4\n",
    "Player 2 starting position: 8\"\"\""
   ]
  },
  {
   "cell_type": "code",
   "execution_count": 2,
   "id": "02e779cd",
   "metadata": {},
   "outputs": [
    {
     "data": {
      "text/plain": [
       "[4, 8]"
      ]
     },
     "execution_count": 2,
     "metadata": {},
     "output_type": "execute_result"
    }
   ],
   "source": [
    "def parse(input):\n",
    "    \"\"\"Parses player 1 and 2 starting positions from input.\"\"\"\n",
    "    return [int(line.split(': ')[1]) for line in input.splitlines()]\n",
    "parse(example)"
   ]
  },
  {
   "cell_type": "markdown",
   "id": "ffa81057",
   "metadata": {},
   "source": [
    "Deterministic die cycles from 1 to 100, forever."
   ]
  },
  {
   "cell_type": "code",
   "execution_count": 3,
   "id": "e226e925",
   "metadata": {},
   "outputs": [],
   "source": [
    "import itertools\n",
    "\n",
    "die = itertools.cycle(range(1, 101))"
   ]
  },
  {
   "cell_type": "markdown",
   "id": "3597b7bf",
   "metadata": {},
   "source": [
    "Cycle between player 1's (0) and player 2's (1) turn."
   ]
  },
  {
   "cell_type": "code",
   "execution_count": 4,
   "id": "d09625c3",
   "metadata": {},
   "outputs": [],
   "source": [
    "turns = itertools.cycle(range(2))"
   ]
  },
  {
   "cell_type": "markdown",
   "id": "4b08c243",
   "metadata": {},
   "source": [
    "Initial player scores are 0."
   ]
  },
  {
   "cell_type": "code",
   "execution_count": 5,
   "id": "2da100bc",
   "metadata": {},
   "outputs": [],
   "source": [
    "scores = [0, 0]"
   ]
  },
  {
   "cell_type": "markdown",
   "id": "9de87d65",
   "metadata": {},
   "source": [
    "Initial player positions come from input."
   ]
  },
  {
   "cell_type": "code",
   "execution_count": 6,
   "id": "45a3e995",
   "metadata": {},
   "outputs": [
    {
     "data": {
      "text/plain": [
       "[4, 8]"
      ]
     },
     "execution_count": 6,
     "metadata": {},
     "output_type": "execute_result"
    }
   ],
   "source": [
    "positions = parse(example)\n",
    "positions"
   ]
  },
  {
   "cell_type": "markdown",
   "id": "caa7949d",
   "metadata": {},
   "source": [
    "Play until game ends."
   ]
  },
  {
   "cell_type": "code",
   "execution_count": 7,
   "id": "1059094a",
   "metadata": {},
   "outputs": [],
   "source": [
    "rolls = 0\n",
    "\n",
    "# Take turns until a score of at least 1000 is reached.\n",
    "while all(score < 1000 for score in scores):\n",
    "    turn = next(turns)\n",
    "\n",
    "    # Take next three rolls and update position.\n",
    "    positions[turn] += sum(itertools.islice(die, 3))\n",
    "    # A little hack because positions start at 1, not 0.\n",
    "    positions[turn] = ((positions[turn] - 1) % 10) + 1\n",
    "\n",
    "    # Update score.\n",
    "    scores[turn] += positions[turn]\n",
    "    \n",
    "    # Update roll count.\n",
    "    rolls +=3"
   ]
  },
  {
   "cell_type": "markdown",
   "id": "1436b490",
   "metadata": {},
   "source": [
    "Multiply losing player's score by rolls."
   ]
  },
  {
   "cell_type": "code",
   "execution_count": 8,
   "id": "79f7ba1f",
   "metadata": {},
   "outputs": [
    {
     "data": {
      "text/plain": [
       "739785"
      ]
     },
     "execution_count": 8,
     "metadata": {},
     "output_type": "execute_result"
    }
   ],
   "source": [
    "min(scores) * rolls"
   ]
  },
  {
   "cell_type": "markdown",
   "id": "73e0ae25",
   "metadata": {},
   "source": [
    "# Part 1"
   ]
  },
  {
   "cell_type": "code",
   "execution_count": 9,
   "id": "3a8b8429",
   "metadata": {},
   "outputs": [],
   "source": [
    "input = \"\"\"Player 1 starting position: 1\n",
    "Player 2 starting position: 6\"\"\"\n",
    "positions = parse(input)\n",
    "die = itertools.cycle(range(1, 101))\n",
    "turns = itertools.cycle(range(2))\n",
    "scores = [0, 0]\n",
    "rolls = 0\n",
    "\n",
    "# Take turns until a score of at least 1000 is reached.\n",
    "while max(scores) < 1000:\n",
    "    turn = next(turns)\n",
    "\n",
    "    # Take next three rolls and update position.\n",
    "    positions[turn] += sum(itertools.islice(die, 3))\n",
    "    # A little hack because positions start at 1, not 0.\n",
    "    positions[turn] = ((positions[turn] - 1) % 10) + 1\n",
    "\n",
    "    # Update score.\n",
    "    scores[turn] += positions[turn]\n",
    "    \n",
    "    # Update roll count.\n",
    "    rolls +=3"
   ]
  },
  {
   "cell_type": "markdown",
   "id": "b0be0495",
   "metadata": {},
   "source": [
    "Multiply losing player's score by rolls."
   ]
  },
  {
   "cell_type": "code",
   "execution_count": 10,
   "id": "ab83166d",
   "metadata": {},
   "outputs": [
    {
     "data": {
      "text/plain": [
       "604998"
      ]
     },
     "execution_count": 10,
     "metadata": {},
     "output_type": "execute_result"
    }
   ],
   "source": [
    "min(scores) * rolls"
   ]
  },
  {
   "cell_type": "markdown",
   "id": "c35ac8e0",
   "metadata": {},
   "source": [
    "# Part 2"
   ]
  },
  {
   "cell_type": "markdown",
   "id": "7a7e8c07",
   "metadata": {},
   "source": [
    "Each turn there are 3 rolls, and the universe splits into 27 universes."
   ]
  },
  {
   "cell_type": "code",
   "execution_count": 11,
   "id": "6841a65b",
   "metadata": {},
   "outputs": [
    {
     "data": {
      "text/plain": [
       "[(1, 1, 1),\n",
       " (1, 1, 2),\n",
       " (1, 1, 3),\n",
       " (1, 2, 1),\n",
       " (1, 2, 2),\n",
       " (1, 2, 3),\n",
       " (1, 3, 1),\n",
       " (1, 3, 2),\n",
       " (1, 3, 3),\n",
       " (2, 1, 1),\n",
       " (2, 1, 2),\n",
       " (2, 1, 3),\n",
       " (2, 2, 1),\n",
       " (2, 2, 2),\n",
       " (2, 2, 3),\n",
       " (2, 3, 1),\n",
       " (2, 3, 2),\n",
       " (2, 3, 3),\n",
       " (3, 1, 1),\n",
       " (3, 1, 2),\n",
       " (3, 1, 3),\n",
       " (3, 2, 1),\n",
       " (3, 2, 2),\n",
       " (3, 2, 3),\n",
       " (3, 3, 1),\n",
       " (3, 3, 2),\n",
       " (3, 3, 3)]"
      ]
     },
     "execution_count": 11,
     "metadata": {},
     "output_type": "execute_result"
    }
   ],
   "source": [
    "list(\n",
    "    itertools.product((1, 2, 3), repeat=3)\n",
    ")"
   ]
  },
  {
   "cell_type": "markdown",
   "id": "92d616b7",
   "metadata": {},
   "source": [
    "While there are 27 universe splits, there are only 7 distinct sums of rolls."
   ]
  },
  {
   "cell_type": "code",
   "execution_count": 12,
   "id": "b552d0f2",
   "metadata": {},
   "outputs": [
    {
     "data": {
      "text/plain": [
       "7"
      ]
     },
     "execution_count": 12,
     "metadata": {},
     "output_type": "execute_result"
    }
   ],
   "source": [
    "len(set(\n",
    "    sum(rolls) for rolls in itertools.product((1, 2, 3), repeat=3)\n",
    "))"
   ]
  },
  {
   "cell_type": "markdown",
   "id": "12d72cb0",
   "metadata": {},
   "source": [
    "And some sums of rolls are more common than others."
   ]
  },
  {
   "cell_type": "code",
   "execution_count": 13,
   "id": "60c5db50",
   "metadata": {},
   "outputs": [
    {
     "data": {
      "text/plain": [
       "Counter({3: 1, 4: 3, 5: 6, 6: 7, 7: 6, 8: 3, 9: 1})"
      ]
     },
     "execution_count": 13,
     "metadata": {},
     "output_type": "execute_result"
    }
   ],
   "source": [
    "from collections import Counter\n",
    "\n",
    "rolls_sums_count = Counter(\n",
    "    sum(rolls) for rolls in itertools.product((1, 2, 3), repeat=3)\n",
    ")\n",
    "rolls_sums_count"
   ]
  },
  {
   "cell_type": "markdown",
   "id": "1137a46a",
   "metadata": {},
   "source": [
    "So while there will be many, many universes, there are only 27 distinct rolls sums for each turn.\n",
    "\n",
    "Rather than keeping track of all universes separately, we should instead keep track of the number of universes with the same state (position and score)."
   ]
  },
  {
   "cell_type": "code",
   "execution_count": 14,
   "id": "7208234a",
   "metadata": {},
   "outputs": [],
   "source": [
    "def play_dirac(initial_positions):\n",
    "    \"\"\"Returns states after a player wins in all universes.\"\"\"\n",
    "    # Map states (position and score) to count of universes with this state.\n",
    "    # Initially there are player positions and scores in one universe.\n",
    "    states = {(tuple(initial_positions), (0, 0)): 1}\n",
    "    turns = itertools.cycle(range(2))\n",
    "\n",
    "    # Take turns until all universes have a winner (score of at least 21 is reached).\n",
    "    while not all(max(scores) >= 21 for positions, scores in states):\n",
    "        turn = next(turns)\n",
    "        next_states = {}\n",
    "\n",
    "        # Iterate over each distinct universe state.\n",
    "        for (positions, scores), universes in states.items():\n",
    "            # Skip if there is a winner in this state (any score is at least 21).\n",
    "            if max(scores) >= 21:\n",
    "                # If the state already exists, we add to it.\n",
    "                next_states[(positions, scores)] = next_states.get((positions, scores), 0) + universes\n",
    "                continue\n",
    "\n",
    "            # Iterate over each of the 27 rolls sums.\n",
    "            for rolls_sum, count in rolls_sums_count.items():\n",
    "                # Convert to lists for index assignment.\n",
    "                next_positions = list(positions)\n",
    "                next_scores = list(scores)\n",
    "\n",
    "                # Update player position.\n",
    "                next_positions[turn] += rolls_sum\n",
    "                # A little hack because positions start at 1, not 0.\n",
    "                next_positions[turn] = ((next_positions[turn] - 1) % 10) + 1\n",
    "\n",
    "                # Update score.\n",
    "                next_scores[turn] += next_positions[turn]\n",
    "\n",
    "                next_state = (tuple(next_positions), tuple(next_scores))\n",
    "\n",
    "                # Add this state and multiply its universe count by the dice roll count.\n",
    "                # If the state already exists, we add to it.\n",
    "                next_states[next_state] = next_states.get(next_state, 0) + universes * count\n",
    "\n",
    "        states = next_states\n",
    "    return states\n",
    "\n",
    "states = play_dirac(parse(example))"
   ]
  },
  {
   "cell_type": "markdown",
   "id": "82330c9e",
   "metadata": {},
   "source": [
    "Determine total number of universes that each player wins in."
   ]
  },
  {
   "cell_type": "code",
   "execution_count": 15,
   "id": "28230e7c",
   "metadata": {},
   "outputs": [
    {
     "data": {
      "text/plain": [
       "Counter({1: 444356092776315, 2: 341960390180808})"
      ]
     },
     "execution_count": 15,
     "metadata": {},
     "output_type": "execute_result"
    }
   ],
   "source": [
    "def count_winners(states):\n",
    "    \"\"\"Returns counter of universes each player wins in.\"\"\"\n",
    "    # 1 if player 1 wins otherwise 2.\n",
    "    winners = (1 if p1 > p2 else 2 for _, (p1, p2) in states)\n",
    "\n",
    "    # Sum the winning universes for each player.\n",
    "    return sum(\n",
    "        (Counter({player: universes}) for player, universes in zip(winners, states.values())),\n",
    "        start=Counter()\n",
    "    )\n",
    "\n",
    "count_winners(states)"
   ]
  },
  {
   "cell_type": "markdown",
   "id": "6a4db5e9",
   "metadata": {},
   "source": [
    "This is correct for the example. Now, for the puzzle input."
   ]
  },
  {
   "cell_type": "code",
   "execution_count": 16,
   "id": "5e0fbc57",
   "metadata": {},
   "outputs": [],
   "source": [
    "states = play_dirac(parse(input))\n",
    "win_count = count_winners(states)"
   ]
  },
  {
   "cell_type": "markdown",
   "id": "eda936a3",
   "metadata": {},
   "source": [
    "Find the number of universes the winning player wins in."
   ]
  },
  {
   "cell_type": "code",
   "execution_count": 17,
   "id": "a3eb202c",
   "metadata": {},
   "outputs": [
    {
     "data": {
      "text/plain": [
       "[(1, 157253621231420)]"
      ]
     },
     "execution_count": 17,
     "metadata": {},
     "output_type": "execute_result"
    }
   ],
   "source": [
    "win_count.most_common(1)"
   ]
  }
 ],
 "metadata": {
  "kernelspec": {
   "display_name": "Python 3 (ipykernel)",
   "language": "python",
   "name": "python3"
  },
  "language_info": {
   "codemirror_mode": {
    "name": "ipython",
    "version": 3
   },
   "file_extension": ".py",
   "mimetype": "text/x-python",
   "name": "python",
   "nbconvert_exporter": "python",
   "pygments_lexer": "ipython3",
   "version": "3.9.7"
  }
 },
 "nbformat": 4,
 "nbformat_minor": 5
}
