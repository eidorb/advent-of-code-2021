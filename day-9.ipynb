{
 "cells": [
  {
   "cell_type": "markdown",
   "id": "f1af9b59-f30f-4137-853f-bd10f7c755ee",
   "metadata": {},
   "source": [
    "# Day 9: Smoke Basin"
   ]
  },
  {
   "cell_type": "code",
   "execution_count": 1,
   "id": "907f3a21-b7b3-4850-8f67-502fa1842a9d",
   "metadata": {},
   "outputs": [],
   "source": [
    "example = \"\"\"2199943210\n",
    "3987894921\n",
    "9856789892\n",
    "8767896789\n",
    "9899965678\"\"\""
   ]
  },
  {
   "cell_type": "code",
   "execution_count": 2,
   "id": "a928f2c6-dc3b-4ff6-864e-dd87fb3cbc37",
   "metadata": {},
   "outputs": [
    {
     "data": {
      "text/plain": [
       "[[2, 1, 9, 9, 9, 4, 3, 2, 1, 0],\n",
       " [3, 9, 8, 7, 8, 9, 4, 9, 2, 1],\n",
       " [9, 8, 5, 6, 7, 8, 9, 8, 9, 2],\n",
       " [8, 7, 6, 7, 8, 9, 6, 7, 8, 9],\n",
       " [9, 8, 9, 9, 9, 6, 5, 6, 7, 8]]"
      ]
     },
     "execution_count": 2,
     "metadata": {},
     "output_type": "execute_result"
    }
   ],
   "source": [
    "def parse(input):\n",
    "    \"\"\"Parses heightmap from input.\"\"\"\n",
    "    return [[int(digit) for digit in row] for row in input.split()]\n",
    "\n",
    "parse(example)"
   ]
  },
  {
   "cell_type": "code",
   "execution_count": 3,
   "id": "854796cd-38c6-4dbe-933e-853968883c49",
   "metadata": {},
   "outputs": [
    {
     "data": {
      "text/plain": [
       "[[(inf, 3, inf, 1),\n",
       "  (inf, 9, 2, 9),\n",
       "  (inf, 8, 1, 9),\n",
       "  (inf, 7, 9, 9),\n",
       "  (inf, 8, 9, 4),\n",
       "  (inf, 9, 9, 3),\n",
       "  (inf, 4, 4, 2),\n",
       "  (inf, 9, 3, 1),\n",
       "  (inf, 2, 2, 0),\n",
       "  (inf, 1, 1, inf)],\n",
       " [(2, 9, inf, 9),\n",
       "  (1, 8, 3, 8),\n",
       "  (9, 5, 9, 7),\n",
       "  (9, 6, 8, 8),\n",
       "  (9, 7, 7, 9),\n",
       "  (4, 8, 8, 4),\n",
       "  (3, 9, 9, 9),\n",
       "  (2, 8, 4, 2),\n",
       "  (1, 9, 9, 1),\n",
       "  (0, 2, 2, inf)],\n",
       " [(3, 8, inf, 8),\n",
       "  (9, 7, 9, 5),\n",
       "  (8, 6, 8, 6),\n",
       "  (7, 7, 5, 7),\n",
       "  (8, 8, 6, 8),\n",
       "  (9, 9, 7, 9),\n",
       "  (4, 6, 8, 8),\n",
       "  (9, 7, 9, 9),\n",
       "  (2, 8, 8, 2),\n",
       "  (1, 9, 9, inf)],\n",
       " [(9, 9, inf, 7),\n",
       "  (8, 8, 8, 6),\n",
       "  (5, 9, 7, 7),\n",
       "  (6, 9, 6, 8),\n",
       "  (7, 9, 7, 9),\n",
       "  (8, 6, 8, 6),\n",
       "  (9, 5, 9, 7),\n",
       "  (8, 6, 6, 8),\n",
       "  (9, 7, 7, 9),\n",
       "  (2, 8, 8, inf)],\n",
       " [(8, inf, inf, 8),\n",
       "  (7, inf, 9, 9),\n",
       "  (6, inf, 8, 9),\n",
       "  (7, inf, 9, 9),\n",
       "  (8, inf, 9, 6),\n",
       "  (9, inf, 9, 5),\n",
       "  (6, inf, 6, 6),\n",
       "  (7, inf, 5, 7),\n",
       "  (8, inf, 6, 8),\n",
       "  (9, inf, 7, inf)]]"
      ]
     },
     "execution_count": 3,
     "metadata": {},
     "output_type": "execute_result"
    }
   ],
   "source": [
    "import math\n",
    "\n",
    "def adjacencies(heightmap):\n",
    "    \"\"\"Returns map of adjacent elements for each element in heightmap.\"\"\"\n",
    "    return [\n",
    "        [(\n",
    "            # Up.\n",
    "            heightmap[i - 1][j] if i > 0 else math.inf,\n",
    "            # Down. \n",
    "            heightmap[i + 1][j] if i + 1 < len(heightmap) else math.inf,\n",
    "            # Left.\n",
    "            heightmap[i][j - 1] if j > 0 else math.inf,\n",
    "            # Right.\n",
    "            heightmap[i][j + 1] if j + 1 < len(row) else math.inf\n",
    "        ) for j, _ in enumerate(row)] \n",
    "        for i, row in enumerate(heightmap)\n",
    "    ]\n",
    "\n",
    "adjacencies(parse(example))"
   ]
  },
  {
   "cell_type": "markdown",
   "id": "7d5959d0-ce01-411d-b464-5fe91574963e",
   "metadata": {},
   "source": [
    "Low points match example."
   ]
  },
  {
   "cell_type": "code",
   "execution_count": 4,
   "id": "97d62ba7-9c13-4e23-83c9-266396ec1253",
   "metadata": {},
   "outputs": [
    {
     "data": {
      "text/plain": [
       "[[False, True, False, False, False, False, False, False, False, True],\n",
       " [False, False, False, False, False, False, False, False, False, False],\n",
       " [False, False, True, False, False, False, False, False, False, False],\n",
       " [False, False, False, False, False, False, False, False, False, False],\n",
       " [False, False, False, False, False, False, True, False, False, False]]"
      ]
     },
     "execution_count": 4,
     "metadata": {},
     "output_type": "execute_result"
    }
   ],
   "source": [
    "def low_points(heightmap):\n",
    "    \"\"\"Returns True for low points in heightmap.\"\"\"\n",
    "    return [\n",
    "        [\n",
    "            # Is height less than all adjacent heights?\n",
    "            all(height < adjacent for adjacent in adjacent_heights) \n",
    "            for height, adjacent_heights in zip(heights, adjacency_map)\n",
    "        ] for heights, adjacency_map in zip(heightmap, adjacencies(heightmap))\n",
    "    ]\n",
    "\n",
    "    return list(zip(heightmap, adjacencies(heightmap)))\n",
    "\n",
    "low_points(parse(example))"
   ]
  },
  {
   "cell_type": "markdown",
   "id": "6c98f105-cde0-42c0-aa84-3ef2b95f11bf",
   "metadata": {},
   "source": [
    "Sum of low point risks matches example."
   ]
  },
  {
   "cell_type": "code",
   "execution_count": 5,
   "id": "4efa6a94-0d67-460a-b1ce-3d604a63833e",
   "metadata": {},
   "outputs": [
    {
     "data": {
      "text/plain": [
       "15"
      ]
     },
     "execution_count": 5,
     "metadata": {},
     "output_type": "execute_result"
    }
   ],
   "source": [
    "def sum_low_point_risk(heightmap):\n",
    "    \"\"\"Sums low point risks in heightmap.\"\"\"\n",
    "    return sum(\n",
    "        # Risk is 1 its height.\n",
    "        1 + height\n",
    "        for heights_row, low_points_row in zip(heightmap, low_points(heightmap))\n",
    "        for height, low_point in zip(heights_row, low_points_row) if low_point\n",
    "    )\n",
    "    \n",
    "sum_low_point_risk(parse(example))"
   ]
  },
  {
   "cell_type": "markdown",
   "id": "a02dfe0d-e2e9-46ab-bf94-cb9bf4ad35ef",
   "metadata": {},
   "source": [
    "Sum of low point risks in input."
   ]
  },
  {
   "cell_type": "code",
   "execution_count": 6,
   "id": "a9158c80-7aab-4a75-96b4-0963b9481f26",
   "metadata": {},
   "outputs": [
    {
     "data": {
      "text/plain": [
       "603"
      ]
     },
     "execution_count": 6,
     "metadata": {},
     "output_type": "execute_result"
    }
   ],
   "source": [
    "sum_low_point_risk(parse(open('day-9-input.txt').read()))"
   ]
  },
  {
   "cell_type": "markdown",
   "id": "cf86567d-cc4d-401a-b6b6-452edc780dd8",
   "metadata": {},
   "source": [
    "# Part two"
   ]
  },
  {
   "cell_type": "code",
   "execution_count": 7,
   "id": "607cde1c-6d33-4817-b7f8-074e626e4442",
   "metadata": {},
   "outputs": [
    {
     "data": {
      "text/plain": [
       "[['o', 'o', '.', '.', '.', 'o', 'o', 'o', 'o', 'o'],\n",
       " ['o', '.', 'o', 'o', 'o', '.', 'o', '.', 'o', 'o'],\n",
       " ['.', 'o', 'o', 'o', 'o', 'o', '.', 'o', '.', 'o'],\n",
       " ['o', 'o', 'o', 'o', 'o', '.', 'o', 'o', 'o', '.'],\n",
       " ['.', 'o', '.', '.', '.', 'o', 'o', 'o', 'o', 'o']]"
      ]
     },
     "execution_count": 7,
     "metadata": {},
     "output_type": "execute_result"
    }
   ],
   "source": [
    "def basins(heightmap):\n",
    "    \"\"\"Finds basins in heightmap.\"\"\"\n",
    "    adjacent = adjacencies(heightmap)\n",
    "    \n",
    "    # Iterate over low points. \n",
    "    for i, j in {\n",
    "        (i, j)\n",
    "        for i, row in enumerate(low_points(heightmap))\n",
    "        for j, low_point in enumerate(row) if low_point\n",
    "    }:\n",
    "        # Basins are seeded with low points. \n",
    "        basin = {(i, j)}\n",
    "        \n",
    "        while True:\n",
    "            candidates = set()\n",
    "\n",
    "            for i, j in basin:\n",
    "                adjacent_coords = ((i - 1, j), (i + 1, j), (i, j - 1), (i, j + 1))\n",
    "\n",
    "                # Iterate over adjacent coordinates\n",
    "                for m, n in ((i, j) for i, j in adjacent_coords if i > -1 and i < len(heightmap) and j > -1 and j < len(heightmap[0])):\n",
    "                    try:\n",
    "                        # It's a candidate if m,n flows into i,j.\n",
    "                        if heightmap[m][n] < 9 and heightmap[m][n] > heightmap[i][j]:\n",
    "                            candidates.add((m, n))\n",
    "                    except IndexError:\n",
    "                        pass\n",
    "                \n",
    "            # Terminate if candidates are contained in basin.\n",
    "            if candidates <= basin:\n",
    "                break\n",
    "            else:\n",
    "                basin |= candidates\n",
    "\n",
    "        yield basin\n",
    "\n",
    "# list(basins(parse(example)))\n",
    "\n",
    "basin_points = {point for basin in basins(parse(example)) for point in basin}\n",
    "basin_points\n",
    "[\n",
    "    ['o' if (i, j) in basin_points else '.' for j, _ in enumerate(row)]\n",
    "    for i, row in enumerate(parse(example)) \n",
    "]"
   ]
  },
  {
   "cell_type": "markdown",
   "id": "7ed4d893-cde5-4e0e-85f7-aff2c319ce55",
   "metadata": {},
   "source": [
    "Sizes of basins."
   ]
  },
  {
   "cell_type": "code",
   "execution_count": 8,
   "id": "85214dda-49dc-4bc1-ac8e-03570e68488c",
   "metadata": {},
   "outputs": [
    {
     "data": {
      "text/plain": [
       "[3, 9, 9, 14]"
      ]
     },
     "execution_count": 8,
     "metadata": {},
     "output_type": "execute_result"
    }
   ],
   "source": [
    "[len(basin) for basin in basins(parse(example))]"
   ]
  },
  {
   "cell_type": "markdown",
   "id": "b5e3386c-4693-475d-aada-6f53b9c86435",
   "metadata": {},
   "source": [
    "Three largest."
   ]
  },
  {
   "cell_type": "code",
   "execution_count": 9,
   "id": "8b45a9e3-f540-4356-a2b7-1ab528aed023",
   "metadata": {},
   "outputs": [
    {
     "data": {
      "text/plain": [
       "[9, 9, 14]"
      ]
     },
     "execution_count": 9,
     "metadata": {},
     "output_type": "execute_result"
    }
   ],
   "source": [
    "sorted([len(basin) for basin in basins(parse(example))][-3:])"
   ]
  },
  {
   "cell_type": "markdown",
   "id": "ff44ac0a-5ceb-4011-8309-ce5829d6732a",
   "metadata": {},
   "source": [
    "Product of the largest three."
   ]
  },
  {
   "cell_type": "code",
   "execution_count": 10,
   "id": "76d6a1dc-9555-4c1d-bc40-d6454d32abb4",
   "metadata": {},
   "outputs": [
    {
     "data": {
      "text/plain": [
       "1134"
      ]
     },
     "execution_count": 10,
     "metadata": {},
     "output_type": "execute_result"
    }
   ],
   "source": [
    "math.prod(sorted([len(basin) for basin in basins(parse(example))][-3:]))"
   ]
  },
  {
   "cell_type": "markdown",
   "id": "5d82d399-4ce6-4962-a86c-25b2debfd660",
   "metadata": {},
   "source": [
    "Product of the largest three basins in input."
   ]
  },
  {
   "cell_type": "code",
   "execution_count": 11,
   "id": "addfa3df-9857-4f4d-9baa-1782b5c6d842",
   "metadata": {},
   "outputs": [
    {
     "data": {
      "text/plain": [
       "<function __main__.basins(heightmap)>"
      ]
     },
     "execution_count": 11,
     "metadata": {},
     "output_type": "execute_result"
    }
   ],
   "source": [
    "basins"
   ]
  },
  {
   "cell_type": "code",
   "execution_count": 12,
   "id": "f0098bea-a1f9-4de4-8ddd-a3410e676e9c",
   "metadata": {},
   "outputs": [
    {
     "data": {
      "text/plain": [
       "786780"
      ]
     },
     "execution_count": 12,
     "metadata": {},
     "output_type": "execute_result"
    }
   ],
   "source": [
    "math.prod(sorted([len(basin) for basin in basins(parse(open('day-9-input.txt').read()))])[-3:])"
   ]
  }
 ],
 "metadata": {
  "kernelspec": {
   "display_name": "Python 3 (ipykernel)",
   "language": "python",
   "name": "python3"
  },
  "language_info": {
   "codemirror_mode": {
    "name": "ipython",
    "version": 3
   },
   "file_extension": ".py",
   "mimetype": "text/x-python",
   "name": "python",
   "nbconvert_exporter": "python",
   "pygments_lexer": "ipython3",
   "version": "3.8.5"
  }
 },
 "nbformat": 4,
 "nbformat_minor": 5
}
