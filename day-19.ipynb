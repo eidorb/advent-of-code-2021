{
 "cells": [
  {
   "cell_type": "markdown",
   "id": "e0fa95ff-7c9e-4c8b-9671-309ea738c12e",
   "metadata": {
    "tags": []
   },
   "source": [
    "# Day 19: Beacon Scanner"
   ]
  },
  {
   "cell_type": "markdown",
   "id": "1f5e1c14-59a7-4842-9b32-924cad70e3f2",
   "metadata": {},
   "source": [
    "2D example."
   ]
  },
  {
   "cell_type": "code",
   "execution_count": 1,
   "id": "aa36fbfc-a5f8-4f54-955a-6a99e14a66cb",
   "metadata": {},
   "outputs": [],
   "source": [
    "example = \"\"\"--- scanner 0 ---\n",
    "0,2\n",
    "4,1\n",
    "3,3\n",
    "\n",
    "--- scanner 1 ---\n",
    "-1,-1\n",
    "-5,0\n",
    "-2,1\"\"\""
   ]
  },
  {
   "cell_type": "code",
   "execution_count": 2,
   "id": "cc0264d6-1061-49a5-adac-6f4121e73854",
   "metadata": {},
   "outputs": [
    {
     "data": {
      "text/plain": [
       "({(0, 2), (3, 3), (4, 1)}, {(-5, 0), (-2, 1), (-1, -1)})"
      ]
     },
     "execution_count": 2,
     "metadata": {},
     "output_type": "execute_result"
    }
   ],
   "source": [
    "def parse(input):\n",
    "    \"\"\"Parses beacon locations reported by scanners from input.\"\"\"\n",
    "    return tuple(\n",
    "        set(\n",
    "            # Beacon positions can just be eval'd to tuples.\n",
    "            eval(line)\n",
    "            # Discard the first line of each scanner report.\n",
    "            for line in report.splitlines()[1:]\n",
    "        )\n",
    "        # Scanner reports are separated by two newlines.\n",
    "        for report in input.split('\\n\\n')\n",
    "    )\n",
    "\n",
    "parse(example)"
   ]
  },
  {
   "cell_type": "markdown",
   "id": "8042e6f7-8792-4a15-8993-12b8a2e1ed55",
   "metadata": {},
   "source": [
    "I think distance between beacons in a scanner report will be useful because distances are the same regardless of scanner position and orientation."
   ]
  },
  {
   "cell_type": "code",
   "execution_count": 3,
   "id": "18b7776f",
   "metadata": {},
   "outputs": [
    {
     "name": "stdout",
     "output_type": "stream",
     "text": [
      "1.4142135623730951\n",
      "1.7320508075688772\n"
     ]
    }
   ],
   "source": [
    "import math\n",
    "\n",
    "def distance(a, b):\n",
    "    \"\"\"Returns Euclidean distance between n-dimensional points a and b.\"\"\"\n",
    "    return math.sqrt(sum((a_n - b_n)**2 for a_n, b_n in zip(a, b))) \n",
    "\n",
    "# 2D points.\n",
    "print(distance((0, 0), (1, 1)))\n",
    "# 3D points.\n",
    "print(distance((0, 0, 0), (1, 1, 1)))"
   ]
  },
  {
   "cell_type": "code",
   "execution_count": 4,
   "id": "3a044c6f-6f83-4d9d-a31a-a6ea1b661679",
   "metadata": {},
   "outputs": [
    {
     "data": {
      "text/plain": [
       "{2.23606797749979, 3.1622776601683795, 4.123105625617661}"
      ]
     },
     "execution_count": 4,
     "metadata": {},
     "output_type": "execute_result"
    }
   ],
   "source": [
    "import itertools\n",
    "\n",
    "def distances(points):\n",
    "    \"\"\"Returns set of distances between pairs of points.\"\"\"\n",
    "    return {distance(a, b) for a, b in itertools.combinations(points, r=2)}\n",
    "\n",
    "distances(parse(example)[0])"
   ]
  },
  {
   "cell_type": "markdown",
   "id": "1375737d",
   "metadata": {},
   "source": [
    "In this example all scanners see the same beacons, but with different orientations."
   ]
  },
  {
   "cell_type": "code",
   "execution_count": 5,
   "id": "067031c5-c4da-4072-9350-80f0a01e1cda",
   "metadata": {},
   "outputs": [],
   "source": [
    "example2 = \"\"\"--- scanner 0 ---\n",
    "-1,-1,1\n",
    "-2,-2,2\n",
    "-3,-3,3\n",
    "-2,-3,1\n",
    "5,6,-4\n",
    "8,0,7\n",
    "\n",
    "--- scanner 0 ---\n",
    "1,-1,1\n",
    "2,-2,2\n",
    "3,-3,3\n",
    "2,-1,3\n",
    "-5,4,-6\n",
    "-8,-7,0\n",
    "\n",
    "--- scanner 0 ---\n",
    "-1,-1,-1\n",
    "-2,-2,-2\n",
    "-3,-3,-3\n",
    "-1,-3,-2\n",
    "4,6,5\n",
    "-7,0,8\n",
    "\n",
    "--- scanner 0 ---\n",
    "1,1,-1\n",
    "2,2,-2\n",
    "3,3,-3\n",
    "1,3,-2\n",
    "-4,-6,5\n",
    "7,0,8\n",
    "\n",
    "--- scanner 0 ---\n",
    "1,1,1\n",
    "2,2,2\n",
    "3,3,3\n",
    "3,1,2\n",
    "-6,-4,-5\n",
    "0,7,-8\"\"\""
   ]
  },
  {
   "cell_type": "markdown",
   "id": "e65c0df9",
   "metadata": {},
   "source": [
    "In this case, distances should be equal for all reports."
   ]
  },
  {
   "cell_type": "code",
   "execution_count": 6,
   "id": "befee166",
   "metadata": {},
   "outputs": [
    {
     "data": {
      "text/plain": [
       "1"
      ]
     },
     "execution_count": 6,
     "metadata": {},
     "output_type": "execute_result"
    }
   ],
   "source": [
    "# The set of all distance sets should contain only one element!\n",
    "len(set(frozenset(distances(points)) for points in parse(example2)))"
   ]
  },
  {
   "cell_type": "code",
   "execution_count": 7,
   "id": "8499394a",
   "metadata": {},
   "outputs": [],
   "source": [
    "example3 = \"\"\"--- scanner 0 ---\n",
    "404,-588,-901\n",
    "528,-643,409\n",
    "-838,591,734\n",
    "390,-675,-793\n",
    "-537,-823,-458\n",
    "-485,-357,347\n",
    "-345,-311,381\n",
    "-661,-816,-575\n",
    "-876,649,763\n",
    "-618,-824,-621\n",
    "553,345,-567\n",
    "474,580,667\n",
    "-447,-329,318\n",
    "-584,868,-557\n",
    "544,-627,-890\n",
    "564,392,-477\n",
    "455,729,728\n",
    "-892,524,684\n",
    "-689,845,-530\n",
    "423,-701,434\n",
    "7,-33,-71\n",
    "630,319,-379\n",
    "443,580,662\n",
    "-789,900,-551\n",
    "459,-707,401\n",
    "\n",
    "--- scanner 1 ---\n",
    "686,422,578\n",
    "605,423,415\n",
    "515,917,-361\n",
    "-336,658,858\n",
    "95,138,22\n",
    "-476,619,847\n",
    "-340,-569,-846\n",
    "567,-361,727\n",
    "-460,603,-452\n",
    "669,-402,600\n",
    "729,430,532\n",
    "-500,-761,534\n",
    "-322,571,750\n",
    "-466,-666,-811\n",
    "-429,-592,574\n",
    "-355,545,-477\n",
    "703,-491,-529\n",
    "-328,-685,520\n",
    "413,935,-424\n",
    "-391,539,-444\n",
    "586,-435,557\n",
    "-364,-763,-893\n",
    "807,-499,-711\n",
    "755,-354,-619\n",
    "553,889,-390\n",
    "\n",
    "--- scanner 2 ---\n",
    "649,640,665\n",
    "682,-795,504\n",
    "-784,533,-524\n",
    "-644,584,-595\n",
    "-588,-843,648\n",
    "-30,6,44\n",
    "-674,560,763\n",
    "500,723,-460\n",
    "609,671,-379\n",
    "-555,-800,653\n",
    "-675,-892,-343\n",
    "697,-426,-610\n",
    "578,704,681\n",
    "493,664,-388\n",
    "-671,-858,530\n",
    "-667,343,800\n",
    "571,-461,-707\n",
    "-138,-166,112\n",
    "-889,563,-600\n",
    "646,-828,498\n",
    "640,759,510\n",
    "-630,509,768\n",
    "-681,-892,-333\n",
    "673,-379,-804\n",
    "-742,-814,-386\n",
    "577,-820,562\n",
    "\n",
    "--- scanner 3 ---\n",
    "-589,542,597\n",
    "605,-692,669\n",
    "-500,565,-823\n",
    "-660,373,557\n",
    "-458,-679,-417\n",
    "-488,449,543\n",
    "-626,468,-788\n",
    "338,-750,-386\n",
    "528,-832,-391\n",
    "562,-778,733\n",
    "-938,-730,414\n",
    "543,643,-506\n",
    "-524,371,-870\n",
    "407,773,750\n",
    "-104,29,83\n",
    "378,-903,-323\n",
    "-778,-728,485\n",
    "426,699,580\n",
    "-438,-605,-362\n",
    "-469,-447,-387\n",
    "509,732,623\n",
    "647,635,-688\n",
    "-868,-804,481\n",
    "614,-800,639\n",
    "595,780,-596\n",
    "\n",
    "--- scanner 4 ---\n",
    "727,592,562\n",
    "-293,-554,779\n",
    "441,611,-461\n",
    "-714,465,-776\n",
    "-743,427,-804\n",
    "-660,-479,-426\n",
    "832,-632,460\n",
    "927,-485,-438\n",
    "408,393,-506\n",
    "466,436,-512\n",
    "110,16,151\n",
    "-258,-428,682\n",
    "-393,719,612\n",
    "-211,-452,876\n",
    "808,-476,-593\n",
    "-575,615,604\n",
    "-485,667,467\n",
    "-680,325,-822\n",
    "-627,-443,-432\n",
    "872,-547,-609\n",
    "833,512,582\n",
    "807,604,487\n",
    "839,-516,451\n",
    "891,-625,532\n",
    "-652,-548,-490\n",
    "30,-46,-14\"\"\""
   ]
  },
  {
   "cell_type": "markdown",
   "id": "eed5476c",
   "metadata": {},
   "source": [
    "Build graph of overlapping scanners based on max shared distances."
   ]
  },
  {
   "cell_type": "code",
   "execution_count": 10,
   "id": "6d8e2b34",
   "metadata": {},
   "outputs": [
    {
     "name": "stdout",
     "output_type": "stream",
     "text": [
      "1 overlaps with 0\n",
      "4 overlaps with 1\n",
      "2 overlaps with 4\n",
      "3 overlaps with 1\n"
     ]
    }
   ],
   "source": [
    "report = parse(example3)\n",
    "\n",
    "def calc_overlaps(scanners):\n",
    "    \"\"\"Returns graph (dict) of overlapping scanner indices.\"\"\"\n",
    "    # Graph of scanner overlaps.\n",
    "    overlaps = {}\n",
    "    unvisited = set(range(len(scanners)))\n",
    "    unvisited.remove(0)\n",
    "    visited = {0}\n",
    "\n",
    "    while unvisited:\n",
    "        # Determine which pair of scanners a and b have the greatest\n",
    "        # number of shared distances. We can assume b overlaps with a.\n",
    "        _, a, b = max(\n",
    "            (len(distances(scanners[a]) & distances(scanners[b])), a, b)\n",
    "            for a in visited\n",
    "            for b in unvisited\n",
    "        )\n",
    "        print(b, 'overlaps with', a)\n",
    "        overlaps[b] = a\n",
    "        unvisited.remove(b)\n",
    "        visited.add(b)\n",
    "    \n",
    "overlaps = calc_overlaps(report)\n",
    "overlaps"
   ]
  },
  {
   "cell_type": "markdown",
   "id": "65b7ca6d",
   "metadata": {},
   "source": [
    "want a function that takes a point from scanner a, and returns it's position relative to scanner b."
   ]
  },
  {
   "cell_type": "code",
   "execution_count": null,
   "id": "7d86d25c",
   "metadata": {},
   "outputs": [],
   "source": []
  },
  {
   "cell_type": "markdown",
   "id": "96cd8d85",
   "metadata": {},
   "source": [
    "- Consider x components of scanner 0 and scanner 1\n",
    "- The x co-ordinate *could* be the same for each scanner\n",
    "- But it's unlikely the scanners are in the same position\n",
    "- So we'll translate scanner 1 by different amounts and calculate the amount of correlation with scanner 0\n",
    "- Start by translating scanner 1 by the min of scanner 0 minus the max of scanner 1\n",
    "- This would shift scanner 1 from this:\n",
    "    ```\n",
    "                     ---scanner 0 x--->\n",
    "                                 ---scanner 1 x--->\n",
    "    ```\n",
    "\n",
    "    To this:\n",
    "    ```\n",
    "                     ---scanner 0 x--->\n",
    "    ---scanner 1 x--->\n",
    "    ```\n",
    "- Increment translation until it is equal to the max of scanner 0 x minus the min of scanner 1 x\n",
    "    ```\n",
    "                     ---scanner 0 x--->\n",
    "                                      ---scanner 1 x--->\n",
    "    ```\n",
    "- Then we'll record the translation that results in greatest correlation/overlap"
   ]
  },
  {
   "cell_type": "code",
   "execution_count": 312,
   "id": "282d6996",
   "metadata": {},
   "outputs": [],
   "source": [
    "def create_transform(ref, other):\n",
    "    \"\"\"Returns a function that transforms points in other to ref.\"\"\"\n",
    "    # Extract x, y, z components from points.\n",
    "    other_components = tuple(set(component) for component in zip(*other))\n",
    "    ref_components = tuple(set(component) for component in zip(*ref))\n",
    "\n",
    "    # Maps ref dimensions to other dimensions to ref dimensions. \n",
    "    dimension_map = {}\n",
    "    \n",
    "    # Maps ref dimension to function \n",
    "    transform_map = {}\n",
    "    \n",
    "#     info_map = {}\n",
    "    \n",
    "    other_dimensions = set(range(3))\n",
    "    \n",
    "    # Reference dimensions.\n",
    "    for i in range(3):\n",
    "        \n",
    "        _, j, flipped, offset = max(\n",
    "            (\n",
    "                # Count overlaps of a and b translated by each offset.\n",
    "                len(\n",
    "                    ref_components[i] & \n",
    "                    {(-x if flipped else x) + offset for x in other_components[j]}\n",
    "                ),\n",
    "                j,\n",
    "                flipped,\n",
    "                offset\n",
    "            )\n",
    "            for j in other_dimensions\n",
    "            # Consider the other dimension flipped or not.\n",
    "            for flipped in (True, False)\n",
    "            # Range of offsets applied to other that have any possibility \n",
    "            # of overlapping with ref.\n",
    "            for offset in range(\n",
    "                min(ref_components[i]) - max({-x if flipped else x for x in other_components[j]}), \n",
    "                max(ref_components[i]) - min({-x if flipped else x for x in other_components[j]})\n",
    "            )\n",
    "        )\n",
    "        \n",
    "        dimension_map[i] = j\n",
    "        transform_map[i] = lambda x: (-x if flipped else x) + offset\n",
    "        info_map[i] = {'flipped': flipped, 'offset': offset, 'other': j}\n",
    "        other_dimensions.remove(j)\n",
    "        print(f'{j} maps to {i}, {flipped=}, {offset=}')\n",
    "        \n",
    "    def transform(point):\n",
    "        transformed_point = []\n",
    "        \n",
    "        for dim in range(len(point)):\n",
    "#             print(f'{dim} maps to {info_map[dim]}')\n",
    "            \n",
    "            x = point[info_map[dim]['other']]\n",
    "            flipped = info_map[dim]['flipped']\n",
    "            offset = info_map[dim]['offset']\n",
    "            transformed_point.append((-x if flipped else x) + offset)\n",
    "        return tuple(transformed_point)\n",
    "            \n",
    "    return transform\n",
    "#     return lambda point: tuple(transform_map[i](point[dimension_map[i]]) for i in range(len(point)))"
   ]
  },
  {
   "cell_type": "code",
   "execution_count": 313,
   "id": "69ac335f",
   "metadata": {},
   "outputs": [
    {
     "name": "stdout",
     "output_type": "stream",
     "text": [
      "0 maps to 0, flipped=True, offset=68\n",
      "1 maps to 1, flipped=False, offset=-1246\n",
      "2 maps to 2, flipped=True, offset=-43\n"
     ]
    }
   ],
   "source": [
    "tf = create_transform(report[1], report[0])"
   ]
  },
  {
   "cell_type": "code",
   "execution_count": 326,
   "id": "bc9adbe6",
   "metadata": {},
   "outputs": [],
   "source": [
    "transforms = {}"
   ]
  },
  {
   "cell_type": "code",
   "execution_count": 328,
   "id": "21aa906c",
   "metadata": {},
   "outputs": [
    {
     "name": "stdout",
     "output_type": "stream",
     "text": [
      "0 maps to 0, flipped=True, offset=68\n",
      "1 maps to 1, flipped=False, offset=-1246\n",
      "2 maps to 2, flipped=True, offset=-43\n",
      "1 maps to 0, flipped=False, offset=88\n",
      "2 maps to 1, flipped=True, offset=113\n",
      "0 maps to 2, flipped=True, offset=-1104\n",
      "1 maps to 0, flipped=False, offset=168\n",
      "0 maps to 1, flipped=False, offset=-1125\n",
      "2 maps to 2, flipped=True, offset=72\n",
      "0 maps to 0, flipped=False, offset=160\n",
      "1 maps to 1, flipped=False, offset=-1134\n",
      "2 maps to 2, flipped=False, offset=-23\n"
     ]
    }
   ],
   "source": [
    "for scanner in overlaps:\n",
    "    transforms[scanner] = create_transform(report[scanner], report[overlaps[scanner]])"
   ]
  },
  {
   "cell_type": "code",
   "execution_count": 329,
   "id": "fcdbbb67",
   "metadata": {},
   "outputs": [
    {
     "data": {
      "text/plain": [
       "{1: <function __main__.create_transform.<locals>.transform(point)>,\n",
       " 4: <function __main__.create_transform.<locals>.transform(point)>,\n",
       " 2: <function __main__.create_transform.<locals>.transform(point)>,\n",
       " 3: <function __main__.create_transform.<locals>.transform(point)>}"
      ]
     },
     "execution_count": 329,
     "metadata": {},
     "output_type": "execute_result"
    }
   ],
   "source": [
    "transforms"
   ]
  },
  {
   "cell_type": "code",
   "execution_count": 319,
   "id": "01ec8d1b",
   "metadata": {},
   "outputs": [
    {
     "data": {
      "text/plain": [
       "True"
      ]
     },
     "execution_count": 319,
     "metadata": {},
     "output_type": "execute_result"
    }
   ],
   "source": [
    "report[0] & {tf(point) for point in report[1]} == {\n",
    "    eval(line) for line in \"\"\"-618,-824,-621\n",
    "-537,-823,-458\n",
    "-447,-329,318\n",
    "404,-588,-901\n",
    "544,-627,-890\n",
    "528,-643,409\n",
    "-661,-816,-575\n",
    "390,-675,-793\n",
    "423,-701,434\n",
    "-345,-311,381\n",
    "459,-707,401\n",
    "-485,-357,347\"\"\".splitlines()\n",
    "}"
   ]
  },
  {
   "cell_type": "code",
   "execution_count": 320,
   "id": "273f4b4e",
   "metadata": {},
   "outputs": [
    {
     "data": {
      "text/plain": [
       "{1: 0, 4: 1, 2: 4, 3: 1}"
      ]
     },
     "execution_count": 320,
     "metadata": {},
     "output_type": "execute_result"
    }
   ],
   "source": [
    "overlaps"
   ]
  },
  {
   "cell_type": "markdown",
   "id": "0f0f5623",
   "metadata": {},
   "source": [
    "What do we actually want? Beacons seen by all scanners with co-ordinates relative to scanner 0."
   ]
  },
  {
   "cell_type": "code",
   "execution_count": 336,
   "id": "7ff1ccc4",
   "metadata": {},
   "outputs": [],
   "source": [
    "def gen_points(report):\n",
    "    \"\"\"Generate points from report with co-ordinates relative to scanner 0.\"\"\"\n",
    "    for scanner, points in enumerate(report):\n",
    "        points = iter(points)\n",
    "        \n",
    "        # Move through overlaps graph until we get to scanner 0.\n",
    "        while scanner:\n",
    "            print(f'{scanner=}')\n",
    "            points = [transforms[scanner](point) for point in points]\n",
    "            scanner = overlaps[scanner]\n",
    "        yield from points"
   ]
  },
  {
   "cell_type": "markdown",
   "id": "d2571eef",
   "metadata": {},
   "source": [
    "This result lines up with the example."
   ]
  },
  {
   "cell_type": "code",
   "execution_count": 337,
   "id": "36d4f68b",
   "metadata": {},
   "outputs": [
    {
     "name": "stdout",
     "output_type": "stream",
     "text": [
      "scanner=1\n",
      "scanner=2\n",
      "scanner=4\n",
      "scanner=1\n",
      "scanner=3\n",
      "scanner=1\n",
      "scanner=4\n",
      "scanner=1\n"
     ]
    },
    {
     "data": {
      "text/plain": [
       "79"
      ]
     },
     "execution_count": 337,
     "metadata": {},
     "output_type": "execute_result"
    }
   ],
   "source": [
    "beacons = set(gen_points(parse(example3)))\n",
    "len(beacons)"
   ]
  },
  {
   "cell_type": "markdown",
   "id": "8f136cd7",
   "metadata": {},
   "source": [
    "Try it on puzzle input."
   ]
  },
  {
   "cell_type": "code",
   "execution_count": 338,
   "id": "32edbd70",
   "metadata": {},
   "outputs": [
    {
     "name": "stdout",
     "output_type": "stream",
     "text": [
      "24 overlaps with 0\n",
      "18 overlaps with 24\n",
      "16 overlaps with 24\n",
      "13 overlaps with 18\n",
      "2 overlaps with 18\n",
      "5 overlaps with 16\n",
      "15 overlaps with 13\n",
      "17 overlaps with 15\n",
      "23 overlaps with 17\n",
      "11 overlaps with 23\n",
      "1 overlaps with 23\n",
      "10 overlaps with 1\n",
      "21 overlaps with 17\n",
      "4 overlaps with 21\n",
      "14 overlaps with 17\n",
      "12 overlaps with 15\n",
      "22 overlaps with 14\n",
      "9 overlaps with 22\n",
      "3 overlaps with 13\n",
      "8 overlaps with 12\n",
      "7 overlaps with 11\n",
      "6 overlaps with 11\n",
      "20 overlaps with 7\n",
      "19 overlaps with 1\n"
     ]
    },
    {
     "data": {
      "text/plain": [
       "{24: 0,\n",
       " 18: 24,\n",
       " 16: 24,\n",
       " 13: 18,\n",
       " 2: 18,\n",
       " 5: 16,\n",
       " 15: 13,\n",
       " 17: 15,\n",
       " 23: 17,\n",
       " 11: 23,\n",
       " 1: 23,\n",
       " 10: 1,\n",
       " 21: 17,\n",
       " 4: 21,\n",
       " 14: 17,\n",
       " 12: 15,\n",
       " 22: 14,\n",
       " 9: 22,\n",
       " 3: 13,\n",
       " 8: 12,\n",
       " 7: 11,\n",
       " 6: 11,\n",
       " 20: 7,\n",
       " 19: 1}"
      ]
     },
     "execution_count": 338,
     "metadata": {},
     "output_type": "execute_result"
    }
   ],
   "source": [
    "report = parse(open('day-19-input.txt').read())\n",
    "\n",
    "# Graph of scanner overlaps.\n",
    "overlaps = {}\n",
    "unvisited = set(range(len(report)))\n",
    "unvisited.remove(0)\n",
    "visited = {0}\n",
    "\n",
    "while unvisited:\n",
    "    # Determine which pair of scanners a and b have the greatest\n",
    "    # number of shared distances. We can assume b overlaps with a.\n",
    "    _, a, b = max(\n",
    "        (len(distances(report[a]) & distances(report[b])), a, b)\n",
    "        for a in visited\n",
    "        for b in unvisited\n",
    "    )\n",
    "    print(b, 'overlaps with', a)\n",
    "    overlaps[b] = a\n",
    "    unvisited.remove(b)\n",
    "    visited.add(b)\n",
    "    \n",
    "overlaps"
   ]
  },
  {
   "cell_type": "code",
   "execution_count": 341,
   "id": "867e3543",
   "metadata": {},
   "outputs": [],
   "source": [
    "transforms = {}"
   ]
  },
  {
   "cell_type": "code",
   "execution_count": 342,
   "id": "cee1fba8",
   "metadata": {},
   "outputs": [
    {
     "name": "stdout",
     "output_type": "stream",
     "text": [
      "2 maps to 0, flipped=False, offset=-62\n",
      "0 maps to 1, flipped=True, offset=-53\n",
      "1 maps to 2, flipped=True, offset=1206\n",
      "1 maps to 0, flipped=False, offset=-122\n",
      "2 maps to 1, flipped=True, offset=-1041\n",
      "0 maps to 2, flipped=True, offset=14\n",
      "2 maps to 0, flipped=True, offset=48\n",
      "0 maps to 1, flipped=True, offset=51\n",
      "1 maps to 2, flipped=False, offset=-1232\n",
      "1 maps to 0, flipped=True, offset=50\n",
      "0 maps to 1, flipped=False, offset=1365\n",
      "2 maps to 2, flipped=False, offset=152\n",
      "2 maps to 0, flipped=False, offset=52\n",
      "0 maps to 1, flipped=True, offset=48\n",
      "1 maps to 2, flipped=True, offset=1169\n",
      "0 maps to 0, flipped=False, offset=-41\n",
      "2 maps to 1, flipped=False, offset=13\n",
      "1 maps to 2, flipped=True, offset=1333\n",
      "0 maps to 0, flipped=True, offset=-104\n",
      "1 maps to 1, flipped=False, offset=-41\n",
      "2 maps to 2, flipped=True, offset=1179\n",
      "1 maps to 0, flipped=True, offset=15\n",
      "0 maps to 1, flipped=False, offset=17\n",
      "2 maps to 2, flipped=False, offset=-1120\n",
      "2 maps to 0, flipped=True, offset=-1161\n",
      "0 maps to 1, flipped=False, offset=140\n",
      "1 maps to 2, flipped=True, offset=-95\n",
      "2 maps to 0, flipped=True, offset=-1304\n",
      "1 maps to 1, flipped=True, offset=-43\n",
      "0 maps to 2, flipped=True, offset=51\n",
      "2 maps to 0, flipped=False, offset=-152\n",
      "1 maps to 1, flipped=True, offset=1193\n",
      "0 maps to 2, flipped=False, offset=-97\n",
      "2 maps to 0, flipped=True, offset=-1140\n",
      "0 maps to 1, flipped=False, offset=156\n",
      "1 maps to 2, flipped=True, offset=99\n",
      "2 maps to 0, flipped=True, offset=148\n",
      "1 maps to 1, flipped=False, offset=-1234\n",
      "0 maps to 2, flipped=False, offset=-10\n",
      "0 maps to 0, flipped=False, offset=75\n",
      "2 maps to 1, flipped=True, offset=-11\n",
      "1 maps to 2, flipped=False, offset=-1195\n",
      "1 maps to 0, flipped=True, offset=158\n",
      "0 maps to 1, flipped=True, offset=1150\n",
      "2 maps to 2, flipped=True, offset=0\n",
      "0 maps to 0, flipped=True, offset=-1216\n",
      "2 maps to 1, flipped=False, offset=165\n",
      "1 maps to 2, flipped=False, offset=-25\n",
      "1 maps to 0, flipped=False, offset=-70\n",
      "0 maps to 1, flipped=False, offset=-1065\n",
      "2 maps to 2, flipped=True, offset=26\n",
      "1 maps to 0, flipped=False, offset=40\n",
      "2 maps to 1, flipped=True, offset=12\n",
      "0 maps to 2, flipped=True, offset=1224\n",
      "2 maps to 0, flipped=True, offset=1166\n",
      "0 maps to 1, flipped=True, offset=-20\n",
      "1 maps to 2, flipped=False, offset=-106\n",
      "2 maps to 0, flipped=False, offset=41\n",
      "0 maps to 1, flipped=False, offset=183\n",
      "1 maps to 2, flipped=False, offset=-1369\n",
      "0 maps to 0, flipped=False, offset=14\n",
      "1 maps to 1, flipped=True, offset=3\n",
      "2 maps to 2, flipped=True, offset=1167\n",
      "1 maps to 0, flipped=True, offset=-5\n",
      "2 maps to 1, flipped=False, offset=-1203\n",
      "0 maps to 2, flipped=True, offset=-76\n",
      "2 maps to 0, flipped=False, offset=-12\n",
      "1 maps to 1, flipped=False, offset=-1301\n",
      "0 maps to 2, flipped=True, offset=-35\n",
      "2 maps to 0, flipped=False, offset=130\n",
      "0 maps to 1, flipped=True, offset=-1039\n",
      "1 maps to 2, flipped=True, offset=-29\n"
     ]
    }
   ],
   "source": [
    "for scanner in overlaps:\n",
    "    transforms[scanner] = create_transform(report[scanner], report[overlaps[scanner]])"
   ]
  },
  {
   "cell_type": "code",
   "execution_count": 343,
   "id": "d3b4406a",
   "metadata": {},
   "outputs": [],
   "source": [
    "def gen_points(report):\n",
    "    \"\"\"Generate points from report with co-ordinates relative to scanner 0.\"\"\"\n",
    "    for scanner, points in enumerate(report):\n",
    "        points = iter(points)\n",
    "        \n",
    "        # Move through overlaps graph until we get to scanner 0.\n",
    "        while scanner:\n",
    "            print(f'{scanner=}')\n",
    "            points = [transforms[scanner](point) for point in points]\n",
    "            scanner = overlaps[scanner]\n",
    "        yield from points"
   ]
  },
  {
   "cell_type": "markdown",
   "id": "64e749dd",
   "metadata": {},
   "source": [
    "This result lines up with the example."
   ]
  },
  {
   "cell_type": "code",
   "execution_count": 345,
   "id": "785332ec",
   "metadata": {},
   "outputs": [
    {
     "name": "stdout",
     "output_type": "stream",
     "text": [
      "scanner=1\n",
      "scanner=23\n",
      "scanner=17\n",
      "scanner=15\n",
      "scanner=13\n",
      "scanner=18\n",
      "scanner=24\n",
      "scanner=2\n",
      "scanner=18\n",
      "scanner=24\n",
      "scanner=3\n",
      "scanner=13\n",
      "scanner=18\n",
      "scanner=24\n",
      "scanner=4\n",
      "scanner=21\n",
      "scanner=17\n",
      "scanner=15\n",
      "scanner=13\n",
      "scanner=18\n",
      "scanner=24\n",
      "scanner=5\n",
      "scanner=16\n",
      "scanner=24\n",
      "scanner=6\n",
      "scanner=11\n",
      "scanner=23\n",
      "scanner=17\n",
      "scanner=15\n",
      "scanner=13\n",
      "scanner=18\n",
      "scanner=24\n",
      "scanner=7\n",
      "scanner=11\n",
      "scanner=23\n",
      "scanner=17\n",
      "scanner=15\n",
      "scanner=13\n",
      "scanner=18\n",
      "scanner=24\n",
      "scanner=8\n",
      "scanner=12\n",
      "scanner=15\n",
      "scanner=13\n",
      "scanner=18\n",
      "scanner=24\n",
      "scanner=9\n",
      "scanner=22\n",
      "scanner=14\n",
      "scanner=17\n",
      "scanner=15\n",
      "scanner=13\n",
      "scanner=18\n",
      "scanner=24\n",
      "scanner=10\n",
      "scanner=1\n",
      "scanner=23\n",
      "scanner=17\n",
      "scanner=15\n",
      "scanner=13\n",
      "scanner=18\n",
      "scanner=24\n",
      "scanner=11\n",
      "scanner=23\n",
      "scanner=17\n",
      "scanner=15\n",
      "scanner=13\n",
      "scanner=18\n",
      "scanner=24\n",
      "scanner=12\n",
      "scanner=15\n",
      "scanner=13\n",
      "scanner=18\n",
      "scanner=24\n",
      "scanner=13\n",
      "scanner=18\n",
      "scanner=24\n",
      "scanner=14\n",
      "scanner=17\n",
      "scanner=15\n",
      "scanner=13\n",
      "scanner=18\n",
      "scanner=24\n",
      "scanner=15\n",
      "scanner=13\n",
      "scanner=18\n",
      "scanner=24\n",
      "scanner=16\n",
      "scanner=24\n",
      "scanner=17\n",
      "scanner=15\n",
      "scanner=13\n",
      "scanner=18\n",
      "scanner=24\n",
      "scanner=18\n",
      "scanner=24\n",
      "scanner=19\n",
      "scanner=1\n",
      "scanner=23\n",
      "scanner=17\n",
      "scanner=15\n",
      "scanner=13\n",
      "scanner=18\n",
      "scanner=24\n",
      "scanner=20\n",
      "scanner=7\n",
      "scanner=11\n",
      "scanner=23\n",
      "scanner=17\n",
      "scanner=15\n",
      "scanner=13\n",
      "scanner=18\n",
      "scanner=24\n",
      "scanner=21\n",
      "scanner=17\n",
      "scanner=15\n",
      "scanner=13\n",
      "scanner=18\n",
      "scanner=24\n",
      "scanner=22\n",
      "scanner=14\n",
      "scanner=17\n",
      "scanner=15\n",
      "scanner=13\n",
      "scanner=18\n",
      "scanner=24\n",
      "scanner=23\n",
      "scanner=17\n",
      "scanner=15\n",
      "scanner=13\n",
      "scanner=18\n",
      "scanner=24\n",
      "scanner=24\n"
     ]
    },
    {
     "data": {
      "text/plain": [
       "303"
      ]
     },
     "execution_count": 345,
     "metadata": {},
     "output_type": "execute_result"
    }
   ],
   "source": [
    "beacons = set(gen_points(report))\n",
    "len(beacons)"
   ]
  },
  {
   "cell_type": "code",
   "execution_count": 350,
   "id": "c6407eca",
   "metadata": {},
   "outputs": [],
   "source": [
    "def gen_scanner_pos(report):\n",
    "    \"\"\"Generate scanner positions from report relative to scanner 0.\"\"\"\n",
    "    for scanner, points in enumerate(report):\n",
    "        points = iter({(0, 0, 0)})\n",
    "        \n",
    "        # Move through overlaps graph until we get to scanner 0.\n",
    "        while scanner:\n",
    "            print(f'{scanner=}')\n",
    "            points = [transforms[scanner](point) for point in points]\n",
    "            scanner = overlaps[scanner]\n",
    "        yield from points"
   ]
  },
  {
   "cell_type": "code",
   "execution_count": 351,
   "id": "5bf66e55",
   "metadata": {},
   "outputs": [
    {
     "name": "stdout",
     "output_type": "stream",
     "text": [
      "scanner=1\n",
      "scanner=23\n",
      "scanner=17\n",
      "scanner=15\n",
      "scanner=13\n",
      "scanner=18\n",
      "scanner=24\n",
      "scanner=2\n",
      "scanner=18\n",
      "scanner=24\n",
      "scanner=3\n",
      "scanner=13\n",
      "scanner=18\n",
      "scanner=24\n",
      "scanner=4\n",
      "scanner=21\n",
      "scanner=17\n",
      "scanner=15\n",
      "scanner=13\n",
      "scanner=18\n",
      "scanner=24\n",
      "scanner=5\n",
      "scanner=16\n",
      "scanner=24\n",
      "scanner=6\n",
      "scanner=11\n",
      "scanner=23\n",
      "scanner=17\n",
      "scanner=15\n",
      "scanner=13\n",
      "scanner=18\n",
      "scanner=24\n",
      "scanner=7\n",
      "scanner=11\n",
      "scanner=23\n",
      "scanner=17\n",
      "scanner=15\n",
      "scanner=13\n",
      "scanner=18\n",
      "scanner=24\n",
      "scanner=8\n",
      "scanner=12\n",
      "scanner=15\n",
      "scanner=13\n",
      "scanner=18\n",
      "scanner=24\n",
      "scanner=9\n",
      "scanner=22\n",
      "scanner=14\n",
      "scanner=17\n",
      "scanner=15\n",
      "scanner=13\n",
      "scanner=18\n",
      "scanner=24\n",
      "scanner=10\n",
      "scanner=1\n",
      "scanner=23\n",
      "scanner=17\n",
      "scanner=15\n",
      "scanner=13\n",
      "scanner=18\n",
      "scanner=24\n",
      "scanner=11\n",
      "scanner=23\n",
      "scanner=17\n",
      "scanner=15\n",
      "scanner=13\n",
      "scanner=18\n",
      "scanner=24\n",
      "scanner=12\n",
      "scanner=15\n",
      "scanner=13\n",
      "scanner=18\n",
      "scanner=24\n",
      "scanner=13\n",
      "scanner=18\n",
      "scanner=24\n",
      "scanner=14\n",
      "scanner=17\n",
      "scanner=15\n",
      "scanner=13\n",
      "scanner=18\n",
      "scanner=24\n",
      "scanner=15\n",
      "scanner=13\n",
      "scanner=18\n",
      "scanner=24\n",
      "scanner=16\n",
      "scanner=24\n",
      "scanner=17\n",
      "scanner=15\n",
      "scanner=13\n",
      "scanner=18\n",
      "scanner=24\n",
      "scanner=18\n",
      "scanner=24\n",
      "scanner=19\n",
      "scanner=1\n",
      "scanner=23\n",
      "scanner=17\n",
      "scanner=15\n",
      "scanner=13\n",
      "scanner=18\n",
      "scanner=24\n",
      "scanner=20\n",
      "scanner=7\n",
      "scanner=11\n",
      "scanner=23\n",
      "scanner=17\n",
      "scanner=15\n",
      "scanner=13\n",
      "scanner=18\n",
      "scanner=24\n",
      "scanner=21\n",
      "scanner=17\n",
      "scanner=15\n",
      "scanner=13\n",
      "scanner=18\n",
      "scanner=24\n",
      "scanner=22\n",
      "scanner=14\n",
      "scanner=17\n",
      "scanner=15\n",
      "scanner=13\n",
      "scanner=18\n",
      "scanner=24\n",
      "scanner=23\n",
      "scanner=17\n",
      "scanner=15\n",
      "scanner=13\n",
      "scanner=18\n",
      "scanner=24\n",
      "scanner=24\n"
     ]
    },
    {
     "data": {
      "text/plain": [
       "{(-1343, -2449, 3420),\n",
       " (-1339, -89, 5953),\n",
       " (-1334, -13, 4750),\n",
       " (-1332, 1189, 3446),\n",
       " (-1320, 1154, 4747),\n",
       " (-1316, -1136, 7025),\n",
       " (-1294, -101, 1155),\n",
       " (-1283, -1317, 4793),\n",
       " (-1281, 1232, 1114),\n",
       " (-1186, -1165, 5986),\n",
       " (-139, -1192, 3578),\n",
       " (-122, -1177, 4698),\n",
       " (-118, -2462, 2293),\n",
       " (-100, 21, 3416),\n",
       " (-98, -1296, 2399),\n",
       " (-62, -53, 1206),\n",
       " (-48, 69, 2247),\n",
       " (-46, -1264, 5830),\n",
       " (0, 0, 0),\n",
       " (26, -2408, 3603),\n",
       " (26, 57, 4708),\n",
       " (36, -2327, 4698),\n",
       " (1061, -2385, 3500),\n",
       " (1101, -2397, 4724),\n",
       " (1221, 68, 4633)}"
      ]
     },
     "execution_count": 351,
     "metadata": {},
     "output_type": "execute_result"
    }
   ],
   "source": [
    "scanners = set(gen_scanner_pos(report))\n",
    "scanners"
   ]
  },
  {
   "cell_type": "code",
   "execution_count": 363,
   "id": "45d7775f",
   "metadata": {},
   "outputs": [
    {
     "data": {
      "text/plain": [
       "9621"
      ]
     },
     "execution_count": 363,
     "metadata": {},
     "output_type": "execute_result"
    }
   ],
   "source": [
    "max(\n",
    "    sum(abs(a[i] - b[i]) for i in range(len(a))) \n",
    "    for a, b in itertools.combinations(scanners, r=2)\n",
    ")"
   ]
  },
  {
   "cell_type": "code",
   "execution_count": null,
   "id": "12a1b5c3",
   "metadata": {},
   "outputs": [],
   "source": [
    "def manhattan_distances(points):\n",
    "    \"\"\"Generates Manhattan distances between pairs of points.\"\"\"\n",
    "    \n",
    "    return {distance(a, b) for a, b in itertools.combinations(points, r=2)}\n",
    "\n"
   ]
  },
  {
   "cell_type": "code",
   "execution_count": 347,
   "id": "f4194422",
   "metadata": {},
   "outputs": [
    {
     "data": {
      "text/plain": [
       "[0,\n",
       " 1,\n",
       " 2,\n",
       " 3,\n",
       " 4,\n",
       " 5,\n",
       " 6,\n",
       " 7,\n",
       " 8,\n",
       " 9,\n",
       " 10,\n",
       " 11,\n",
       " 12,\n",
       " 13,\n",
       " 14,\n",
       " 15,\n",
       " 16,\n",
       " 17,\n",
       " 18,\n",
       " 19,\n",
       " 20,\n",
       " 21,\n",
       " 22,\n",
       " 23,\n",
       " 24]"
      ]
     },
     "execution_count": 347,
     "metadata": {},
     "output_type": "execute_result"
    }
   ],
   "source": [
    "[i for i, _ in enumerate(report)]"
   ]
  },
  {
   "cell_type": "code",
   "execution_count": null,
   "id": "cd5d12ec",
   "metadata": {},
   "outputs": [],
   "source": []
  },
  {
   "cell_type": "markdown",
   "id": "9df5ddac",
   "metadata": {},
   "source": [
    "Extract co-ordinate components for each scanner"
   ]
  },
  {
   "cell_type": "code",
   "execution_count": 107,
   "id": "406499db",
   "metadata": {},
   "outputs": [],
   "source": [
    "scanner_0_x, scanner_0_y, scanner_0_z = (set(component) for component in zip(*scanner_0))\n",
    "scanner_1_x, scanner_1_y, scanner_1_z = (set(dim) for dim in zip(*scanner_1))"
   ]
  },
  {
   "cell_type": "markdown",
   "id": "572d3891",
   "metadata": {},
   "source": [
    "- Consider x components of scanner 0 and scanner 1\n",
    "- The x co-ordinate *could* be the same for each scanner\n",
    "- But it's unlikely the scanners are in the same position\n",
    "- So we'll translate scanner 1 by different amounts and calculate the amount of correlation with scanner 0\n",
    "- Start by translating scanner 1 by the min of scanner 0 minus the max of scanner 1\n",
    "- This would shift scanner 1 from this:\n",
    "    ```\n",
    "                     ---scanner 0 x--->\n",
    "                                 ---scanner 1 x--->\n",
    "    ```\n",
    "\n",
    "    To this:\n",
    "    ```\n",
    "                     ---scanner 0 x--->\n",
    "    ---scanner 1 x--->\n",
    "    ```\n",
    "- Increment translation until it is equal to the max of scanner 0 x minus the min of scanner 1 x\n",
    "    ```\n",
    "                     ---scanner 0 x--->\n",
    "                                      ---scanner 1 x--->\n",
    "    ```\n",
    "- Then we'll record the translation that results in greatest correlation/overlap"
   ]
  },
  {
   "cell_type": "code",
   "execution_count": 82,
   "id": "db900f56",
   "metadata": {},
   "outputs": [
    {
     "data": {
      "text/plain": [
       "-1699"
      ]
     },
     "execution_count": 82,
     "metadata": {},
     "output_type": "execute_result"
    }
   ],
   "source": [
    "min(scanner_0_x) - max(scanner_1_x)"
   ]
  },
  {
   "cell_type": "code",
   "execution_count": 83,
   "id": "141f4c9e",
   "metadata": {},
   "outputs": [
    {
     "data": {
      "text/plain": [
       "1130"
      ]
     },
     "execution_count": 83,
     "metadata": {},
     "output_type": "execute_result"
    }
   ],
   "source": [
    "max(scanner_0_x) - min(scanner_1_x)"
   ]
  },
  {
   "cell_type": "code",
   "execution_count": null,
   "id": "5648defe",
   "metadata": {},
   "outputs": [],
   "source": []
  },
  {
   "cell_type": "code",
   "execution_count": 125,
   "id": "de0cd8b3",
   "metadata": {},
   "outputs": [
    {
     "data": {
      "text/plain": [
       "(4, 919)"
      ]
     },
     "execution_count": 125,
     "metadata": {},
     "output_type": "execute_result"
    }
   ],
   "source": [
    "max(similarities(scanner_0_x, scanner_1_x))"
   ]
  },
  {
   "cell_type": "code",
   "execution_count": 126,
   "id": "4ac5723f",
   "metadata": {},
   "outputs": [
    {
     "data": {
      "text/plain": [
       "(3, -26)"
      ]
     },
     "execution_count": 126,
     "metadata": {},
     "output_type": "execute_result"
    }
   ],
   "source": [
    "max(similarities(scanner_0_x, scanner_1_y))"
   ]
  },
  {
   "cell_type": "code",
   "execution_count": 128,
   "id": "da400a18",
   "metadata": {},
   "outputs": [
    {
     "data": {
      "text/plain": [
       "(3, 988)"
      ]
     },
     "execution_count": 128,
     "metadata": {},
     "output_type": "execute_result"
    }
   ],
   "source": [
    "max(similarities(scanner_0_x, scanner_1_z))"
   ]
  },
  {
   "cell_type": "code",
   "execution_count": 127,
   "id": "06eaf3a8",
   "metadata": {},
   "outputs": [
    {
     "data": {
      "text/plain": [
       "(12, 68)"
      ]
     },
     "execution_count": 127,
     "metadata": {},
     "output_type": "execute_result"
    }
   ],
   "source": [
    "max(similarities(scanner_0_x, {-e for e in scanner_1_x}))"
   ]
  },
  {
   "cell_type": "code",
   "execution_count": 98,
   "id": "4e8398a2",
   "metadata": {},
   "outputs": [
    {
     "data": {
      "text/plain": [
       "(-347, 3)"
      ]
     },
     "execution_count": 98,
     "metadata": {},
     "output_type": "execute_result"
    }
   ],
   "source": [
    "max(similarities(scanner_0_x, {-e for e in scanner_1_y}), key=lambda x: x[1])"
   ]
  },
  {
   "cell_type": "code",
   "execution_count": 99,
   "id": "ccd5bdca",
   "metadata": {},
   "outputs": [
    {
     "data": {
      "text/plain": [
       "(-1113, 3)"
      ]
     },
     "execution_count": 99,
     "metadata": {},
     "output_type": "execute_result"
    }
   ],
   "source": [
    "max(similarities(scanner_0_x, {-e for e in scanner_1_z}), key=lambda x: x[1])"
   ]
  },
  {
   "cell_type": "markdown",
   "id": "9abc5084",
   "metadata": {},
   "source": [
    "I take the above as meaning 0x correlates greatest with -1x offset by 68.\n",
    "Is that correct?"
   ]
  },
  {
   "cell_type": "code",
   "execution_count": 100,
   "id": "b548e88f",
   "metadata": {},
   "outputs": [],
   "source": [
    "# Scanners 0 and 1 have overlapping detection cubes; \n",
    "# the 12 beacons they both detect (relative to scanner 0) are at the following coordinates:\n",
    "beacons = (\n",
    "    (-618,-824,-621),\n",
    "    (-537,-823,-458),\n",
    "    (-447,-329,318),\n",
    "    (404,-588,-901),\n",
    "    (544,-627,-890),\n",
    "    (528,-643,409),\n",
    "    (-661,-816,-575),\n",
    "    (390,-675,-793),\n",
    "    (423,-701,434),\n",
    "    (-345,-311,381),\n",
    "    (459,-707,401),\n",
    "    (-485,-357,347),\n",
    ")"
   ]
  },
  {
   "cell_type": "code",
   "execution_count": 102,
   "id": "2a50db0b",
   "metadata": {},
   "outputs": [
    {
     "name": "stdout",
     "output_type": "stream",
     "text": [
      "686\n",
      "605\n",
      "515\n",
      "-336\n",
      "-476\n",
      "-460\n",
      "729\n",
      "-322\n",
      "-355\n",
      "413\n",
      "-391\n",
      "553\n"
     ]
    }
   ],
   "source": [
    "for x, y, z in beacons:\n",
    "    print(-x + 68)"
   ]
  },
  {
   "cell_type": "code",
   "execution_count": null,
   "id": "ce18f3b4",
   "metadata": {},
   "outputs": [],
   "source": [
    "These same 12 beacons (in the same order) but from the perspective of scanner 1 are:\n",
    "\n",
    "686,422,578\n",
    "605,423,415\n",
    "515,917,-361\n",
    "-336,658,858\n",
    "-476,619,847\n",
    "-460,603,-452\n",
    "729,430,532\n",
    "-322,571,750\n",
    "-355,545,-477\n",
    "413,935,-424\n",
    "-391,539,-444\n",
    "553,889,-390"
   ]
  },
  {
   "cell_type": "markdown",
   "id": "b9a41fde",
   "metadata": {},
   "source": [
    "Yes! That matches!"
   ]
  },
  {
   "cell_type": "markdown",
   "id": "ec3f1745",
   "metadata": {},
   "source": [
    "The high-level algorithm is \n",
    "\n",
    "- For each set of components of scanner A's points\n",
    "- Compute the overlap with components of scanner B's points and the negative of components of scanner B's points for possible translation offsets.\n",
    "- "
   ]
  },
  {
   "cell_type": "code",
   "execution_count": null,
   "id": "09425074",
   "metadata": {},
   "outputs": [],
   "source": []
  },
  {
   "cell_type": "markdown",
   "id": "3f798e45",
   "metadata": {},
   "source": [
    "Let's make a function that converts scanner 1's points relative to scanner 0"
   ]
  },
  {
   "cell_type": "code",
   "execution_count": 135,
   "id": "f45e222d",
   "metadata": {},
   "outputs": [
    {
     "data": {
      "text/plain": [
       "{0, 1, 2}"
      ]
     },
     "execution_count": 135,
     "metadata": {},
     "output_type": "execute_result"
    }
   ],
   "source": [
    "candidate_dimensions"
   ]
  },
  {
   "cell_type": "code",
   "execution_count": null,
   "id": "db8a6fcb",
   "metadata": {},
   "outputs": [],
   "source": [
    "\n",
    "\n",
    "for component in components:\n",
    "\n",
    "    dimension, flipped, offset, overlap = max(thing(components[0], other_components, candidate_dimensions), key=lambda x: x[3])\n",
    "    def transform(element):\n",
    "        return (-element if flipped else element) + offset\n",
    "    \n",
    "    transform_\n",
    "    \n",
    "    # We've found the dimension to map to, remove it from candidates.\n",
    "    candidate_dimensions.remove(dimension)\n",
    "    "
   ]
  },
  {
   "cell_type": "code",
   "execution_count": null,
   "id": "6ab32bcc",
   "metadata": {},
   "outputs": [],
   "source": []
  },
  {
   "cell_type": "code",
   "execution_count": null,
   "id": "2b93d84c",
   "metadata": {},
   "outputs": [],
   "source": []
  },
  {
   "cell_type": "markdown",
   "id": "c7437adb",
   "metadata": {},
   "source": [
    "- Scanner 0 and scanner 1 do overlap\n",
    "- Scanner 0's co-ordinates are the reference co-ordinates"
   ]
  },
  {
   "cell_type": "markdown",
   "id": "399c17eb",
   "metadata": {},
   "source": [
    "Taking scanner 0's x co-ordinates for each point, compute"
   ]
  },
  {
   "cell_type": "code",
   "execution_count": null,
   "id": "c0d5f306",
   "metadata": {},
   "outputs": [],
   "source": []
  },
  {
   "cell_type": "code",
   "execution_count": null,
   "id": "47af8532",
   "metadata": {},
   "outputs": [],
   "source": []
  },
  {
   "cell_type": "markdown",
   "id": "7b67e7fb-1398-4246-9916-396547abd49d",
   "metadata": {},
   "source": [
    "For each scanner except the first (reference scanner) determine which other scanner shares the greatest number of distances between beacons. This example makes sense because all scanners are in the same position."
   ]
  },
  {
   "cell_type": "code",
   "execution_count": 13,
   "id": "74cccbec-bfa3-4557-b511-56f83ae8d03d",
   "metadata": {},
   "outputs": [],
   "source": [
    "scanner, *scanners = parse(example2)"
   ]
  },
  {
   "cell_type": "code",
   "execution_count": 19,
   "id": "51b5f021-f624-4151-9d5a-2515704ee1c1",
   "metadata": {},
   "outputs": [
    {
     "data": {
      "text/plain": [
       "((-1, -1, 1), (-2, -2, 2), (-3, -3, 3), (-2, -3, 1), (5, 6, -4), (8, 0, 7))"
      ]
     },
     "execution_count": 19,
     "metadata": {},
     "output_type": "execute_result"
    }
   ],
   "source": [
    "scanner"
   ]
  },
  {
   "cell_type": "code",
   "execution_count": 5,
   "id": "b21685cc-3363-4f17-856c-ae23977c6342",
   "metadata": {},
   "outputs": [
    {
     "data": {
      "text/plain": [
       "{1: 0, 2: 0, 3: 0, 4: 0}"
      ]
     },
     "execution_count": 5,
     "metadata": {},
     "output_type": "execute_result"
    }
   ],
   "source": [
    "def most_similar(scanner, scanners):\n",
    "    \"\"\"Returns most similar scanner in scanners.\"\"\"\n",
    "    distances = [distance(scanner) for scanner in scanners]\n",
    "    return {\n",
    "        reference: sorted(\n",
    "            (other for other in range(len(scanners)) if other != reference),\n",
    "            key=lambda other: len(distances[reference] & distances[other])\n",
    "        )[0]\n",
    "        for reference in range(1, len(scanners))\n",
    "    }\n",
    "\n",
    "most_similar(parse(example2))"
   ]
  },
  {
   "cell_type": "markdown",
   "id": "6669d1f3-a97c-4548-aa08-671973c7e2dd",
   "metadata": {},
   "source": [
    "For each component of reference, find similarity to other components."
   ]
  },
  {
   "cell_type": "code",
   "execution_count": null,
   "id": "e61cd821-8601-49e4-b0ed-ff9f0930aa30",
   "metadata": {},
   "outputs": [],
   "source": []
  },
  {
   "cell_type": "code",
   "execution_count": null,
   "id": "b46437d4-4679-4f01-91f7-929bdc16bfc5",
   "metadata": {},
   "outputs": [],
   "source": []
  }
 ],
 "metadata": {
  "kernelspec": {
   "display_name": "Python 3 (ipykernel)",
   "language": "python",
   "name": "python3"
  },
  "language_info": {
   "codemirror_mode": {
    "name": "ipython",
    "version": 3
   },
   "file_extension": ".py",
   "mimetype": "text/x-python",
   "name": "python",
   "nbconvert_exporter": "python",
   "pygments_lexer": "ipython3",
   "version": "3.9.7"
  }
 },
 "nbformat": 4,
 "nbformat_minor": 5
}
