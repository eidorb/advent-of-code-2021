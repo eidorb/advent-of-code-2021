{
 "cells": [
  {
   "cell_type": "markdown",
   "id": "08a41f45-d2f2-4647-8cdb-19fa12b3d138",
   "metadata": {},
   "source": [
    "# Day 11: Dumbo Octopus"
   ]
  },
  {
   "cell_type": "code",
   "execution_count": 1,
   "id": "8e4c2ac3-9562-4d2d-ad14-1568db2fa566",
   "metadata": {},
   "outputs": [],
   "source": [
    "example = \"\"\"5483143223\n",
    "2745854711\n",
    "5264556173\n",
    "6141336146\n",
    "6357385478\n",
    "4167524645\n",
    "2176841721\n",
    "6882881134\n",
    "4846848554\n",
    "5283751526\"\"\""
   ]
  },
  {
   "cell_type": "code",
   "execution_count": 2,
   "id": "7df568da-7438-41d8-9004-04c892de5eb9",
   "metadata": {},
   "outputs": [
    {
     "data": {
      "text/plain": [
       "[[5, 4, 8, 3, 1, 4, 3, 2, 2, 3],\n",
       " [2, 7, 4, 5, 8, 5, 4, 7, 1, 1],\n",
       " [5, 2, 6, 4, 5, 5, 6, 1, 7, 3],\n",
       " [6, 1, 4, 1, 3, 3, 6, 1, 4, 6],\n",
       " [6, 3, 5, 7, 3, 8, 5, 4, 7, 8],\n",
       " [4, 1, 6, 7, 5, 2, 4, 6, 4, 5],\n",
       " [2, 1, 7, 6, 8, 4, 1, 7, 2, 1],\n",
       " [6, 8, 8, 2, 8, 8, 1, 1, 3, 4],\n",
       " [4, 8, 4, 6, 8, 4, 8, 5, 5, 4],\n",
       " [5, 2, 8, 3, 7, 5, 1, 5, 2, 6]]"
      ]
     },
     "execution_count": 2,
     "metadata": {},
     "output_type": "execute_result"
    }
   ],
   "source": [
    "def parse(input):\n",
    "    \"\"\"Returns energy levels from input.\"\"\"\n",
    "    return [\n",
    "        [int(char) for char in line]\n",
    "        for line in input.splitlines()\n",
    "    ]\n",
    "\n",
    "parse(example)"
   ]
  },
  {
   "cell_type": "markdown",
   "id": "12e6f16a-2435-4b9f-9a89-c70e1ce76703",
   "metadata": {},
   "source": [
    "Simple example after one step."
   ]
  },
  {
   "cell_type": "code",
   "execution_count": 3,
   "id": "f7d4297d-fd7d-480d-905b-4e2364b195a4",
   "metadata": {},
   "outputs": [
    {
     "data": {
      "text/plain": [
       "[[3, 4, 5, 4, 3],\n",
       " [4, 0, 0, 0, 4],\n",
       " [5, 0, 0, 0, 5],\n",
       " [4, 0, 0, 0, 4],\n",
       " [3, 4, 5, 4, 3]]"
      ]
     },
     "execution_count": 3,
     "metadata": {},
     "output_type": "execute_result"
    }
   ],
   "source": [
    "small_example = \"\"\"11111\n",
    "19991\n",
    "19191\n",
    "19991\n",
    "11111\"\"\"\n",
    "\n",
    "def step(levels):\n",
    "    \"\"\"Returns energy levels and flashed cells after one step.\"\"\"\n",
    "    # Increase all levels by.\n",
    "    levels = [[level + 1 for level in line] for line in levels]\n",
    "    \n",
    "    # Coordinates of initial flashers.\n",
    "    flashers = set(((i, j) for i, row in enumerate(levels) for j, level in enumerate(row) if level > 9))\n",
    "    flashed = set()\n",
    "    \n",
    "    # Continue until all flashers have flashed.\n",
    "    while flashers:\n",
    "        i, j = flashers.pop()\n",
    "        \n",
    "        # Keep track of those that have flashed.\n",
    "        flashed.add((i, j))\n",
    "\n",
    "        # Adjacent levels, starting above, moving clockwise.\n",
    "        for m, n in (\n",
    "            # Above.\n",
    "            (i - 1, j),\n",
    "            # Above right.\n",
    "            (i - 1, j + 1),\n",
    "            # Right.\n",
    "            (i, j + 1),\n",
    "            # Below right.\n",
    "            (i + 1, j + 1),\n",
    "            # Below.\n",
    "            (i + 1, j),\n",
    "            # Below left.\n",
    "            (i + 1, j - 1),\n",
    "            # Left.\n",
    "            (i, j - 1),\n",
    "            # Above left.\n",
    "            (i - 1, j - 1)\n",
    "        ):\n",
    "            if m > -1 and m < len(levels) and n > -1 and n < len(levels[0]) and (m, n) not in flashed:\n",
    "                # Increment adjacent level.\n",
    "                levels[m][n] += 1\n",
    "\n",
    "                # Add to flashers if incremented level exceeds threshold.\n",
    "                if levels[m][n] > 9:\n",
    "                    flashers.add((m, n))\n",
    "    \n",
    "    # Set flashed positions to 0.\n",
    "    for i, j in flashed:\n",
    "        levels[i][j] = 0\n",
    "\n",
    "    return levels, flashed\n",
    "    \n",
    "levels, flashed = step(parse(small_example))\n",
    "levels"
   ]
  },
  {
   "cell_type": "markdown",
   "id": "d32c965b-0249-4810-9407-83c23007fc44",
   "metadata": {},
   "source": [
    "Simple example after a second step is correct."
   ]
  },
  {
   "cell_type": "code",
   "execution_count": 4,
   "id": "d336d4ca-52fd-4bf4-af67-df8aa11744c9",
   "metadata": {},
   "outputs": [
    {
     "data": {
      "text/plain": [
       "([[4, 5, 6, 5, 4],\n",
       "  [5, 1, 1, 1, 5],\n",
       "  [6, 1, 1, 1, 6],\n",
       "  [5, 1, 1, 1, 5],\n",
       "  [4, 5, 6, 5, 4]],\n",
       " set())"
      ]
     },
     "execution_count": 4,
     "metadata": {},
     "output_type": "execute_result"
    }
   ],
   "source": [
    "step(levels)"
   ]
  },
  {
   "cell_type": "markdown",
   "id": "68860dd7-c14b-420a-8a35-16a0e8dc5fd2",
   "metadata": {},
   "source": [
    "Flash count after 10 steps."
   ]
  },
  {
   "cell_type": "code",
   "execution_count": 5,
   "id": "478f5828-1965-4e74-b544-81c18e168ccd",
   "metadata": {},
   "outputs": [
    {
     "data": {
      "text/plain": [
       "204"
      ]
     },
     "execution_count": 5,
     "metadata": {},
     "output_type": "execute_result"
    }
   ],
   "source": [
    "flash_count = 0\n",
    "levels = parse(example)\n",
    "for _ in range(10):\n",
    "    levels, flashed = step(levels)\n",
    "    flash_count += len(flashed)\n",
    "flash_count"
   ]
  },
  {
   "cell_type": "markdown",
   "id": "0e30b328-c7fb-4cf6-9294-785cf7dee5ae",
   "metadata": {},
   "source": [
    "After 100 steps."
   ]
  },
  {
   "cell_type": "code",
   "execution_count": 6,
   "id": "b940f1a2-2812-4865-be5c-6e310068dd58",
   "metadata": {},
   "outputs": [
    {
     "data": {
      "text/plain": [
       "1656"
      ]
     },
     "execution_count": 6,
     "metadata": {},
     "output_type": "execute_result"
    }
   ],
   "source": [
    "flash_count = 0\n",
    "levels = parse(example)\n",
    "for _ in range(100):\n",
    "    levels, flashed = step(levels)\n",
    "    flash_count += len(flashed)\n",
    "flash_count"
   ]
  },
  {
   "cell_type": "markdown",
   "id": "b4cf38ec-96d3-4ab6-86dd-2ba8305b253e",
   "metadata": {},
   "source": [
    "After 100 steps on input."
   ]
  },
  {
   "cell_type": "code",
   "execution_count": 7,
   "id": "03ca2986-7f6a-425f-bef8-b5e88810429d",
   "metadata": {},
   "outputs": [
    {
     "data": {
      "text/plain": [
       "1683"
      ]
     },
     "execution_count": 7,
     "metadata": {},
     "output_type": "execute_result"
    }
   ],
   "source": [
    "flash_count = 0\n",
    "levels = parse(open('day-11-input.txt').read())\n",
    "for _ in range(100):\n",
    "    levels, flashed = step(levels)\n",
    "    flash_count += len(flashed)\n",
    "flash_count"
   ]
  },
  {
   "cell_type": "markdown",
   "id": "395e3425-0a9f-4b76-b8ac-74291b60768d",
   "metadata": {},
   "source": [
    "# Part two"
   ]
  },
  {
   "cell_type": "code",
   "execution_count": 8,
   "id": "27715144-d3d4-4eb6-aed7-102bdc21ff0a",
   "metadata": {},
   "outputs": [
    {
     "data": {
      "text/plain": [
       "788"
      ]
     },
     "execution_count": 8,
     "metadata": {},
     "output_type": "execute_result"
    }
   ],
   "source": [
    "step_count = 0\n",
    "levels = parse(open('day-11-input.txt').read())\n",
    "while True:\n",
    "    step_count += 1\n",
    "    levels, _ = step(levels)\n",
    "    if not any(level for row in levels for level in row):\n",
    "        break\n",
    "step_count"
   ]
  }
 ],
 "metadata": {
  "kernelspec": {
   "display_name": "Python 3 (ipykernel)",
   "language": "python",
   "name": "python3"
  },
  "language_info": {
   "codemirror_mode": {
    "name": "ipython",
    "version": 3
   },
   "file_extension": ".py",
   "mimetype": "text/x-python",
   "name": "python",
   "nbconvert_exporter": "python",
   "pygments_lexer": "ipython3",
   "version": "3.8.5"
  }
 },
 "nbformat": 4,
 "nbformat_minor": 5
}
