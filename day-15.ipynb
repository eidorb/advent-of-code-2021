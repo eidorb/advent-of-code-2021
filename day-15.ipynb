{
 "cells": [
  {
   "cell_type": "markdown",
   "id": "efbeecd1-33df-4158-a51b-f5aa75783e6c",
   "metadata": {},
   "source": [
    "# Day 15: Chiton"
   ]
  },
  {
   "cell_type": "code",
   "execution_count": 1,
   "id": "17ce8559-8114-44b9-a666-9fd996834f89",
   "metadata": {},
   "outputs": [],
   "source": [
    "example = \"\"\"1163751742\n",
    "1381373672\n",
    "2136511328\n",
    "3694931569\n",
    "7463417111\n",
    "1319128137\n",
    "1359912421\n",
    "3125421639\n",
    "1293138521\n",
    "2311944581\"\"\""
   ]
  },
  {
   "cell_type": "code",
   "execution_count": 33,
   "id": "68f85480-389a-4868-9761-96038268f2f9",
   "metadata": {},
   "outputs": [
    {
     "data": {
      "text/plain": [
       "[[1, 1, 6, 3, 7, 5, 1, 7, 4, 2],\n",
       " [1, 3, 8, 1, 3, 7, 3, 6, 7, 2],\n",
       " [2, 1, 3, 6, 5, 1, 1, 3, 2, 8],\n",
       " [3, 6, 9, 4, 9, 3, 1, 5, 6, 9],\n",
       " [7, 4, 6, 3, 4, 1, 7, 1, 1, 1],\n",
       " [1, 3, 1, 9, 1, 2, 8, 1, 3, 7],\n",
       " [1, 3, 5, 9, 9, 1, 2, 4, 2, 1],\n",
       " [3, 1, 2, 5, 4, 2, 1, 6, 3, 9],\n",
       " [1, 2, 9, 3, 1, 3, 8, 5, 2, 1],\n",
       " [2, 3, 1, 1, 9, 4, 4, 5, 8, 1]]"
      ]
     },
     "execution_count": 33,
     "metadata": {},
     "output_type": "execute_result"
    }
   ],
   "source": [
    "def parse(input):\n",
    "    \"\"\"Parses weights from input.\"\"\"\n",
    "    return [[int(char) for char in line] for line in input.splitlines()]\n",
    "    \n",
    "parse(example)"
   ]
  },
  {
   "cell_type": "markdown",
   "id": "ed44f742-58d1-4ab9-b948-f865dd4756c7",
   "metadata": {},
   "source": [
    "Distance of shortest path in example should be 40."
   ]
  },
  {
   "cell_type": "code",
   "execution_count": 28,
   "id": "63570d25-a1ad-452b-9a20-01790d277eaa",
   "metadata": {},
   "outputs": [
    {
     "data": {
      "text/plain": [
       "40"
      ]
     },
     "execution_count": 28,
     "metadata": {},
     "output_type": "execute_result"
    }
   ],
   "source": [
    "import math\n",
    "\n",
    "def find_path(origin, dest, weights):\n",
    "    \"\"\"Finds shortest path to dest using Dijkstra's algorithm.\"\"\"\n",
    "    # 1. Mark all nodes unvisited. \n",
    "    unvisited = {(x, y) for x in range(len(weights)) for y in range(len(weights[0]))}\n",
    "    visited = set()\n",
    "    \n",
    "    # 2. Assign tentative distances to all nodes: 0 for origin node, and infinity for all others.\n",
    "    distances = {node: math.inf for node in unvisited}\n",
    "    distances[origin] = 0\n",
    "    \n",
    "    x, y = origin\n",
    "    while unvisited:\n",
    "        # 3. For the current node, consider all of its unvisited neighbours.\n",
    "        for i, j in [node for node in ((x - 1, y), (x, y + 1), (x + 1, y), (x, y - 1)) if node in unvisited]:\n",
    "            # Assign the smaller of new tentative distance or currently assigned distance.\n",
    "            if distances[i, j] > distances[x, y] + weights[i][j]:\n",
    "                distances[i, j] = distances[x, y] + weights[i][j]\n",
    "        \n",
    "        # 4. Mark the current node as visited.\n",
    "        unvisited.remove((x, y))\n",
    "        visited.add((x, y))\n",
    "                     \n",
    "        # 5. If the destination has been marked visited, stop!\n",
    "        if dest in visited:\n",
    "            break\n",
    "            \n",
    "        # 6. Set current node to unvisited node with smallest tentative distance.\n",
    "        x, y = min(unvisited, key=lambda node: distances[node])\n",
    "    return distances\n",
    "\n",
    "find_path((0, 0), (9, 9), parse(example))[9, 9]"
   ]
  },
  {
   "cell_type": "markdown",
   "id": "efd0964e-61de-494b-9bcb-0f022a7d3614",
   "metadata": {},
   "source": [
    "Find distance of shortest path in input."
   ]
  },
  {
   "cell_type": "code",
   "execution_count": 37,
   "id": "f414ee76-d180-4570-a945-c8c1d1e0c26b",
   "metadata": {},
   "outputs": [
    {
     "data": {
      "text/plain": [
       "390"
      ]
     },
     "execution_count": 37,
     "metadata": {},
     "output_type": "execute_result"
    }
   ],
   "source": [
    "weights = parse(open('day-15-input.txt').read())\n",
    "find_path((0, 0), (len(weights) - 1, len(weights[0]) - 1), weights)[len(weights) - 1, len(weights[0]) - 1]"
   ]
  },
  {
   "cell_type": "markdown",
   "id": "883c1161-93c4-4ea6-ae47-e9662b45a5a9",
   "metadata": {},
   "source": [
    "# Part two\n",
    "\n",
    "I only got a result after running this for a very long time. This solution is not good enough."
   ]
  },
  {
   "cell_type": "markdown",
   "id": "199d0b65-b69a-4b39-8137-313673894bc4",
   "metadata": {},
   "source": [
    "The full 5x5 map can be calculated from the original tile."
   ]
  },
  {
   "cell_type": "code",
   "execution_count": 60,
   "id": "8bb84e6f-fc19-4e4f-9ec3-ccee494900f3",
   "metadata": {},
   "outputs": [
    {
     "data": {
      "text/plain": [
       "[[1, 1, 6, 3, 7, 5, 1, 7, 4, 2],\n",
       " [1, 3, 8, 1, 3, 7, 3, 6, 7, 2],\n",
       " [2, 1, 3, 6, 5, 1, 1, 3, 2, 8],\n",
       " [3, 6, 9, 4, 9, 3, 1, 5, 6, 9],\n",
       " [7, 4, 6, 3, 4, 1, 7, 1, 1, 1],\n",
       " [1, 3, 1, 9, 1, 2, 8, 1, 3, 7],\n",
       " [1, 3, 5, 9, 9, 1, 2, 4, 2, 1],\n",
       " [3, 1, 2, 5, 4, 2, 1, 6, 3, 9],\n",
       " [1, 2, 9, 3, 1, 3, 8, 5, 2, 1],\n",
       " [2, 3, 1, 1, 9, 4, 4, 5, 8, 1]]"
      ]
     },
     "execution_count": 60,
     "metadata": {},
     "output_type": "execute_result"
    }
   ],
   "source": [
    "parse(example)"
   ]
  },
  {
   "cell_type": "markdown",
   "id": "bed8102d-7754-4b25-80ab-1151738eb11d",
   "metadata": {},
   "source": [
    "The top-right element should be 6."
   ]
  },
  {
   "cell_type": "code",
   "execution_count": 125,
   "id": "de22bccd-6198-43c6-a368-da514153196c",
   "metadata": {},
   "outputs": [
    {
     "data": {
      "text/plain": [
       "6"
      ]
     },
     "execution_count": 125,
     "metadata": {},
     "output_type": "execute_result"
    }
   ],
   "source": [
    "def transform(x, y, tile):\n",
    "    \"\"\"Returns value of (x, y) in full 5x5 map.\"\"\"\n",
    "    transformed = tile[x % len(tile)][y % len(tile[0])] + (x // len(tile)) + (y // len(tile[0]))\n",
    "    return transformed if transformed < 10 else transformed % 9\n",
    "\n",
    "transform(0, 49, parse(example))"
   ]
  },
  {
   "cell_type": "markdown",
   "id": "31c1a1a1-3509-4d01-9e07-0ce2e788f3a2",
   "metadata": {},
   "source": [
    "Bottom-right of original tile shoule be unchanged - 1."
   ]
  },
  {
   "cell_type": "code",
   "execution_count": 104,
   "id": "5b1aebcb-f5f0-4e4a-9c0a-e503f3d41f20",
   "metadata": {},
   "outputs": [
    {
     "data": {
      "text/plain": [
       "1"
      ]
     },
     "execution_count": 104,
     "metadata": {},
     "output_type": "execute_result"
    }
   ],
   "source": [
    "transform(9, 9, parse(example))"
   ]
  },
  {
   "cell_type": "markdown",
   "id": "bab6ea9a-1544-4ac6-a787-cf422c6af366",
   "metadata": {},
   "source": [
    "Diagonals should be incremented twice - 3 in this case."
   ]
  },
  {
   "cell_type": "code",
   "execution_count": 105,
   "id": "daa00d51-9e78-4576-9dd2-6b796e1c8fe4",
   "metadata": {},
   "outputs": [
    {
     "data": {
      "text/plain": [
       "3"
      ]
     },
     "execution_count": 105,
     "metadata": {},
     "output_type": "execute_result"
    }
   ],
   "source": [
    "transform(10, 10, parse(example))"
   ]
  },
  {
   "cell_type": "markdown",
   "id": "ba1802e8-733c-4b34-9670-fb66c7b07a28",
   "metadata": {},
   "source": [
    "High values should wrap (9 -> 11 -> 2)"
   ]
  },
  {
   "cell_type": "code",
   "execution_count": 127,
   "id": "bfb72039-d60a-4d96-b417-d89db2ba604a",
   "metadata": {},
   "outputs": [
    {
     "data": {
      "text/plain": [
       "2"
      ]
     },
     "execution_count": 127,
     "metadata": {},
     "output_type": "execute_result"
    }
   ],
   "source": [
    "transform(15, 13, parse(example))"
   ]
  },
  {
   "cell_type": "markdown",
   "id": "92e80fe3-cd5c-4475-b02a-50fe74a45721",
   "metadata": {},
   "source": [
    "Shortest past in 5x5 example should be 315."
   ]
  },
  {
   "cell_type": "code",
   "execution_count": 129,
   "id": "3e01a0ee-5607-4050-a728-7e63c33ba16f",
   "metadata": {},
   "outputs": [
    {
     "data": {
      "text/plain": [
       "315"
      ]
     },
     "execution_count": 129,
     "metadata": {},
     "output_type": "execute_result"
    }
   ],
   "source": [
    "import collections\n",
    "\n",
    "def find_path2(origin, dest, weights):\n",
    "    \"\"\"Finds shortest path to dest on full 5x5 map using Dijkstra's algorithm.\n",
    "    \n",
    "    Store distances sparsely this time.\n",
    "    \"\"\"\n",
    "    # 1. Mark all nodes unvisited.\n",
    "    # There are 25x more nodes this time.\n",
    "    unvisited = {(x, y) for x in range(len(weights) * 5) for y in range(len(weights[0]) * 5)}\n",
    "    visited = set()\n",
    "    \n",
    "    # 2. Assign tentative distances to all nodes: 0 for origin node, and infinity for all others.\n",
    "    distances = collections.defaultdict(lambda: math.inf)\n",
    "    distances[origin] = 0\n",
    "    \n",
    "    x, y = origin\n",
    "    while unvisited:\n",
    "        # 3. For the current node, consider all of its unvisited neighbours.\n",
    "        for i, j in [node for node in ((x - 1, y), (x, y + 1), (x + 1, y), (x, y - 1)) if node in unvisited]:\n",
    "            # Assign the smaller of new tentative distance or currently assigned distance.\n",
    "            if distances[i, j] > distances[x, y] + transform(i, j, weights):\n",
    "                distances[i, j] = distances[x, y] + transform(i, j, weights)\n",
    "        \n",
    "        # 4. Mark the current node as visited.\n",
    "        unvisited.remove((x, y))\n",
    "        visited.add((x, y))\n",
    "                     \n",
    "        # 5. If the destination has been marked visited, stop!\n",
    "        if dest in visited:\n",
    "            break\n",
    "            \n",
    "        # 6. Set current node to unvisited node with smallest tentative distance.\n",
    "        x, y = min(unvisited, key=lambda node: distances[node])\n",
    "    return distances\n",
    "\n",
    "weights = parse(example)\n",
    "dest = (len(weights) * 5 - 1, len(weights[0]) * 5 - 1)\n",
    "find_path2((0, 0), dest, weights)[dest[0], dest[1]]"
   ]
  },
  {
   "cell_type": "markdown",
   "id": "b2078129-c0bb-4078-99a5-b072cb4a6867",
   "metadata": {},
   "source": [
    "Find distance of shortest path in 5x5 transformed input."
   ]
  },
  {
   "cell_type": "code",
   "execution_count": 130,
   "id": "4bb17f99-2416-4cb5-93c6-b0e7cb1df436",
   "metadata": {},
   "outputs": [
    {
     "data": {
      "text/plain": [
       "2814"
      ]
     },
     "execution_count": 130,
     "metadata": {},
     "output_type": "execute_result"
    }
   ],
   "source": [
    "weights = parse(open('day-15-input.txt').read())\n",
    "dest = (len(weights) * 5 - 1, len(weights[0]) * 5 - 1)\n",
    "find_path2((0, 0), dest, weights)[dest[0], dest[1]]"
   ]
  }
 ],
 "metadata": {
  "kernelspec": {
   "display_name": "Python 3 (ipykernel)",
   "language": "python",
   "name": "python3"
  },
  "language_info": {
   "codemirror_mode": {
    "name": "ipython",
    "version": 3
   },
   "file_extension": ".py",
   "mimetype": "text/x-python",
   "name": "python",
   "nbconvert_exporter": "python",
   "pygments_lexer": "ipython3",
   "version": "3.8.5"
  }
 },
 "nbformat": 4,
 "nbformat_minor": 5
}
