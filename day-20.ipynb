{
 "cells": [
  {
   "cell_type": "markdown",
   "id": "e0fa95ff-7c9e-4c8b-9671-309ea738c12e",
   "metadata": {
    "tags": []
   },
   "source": [
    "# Day 20: Trench Map"
   ]
  },
  {
   "cell_type": "code",
   "execution_count": 1,
   "id": "aa36fbfc-a5f8-4f54-955a-6a99e14a66cb",
   "metadata": {},
   "outputs": [],
   "source": [
    "example = \"\"\"..#.#..#####.#.#.#.###.##.....###.##.#..###.####..#####..#....#..#..##..##\n",
    "#..######.###...####..#..#####..##..#.#####...##.#.#..#.##..#.#......#.###\n",
    ".######.###.####...#.##.##..#..#..#####.....#.#....###..#.##......#.....#.\n",
    ".#..#..##..#...##.######.####.####.#.#...#.......#..#.#.#...####.##.#.....\n",
    ".#..#...##.#.##..#...##.#.##..###.#......#.#.......#.#.#.####.###.##...#..\n",
    "...####.#..#..#.##.#....##..#.####....##...##..#...#......#.#.......#.....\n",
    "..##..####..#...#.#.#...##..#.#..###..#####........#..####......#..#\n",
    "\n",
    "#..#.\n",
    "#....\n",
    "##..#\n",
    "..#..\n",
    "..###\"\"\""
   ]
  },
  {
   "cell_type": "code",
   "execution_count": 2,
   "id": "cc0264d6-1061-49a5-adac-6f4121e73854",
   "metadata": {},
   "outputs": [
    {
     "data": {
      "text/plain": [
       "'..#.#..#####.#.#.#.###.##.....###.##.#..###.####..#####..#....#..#..##..###..######.###...####..#..#####..##..#.#####...##.#.#..#.##..#.#......#.###.######.###.####...#.##.##..#..#..#####.....#.#....###..#.##......#.....#..#..#..##..#...##.######.####.####.#.#...#.......#..#.#.#...####.##.#......#..#...##.#.##..#...##.#.##..###.#......#.#.......#.#.#.####.###.##...#.....####.#..#..#.##.#....##..#.####....##...##..#...#......#.#.......#.......##..####..#...#.#.#...##..#.#..###..#####........#..####......#..#'"
      ]
     },
     "execution_count": 2,
     "metadata": {},
     "output_type": "execute_result"
    }
   ],
   "source": [
    "def parse(input):\n",
    "    \"\"\"Parses image enhancement algorithm and input image from input.\"\"\"\n",
    "    algorithm, image = input.split('\\n\\n')\n",
    "    return ''.join(algorithm.splitlines()), image.splitlines()\n",
    "algorithm, image = parse(example)\n",
    "algorithm"
   ]
  },
  {
   "cell_type": "code",
   "execution_count": 3,
   "id": "651842b3",
   "metadata": {},
   "outputs": [
    {
     "name": "stdout",
     "output_type": "stream",
     "text": [
      "#..#.\n",
      "#....\n",
      "##..#\n",
      "..#..\n",
      "..###\n"
     ]
    }
   ],
   "source": [
    "for row in image:\n",
    "    print(row)"
   ]
  },
  {
   "cell_type": "markdown",
   "id": "e668946b",
   "metadata": {},
   "source": [
    "Pad the input image so that output pixels can be calculated. All other pixels in this infinite image are dark."
   ]
  },
  {
   "cell_type": "code",
   "execution_count": 4,
   "id": "3ecb2ff1",
   "metadata": {},
   "outputs": [
    {
     "data": {
      "text/plain": [
       "['.........',\n",
       " '.........',\n",
       " '..#..#...',\n",
       " '..#......',\n",
       " '..##..#..',\n",
       " '....#....',\n",
       " '....###..',\n",
       " '.........',\n",
       " '.........']"
      ]
     },
     "execution_count": 4,
     "metadata": {},
     "output_type": "execute_result"
    }
   ],
   "source": [
    "def pad(image, fill):\n",
    "    \"\"\"Returns image surrounded with two layers of dark pixels.\"\"\"\n",
    "    cols = len(image[0])\n",
    "    padded = []\n",
    "    # First two rows are padded with fill pixels.\n",
    "    padded.extend([fill * (cols + 4)] * 2)\n",
    "    for row in image:\n",
    "        # First two and final two columns of image rows are padded with fill pixels. \n",
    "        padded.append(f'{fill * 2}{row}{fill * 2}')\n",
    "    # Final two rows are padded with fill pixels.\n",
    "    padded.extend([fill * (cols + 4)] * 2)\n",
    "    return padded\n",
    "\n",
    "pad(image, '.')"
   ]
  },
  {
   "cell_type": "code",
   "execution_count": 5,
   "id": "e979cd2a",
   "metadata": {
    "scrolled": true
   },
   "outputs": [
    {
     "data": {
      "text/plain": [
       "'...#...#.'"
      ]
     },
     "execution_count": 5,
     "metadata": {},
     "output_type": "execute_result"
    }
   ],
   "source": [
    "def surrounding(image, row, col):\n",
    "    \"\"\"Returns 9 pixels from image surrounding (row, col).\"\"\"\n",
    "    return ''.join(\n",
    "        image[row + offset][col - 1:col + 2]\n",
    "        for offset in range(-1, 2)\n",
    "    )\n",
    "\n",
    "surrounding(pad(image, '.'), 4, 4)"
   ]
  },
  {
   "cell_type": "code",
   "execution_count": 6,
   "id": "bd878275",
   "metadata": {},
   "outputs": [
    {
     "data": {
      "text/plain": [
       "34"
      ]
     },
     "execution_count": 6,
     "metadata": {},
     "output_type": "execute_result"
    }
   ],
   "source": [
    "def combine(pixels):\n",
    "    \"\"\"Combines 9 pixels into binary index.\"\"\"\n",
    "    return int(''.join(\n",
    "        # Convert pixels into 1s and 0s.\n",
    "        '1' if pixel == '#' else '0' for pixel in pixels\n",
    "    ), base=2)\n",
    "    \n",
    "combine(surrounding(pad(image, '.'), 4, 4))"
   ]
  },
  {
   "cell_type": "markdown",
   "id": "fa476140",
   "metadata": {},
   "source": [
    "Run image enhancement once. First pass padding is *always* dark."
   ]
  },
  {
   "cell_type": "code",
   "execution_count": 7,
   "id": "4475876c",
   "metadata": {},
   "outputs": [
    {
     "name": "stdout",
     "output_type": "stream",
     "text": [
      ".##.##.\n",
      "#..#.#.\n",
      "##.#..#\n",
      "####..#\n",
      ".#..##.\n",
      "..##..#\n",
      "...#.#.\n"
     ]
    }
   ],
   "source": [
    "def enhance(image, algorithm):\n",
    "    \"\"\"Returns output of image enhanced with algorithm.\"\"\"\n",
    "    rows = len(image)\n",
    "    cols = len(image[0])\n",
    "    return [\n",
    "        ''.join(\n",
    "            algorithm[combine(surrounding(image, row, col))]\n",
    "            for col in range(1, cols - 1)\n",
    "        )\n",
    "        for row in range(1, rows - 1)\n",
    "    ]\n",
    "\n",
    "first_pass = enhance(pad(image, '.'), algorithm)\n",
    "for row in first_pass:\n",
    "    print(row)"
   ]
  },
  {
   "cell_type": "markdown",
   "id": "aa29241a",
   "metadata": {},
   "source": [
    "Run image enhancement a second time.\n",
    "\n",
    "Because the initial padding was dark pixels, the second pass fill will be the value of the first element of the algorithm (all dark)."
   ]
  },
  {
   "cell_type": "code",
   "execution_count": 8,
   "id": "5a40956a",
   "metadata": {},
   "outputs": [
    {
     "name": "stdout",
     "output_type": "stream",
     "text": [
      ".......#.\n",
      ".#..#.#..\n",
      "#.#...###\n",
      "#...##.#.\n",
      "#.....#.#\n",
      ".#.#####.\n",
      "..#.#####\n",
      "...##.##.\n",
      "....###..\n"
     ]
    }
   ],
   "source": [
    "first_pass = enhance(pad(image, '.'), algorithm)\n",
    "output = enhance(pad(first_pass, algorithm[0]), algorithm)\n",
    "for row in output:\n",
    "    print(row)"
   ]
  },
  {
   "cell_type": "markdown",
   "id": "e5fc1ad8",
   "metadata": {},
   "source": [
    "Count lit pixels."
   ]
  },
  {
   "cell_type": "code",
   "execution_count": 9,
   "id": "8bf50ba1",
   "metadata": {},
   "outputs": [
    {
     "data": {
      "text/plain": [
       "35"
      ]
     },
     "execution_count": 9,
     "metadata": {},
     "output_type": "execute_result"
    }
   ],
   "source": [
    "from collections import Counter\n",
    "\n",
    "counter = Counter()\n",
    "for row in output:\n",
    "    counter.update(row)\n",
    "counter['#']"
   ]
  },
  {
   "cell_type": "markdown",
   "id": "df0856d7",
   "metadata": {},
   "source": [
    "# Part 1\n",
    "\n",
    "Count lit pixels using puzzle input."
   ]
  },
  {
   "cell_type": "code",
   "execution_count": 10,
   "id": "1666175b",
   "metadata": {},
   "outputs": [
    {
     "data": {
      "text/plain": [
       "5057"
      ]
     },
     "execution_count": 10,
     "metadata": {},
     "output_type": "execute_result"
    }
   ],
   "source": [
    "algorithm, image = parse(open('day-20-input.txt').read())\n",
    "\n",
    "first_pass = enhance(pad(image, '.'), algorithm)\n",
    "output = enhance(pad(first_pass, algorithm[0]), algorithm)\n",
    "counter = Counter()\n",
    "for row in output:\n",
    "    counter.update(row)\n",
    "counter['#']"
   ]
  },
  {
   "cell_type": "markdown",
   "id": "ddd0d640",
   "metadata": {},
   "source": [
    "# Part 2\n",
    "\n",
    "Enhance 50 times."
   ]
  },
  {
   "cell_type": "code",
   "execution_count": 11,
   "id": "bfa44c2e",
   "metadata": {},
   "outputs": [
    {
     "data": {
      "text/plain": [
       "3351"
      ]
     },
     "execution_count": 11,
     "metadata": {},
     "output_type": "execute_result"
    }
   ],
   "source": [
    "algorithm, image = parse(example)\n",
    "\n",
    "fill = '.'\n",
    "output = image\n",
    "for _ in range(50):\n",
    "    output = enhance(pad(output, fill), algorithm)\n",
    "    # If fill was dark, fill is now first element of algorithm.\n",
    "    # If fill was lit, fill is now last element of algorithm.\n",
    "    fill = algorithm[0] if fill == '.' else algorithm[-1]\n",
    "counter = Counter()\n",
    "for row in output:\n",
    "    counter.update(row)\n",
    "counter['#']"
   ]
  },
  {
   "cell_type": "code",
   "execution_count": 12,
   "id": "f003a051",
   "metadata": {},
   "outputs": [
    {
     "data": {
      "text/plain": [
       "18502"
      ]
     },
     "execution_count": 12,
     "metadata": {},
     "output_type": "execute_result"
    }
   ],
   "source": [
    "algorithm, image = parse(open('day-20-input.txt').read())\n",
    "\n",
    "fill = '.'\n",
    "output = image\n",
    "for _ in range(50):\n",
    "    output = enhance(pad(output, fill), algorithm)\n",
    "    # If fill was dark, fill is now first element of algorithm.\n",
    "    # If fill was lit, fill is now last element of algorithm.\n",
    "    fill = algorithm[0] if fill == '.' else algorithm[-1]\n",
    "counter = Counter()\n",
    "for row in output:\n",
    "    counter.update(row)\n",
    "counter['#']"
   ]
  }
 ],
 "metadata": {
  "kernelspec": {
   "display_name": "Python 3 (ipykernel)",
   "language": "python",
   "name": "python3"
  },
  "language_info": {
   "codemirror_mode": {
    "name": "ipython",
    "version": 3
   },
   "file_extension": ".py",
   "mimetype": "text/x-python",
   "name": "python",
   "nbconvert_exporter": "python",
   "pygments_lexer": "ipython3",
   "version": "3.9.7"
  }
 },
 "nbformat": 4,
 "nbformat_minor": 5
}
