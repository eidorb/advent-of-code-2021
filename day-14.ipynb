{
 "cells": [
  {
   "cell_type": "markdown",
   "id": "ce6b0538-6daa-4adb-bf76-431532024e04",
   "metadata": {},
   "source": [
    "# Day 14: Extended Polymerization"
   ]
  },
  {
   "cell_type": "code",
   "execution_count": 1,
   "id": "2b11480e-abb9-46d4-a0a6-a28f0032c1c2",
   "metadata": {},
   "outputs": [],
   "source": [
    "example = \"\"\"NNCB\n",
    "\n",
    "CH -> B\n",
    "HH -> N\n",
    "CB -> H\n",
    "NH -> C\n",
    "HB -> C\n",
    "HC -> B\n",
    "HN -> C\n",
    "NN -> C\n",
    "BH -> H\n",
    "NC -> B\n",
    "NB -> B\n",
    "BN -> B\n",
    "BB -> N\n",
    "BC -> B\n",
    "CC -> N\n",
    "CN -> C\"\"\""
   ]
  },
  {
   "cell_type": "code",
   "execution_count": 2,
   "id": "e460cb21-6e32-4d61-a669-f25ced1ff26e",
   "metadata": {},
   "outputs": [
    {
     "data": {
      "text/plain": [
       "('NNCB',\n",
       " Counter({'NN': 1, 'NC': 1, 'CB': 1}),\n",
       " {'CH': 'B',\n",
       "  'HH': 'N',\n",
       "  'CB': 'H',\n",
       "  'NH': 'C',\n",
       "  'HB': 'C',\n",
       "  'HC': 'B',\n",
       "  'HN': 'C',\n",
       "  'NN': 'C',\n",
       "  'BH': 'H',\n",
       "  'NC': 'B',\n",
       "  'NB': 'B',\n",
       "  'BN': 'B',\n",
       "  'BB': 'N',\n",
       "  'BC': 'B',\n",
       "  'CC': 'N',\n",
       "  'CN': 'C'})"
      ]
     },
     "execution_count": 2,
     "metadata": {},
     "output_type": "execute_result"
    }
   ],
   "source": [
    "from collections import Counter\n",
    "\n",
    "def parse(input):\n",
    "    \"\"\"Parses polymer, pair count and rules from input.\"\"\"\n",
    "    lines = input.splitlines()\n",
    "    polymer = lines[0]\n",
    "    pairs = Counter(pair for pair in [polymer[index:index + 2] for index in range(len(polymer) - 1)])\n",
    "    rules = dict(rule_string.split(' -> ') for rule_string in lines[2:])\n",
    "    return polymer, pairs, rules\n",
    "\n",
    "parse(example)"
   ]
  },
  {
   "cell_type": "code",
   "execution_count": 3,
   "id": "36d69ed9-d3e1-46e2-9da2-52304dc2e1c3",
   "metadata": {},
   "outputs": [
    {
     "data": {
      "text/plain": [
       "{'NC': 1, 'CN': 1, 'NB': 1, 'BC': 1, 'CH': 1, 'HB': 1}"
      ]
     },
     "execution_count": 3,
     "metadata": {},
     "output_type": "execute_result"
    }
   ],
   "source": [
    "def step(pairs, rules):\n",
    "    \"\"\"Returns new pairs after a step.\"\"\"\n",
    "    new_pairs = {}\n",
    "    for pair, count in pairs.items():\n",
    "        new_pairs[pair[0] + rules[pair]] = new_pairs.get(pair[0] + rules[pair], 0) + count\n",
    "        new_pairs[rules[pair] + pair[1]] = new_pairs.get(rules[pair] + pair[1], 0) + count\n",
    "    return new_pairs\n",
    "\n",
    "polymer, pairs, rules = parse(example)\n",
    "pairs = step(pairs, rules)\n",
    "pairs"
   ]
  },
  {
   "cell_type": "markdown",
   "id": "6d56deb2-50f6-4682-baae-edc52ee98bf4",
   "metadata": {},
   "source": [
    "After step 10, B occurs 1749 times, C occurs 298 times, H occurs 191 times, and N occurs 865 times:"
   ]
  },
  {
   "cell_type": "code",
   "execution_count": 4,
   "id": "db3e7609-9a8a-4a37-98db-77ae7844eb47",
   "metadata": {},
   "outputs": [
    {
     "data": {
      "text/plain": [
       "Counter({'N': 865, 'B': 1749, 'C': 298, 'H': 161})"
      ]
     },
     "execution_count": 4,
     "metadata": {},
     "output_type": "execute_result"
    }
   ],
   "source": [
    "def count(polymer, pairs):\n",
    "    \"\"\"Returns count of elements in pairs.\"\"\"\n",
    "    count = sum([Counter({pair[0]: count}) for pair, count in pairs.items()], Counter())\n",
    "    count[polymer[-1]] += 1\n",
    "    return count\n",
    "\n",
    "polymer, pairs, rules = parse(example)\n",
    "for _ in range(10):\n",
    "    pairs = step(pairs, rules)\n",
    "count(polymer, pairs)"
   ]
  },
  {
   "cell_type": "markdown",
   "id": "5650c7be-f873-4096-b0b8-7cd2148d5f0b",
   "metadata": {},
   "source": [
    "Subtract least common from most common."
   ]
  },
  {
   "cell_type": "code",
   "execution_count": 5,
   "id": "a50cacb1-609c-4984-93bc-eeba55ad4f30",
   "metadata": {},
   "outputs": [
    {
     "data": {
      "text/plain": [
       "1588"
      ]
     },
     "execution_count": 5,
     "metadata": {},
     "output_type": "execute_result"
    }
   ],
   "source": [
    "most_common = count(polymer, pairs).most_common()\n",
    "most_common[0][1] - most_common[-1][1]"
   ]
  },
  {
   "cell_type": "markdown",
   "id": "32464d7a-f22d-45e6-b32f-5690577cd249",
   "metadata": {},
   "source": [
    "Calculate on input."
   ]
  },
  {
   "cell_type": "code",
   "execution_count": 6,
   "id": "bd9e067b-985a-43a3-8ede-b72607ada072",
   "metadata": {},
   "outputs": [
    {
     "data": {
      "text/plain": [
       "2587"
      ]
     },
     "execution_count": 6,
     "metadata": {},
     "output_type": "execute_result"
    }
   ],
   "source": [
    "polymer, pairs, rules = parse(open('day-14-input.txt').read())\n",
    "for _ in range(10):\n",
    "    pairs = step(pairs, rules)\n",
    "\n",
    "most_common = count(polymer, pairs).most_common()\n",
    "most_common[0][1] - most_common[-1][1]"
   ]
  },
  {
   "cell_type": "markdown",
   "id": "9220797b-984c-4ca0-99ee-1808ce0b4c70",
   "metadata": {
    "tags": []
   },
   "source": [
    "# Part two"
   ]
  },
  {
   "cell_type": "code",
   "execution_count": 7,
   "id": "329e7920-8313-45df-86e6-19082aedc0de",
   "metadata": {},
   "outputs": [
    {
     "data": {
      "text/plain": [
       "3318837563123"
      ]
     },
     "execution_count": 7,
     "metadata": {},
     "output_type": "execute_result"
    }
   ],
   "source": [
    "polymer, pairs, rules = parse(open('day-14-input.txt').read())\n",
    "for _ in range(40):\n",
    "    pairs = step(pairs, rules)\n",
    "\n",
    "most_common = count(polymer, pairs).most_common()\n",
    "most_common[0][1] - most_common[-1][1]"
   ]
  },
  {
   "cell_type": "markdown",
   "id": "2427a99d-7afe-4a95-8a51-261b7b37875b",
   "metadata": {},
   "source": [
    "Part two was super hard! It was not to me how to model it. My original approach was too inefficient for part two."
   ]
  }
 ],
 "metadata": {
  "kernelspec": {
   "display_name": "Python 3 (ipykernel)",
   "language": "python",
   "name": "python3"
  },
  "language_info": {
   "codemirror_mode": {
    "name": "ipython",
    "version": 3
   },
   "file_extension": ".py",
   "mimetype": "text/x-python",
   "name": "python",
   "nbconvert_exporter": "python",
   "pygments_lexer": "ipython3",
   "version": "3.8.5"
  }
 },
 "nbformat": 4,
 "nbformat_minor": 5
}
