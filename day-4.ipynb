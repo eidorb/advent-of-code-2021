{
 "cells": [
  {
   "cell_type": "markdown",
   "id": "8b0dbcf4-0513-4674-a968-b25abdd2d417",
   "metadata": {},
   "source": [
    "# Day 4"
   ]
  },
  {
   "cell_type": "code",
   "execution_count": 1,
   "id": "105995fb-404e-4c7a-9519-c609d4454485",
   "metadata": {},
   "outputs": [],
   "source": [
    "example = \"\"\"7,4,9,5,11,17,23,2,0,14,21,24,10,16,13,6,15,25,12,22,18,20,8,19,3,26,1\n",
    "\n",
    "22 13 17 11  0\n",
    " 8  2 23  4 24\n",
    "21  9 14 16  7\n",
    " 6 10  3 18  5\n",
    " 1 12 20 15 19\n",
    "\n",
    " 3 15  0  2 22\n",
    " 9 18 13 17  5\n",
    "19  8  7 25 23\n",
    "20 11 10 24  4\n",
    "14 21 16 12  6\n",
    "\n",
    "14 21 17 24  4\n",
    "10 16 15  9 19\n",
    "18  8 23 26 20\n",
    "22 11 13  6  5\n",
    " 2  0 12  3  7\"\"\""
   ]
  },
  {
   "cell_type": "code",
   "execution_count": 2,
   "id": "2891bf10-caa6-4e67-9307-8ef09f7978c6",
   "metadata": {},
   "outputs": [],
   "source": [
    "board = ('22',\n",
    "   '13',\n",
    "   '17',\n",
    "   '11',\n",
    "   '0',\n",
    "   '8',\n",
    "   '2',\n",
    "   '23',\n",
    "   '4',\n",
    "   '24',\n",
    "   '21',\n",
    "   '9',\n",
    "   '14',\n",
    "   '16',\n",
    "   '7',\n",
    "   '6',\n",
    "   '10',\n",
    "   '3',\n",
    "   '18',\n",
    "   '5',\n",
    "   '1',\n",
    "   '12',\n",
    "   '20',\n",
    "   '15',\n",
    "   '19')"
   ]
  },
  {
   "cell_type": "code",
   "execution_count": 3,
   "id": "6c9900f1-9507-4cba-8e8e-5da82c06ba4c",
   "metadata": {},
   "outputs": [],
   "source": [
    "def parse_input(input):\n",
    "    \"\"\"Returns list of numbers and list of lists of boards.\"\"\"\n",
    "    numbers, *boards = input.split()\n",
    "    \n",
    "    numbers = numbers.split(',')\n",
    "    \n",
    "    # Group board numbers into lists of 25 numbers.\n",
    "    boards = list(zip(*[iter(boards)] * 25))\n",
    "    \n",
    "    # For each board, list sets of rows and columns.\n",
    "    boards = [\n",
    "        list(set(row) for row in zip(*[iter(board)] * 5)) +\n",
    "        [set(board[x::5]) for x in range(5)]\n",
    "        for board in boards\n",
    "    ]\n",
    "    \n",
    "    return numbers, boards\n",
    "\n",
    "# parse_input(example)"
   ]
  },
  {
   "cell_type": "code",
   "execution_count": 4,
   "id": "e2435792-db54-4573-8244-41176ebaf961",
   "metadata": {},
   "outputs": [],
   "source": [
    "def play_a_round(numbers, boards):\n",
    "    \"\"\"Pops a number removes that number from all sets in boards.\n",
    "    \n",
    "    Returns list of remaining numbers and updated boards.\n",
    "    \"\"\"\n",
    "    for board in boards:\n",
    "        for set in board:\n",
    "            set.discard(numbers[0])\n",
    "    \n",
    "    return numbers[1:], boards\n",
    "\n",
    "# play_a_round(*parse_input(example))"
   ]
  },
  {
   "cell_type": "code",
   "execution_count": 5,
   "id": "d8cdfcf2-93cc-4777-96d6-cc805e67d43e",
   "metadata": {},
   "outputs": [
    {
     "data": {
      "text/plain": [
       "('24',\n",
       " [set(),\n",
       "  {'10', '15', '16', '19'},\n",
       "  {'18', '20', '26', '8'},\n",
       "  {'13', '22', '6'},\n",
       "  {'12', '3'},\n",
       "  {'10', '18', '22'},\n",
       "  {'16', '8'},\n",
       "  {'12', '13', '15'},\n",
       "  {'26', '3', '6'},\n",
       "  {'19', '20'}])"
      ]
     },
     "execution_count": 5,
     "metadata": {},
     "output_type": "execute_result"
    }
   ],
   "source": [
    "def play(numbers, boards):\n",
    "    \"\"\"Plays rounds of bingo until a board wins.\n",
    "    \n",
    "    Returns the number called during the winning round and the winning board.\n",
    "    \"\"\"\n",
    "    for number in numbers:\n",
    "        numbers, boards = play_a_round(numbers, boards)\n",
    "        for board in boards:\n",
    "            if not all(board):\n",
    "                return number, board\n",
    "    \n",
    "play(*parse_input(example))"
   ]
  },
  {
   "cell_type": "markdown",
   "id": "549be775-c544-4370-b941-75643d5bba69",
   "metadata": {},
   "source": [
    "Scoring the example is correct."
   ]
  },
  {
   "cell_type": "code",
   "execution_count": 6,
   "id": "30bc02bd-0d4f-4f68-8f36-660bc177cb63",
   "metadata": {},
   "outputs": [
    {
     "data": {
      "text/plain": [
       "4512"
      ]
     },
     "execution_count": 6,
     "metadata": {},
     "output_type": "execute_result"
    }
   ],
   "source": [
    "def score(number, board):\n",
    "    \"\"\"Returns score for winning number and board.\"\"\"\n",
    "    return int(number) * sum(int(value) for value in set.union(*board))\n",
    "                                   \n",
    "score(*play(*parse_input(example)))"
   ]
  },
  {
   "cell_type": "markdown",
   "id": "7de73759-6e8e-4494-9fce-f43911f4e654",
   "metadata": {},
   "source": [
    "Find score on input."
   ]
  },
  {
   "cell_type": "code",
   "execution_count": 7,
   "id": "95b2681a-dcf4-4197-821e-955694b009dd",
   "metadata": {},
   "outputs": [
    {
     "data": {
      "text/plain": [
       "2496"
      ]
     },
     "execution_count": 7,
     "metadata": {},
     "output_type": "execute_result"
    }
   ],
   "source": [
    "input = open('day-4-input.txt').read()\n",
    "score(*play(*parse_input(input)))"
   ]
  },
  {
   "cell_type": "markdown",
   "id": "fa9bb7fd-e3cb-4c15-8786-7ca6316216e6",
   "metadata": {},
   "source": [
    "# Part two"
   ]
  },
  {
   "cell_type": "code",
   "execution_count": 8,
   "id": "1564c7ab-af57-4181-8dea-337572483134",
   "metadata": {},
   "outputs": [
    {
     "data": {
      "text/plain": [
       "('13',\n",
       " [{'15', '22', '3'},\n",
       "  {'18'},\n",
       "  {'19', '25', '8'},\n",
       "  {'20'},\n",
       "  {'12', '6'},\n",
       "  {'19', '20', '3'},\n",
       "  {'15', '18', '8'},\n",
       "  set(),\n",
       "  {'12', '25'},\n",
       "  {'22', '6'}])"
      ]
     },
     "execution_count": 8,
     "metadata": {},
     "output_type": "execute_result"
    }
   ],
   "source": [
    "def play_to_lose(numbers, boards):\n",
    "    \"\"\"Plays rounds of bingo until the last board to win is found.\n",
    "    \n",
    "    Returns the number called during the losing round and the losing board.\n",
    "    \"\"\"\n",
    "    for number in numbers:\n",
    "        numbers, boards = play_a_round(numbers, boards)\n",
    "            \n",
    "        for board in boards:\n",
    "            if not all(board):\n",
    "                if len(boards) == 1:\n",
    "                    return number, board\n",
    "                boards.remove(board)\n",
    "\n",
    "play_to_lose(*parse_input(example))"
   ]
  },
  {
   "cell_type": "markdown",
   "id": "961a1336-5b06-440d-94d7-eb7f893bc2f2",
   "metadata": {},
   "source": [
    "Scoring the example is correct."
   ]
  },
  {
   "cell_type": "code",
   "execution_count": 9,
   "id": "f9190996-38ce-47d0-a4f0-52a369a51cd3",
   "metadata": {},
   "outputs": [
    {
     "data": {
      "text/plain": [
       "1924"
      ]
     },
     "execution_count": 9,
     "metadata": {},
     "output_type": "execute_result"
    }
   ],
   "source": [
    "score(*play_to_lose(*parse_input(example)))"
   ]
  },
  {
   "cell_type": "markdown",
   "id": "1bad4e06-f7cc-4bda-b5ba-d4a8d141349d",
   "metadata": {},
   "source": [
    "Find score on input."
   ]
  },
  {
   "cell_type": "code",
   "execution_count": 10,
   "id": "d97e9ab4-5013-4ce8-9b1e-8156fc426577",
   "metadata": {},
   "outputs": [
    {
     "data": {
      "text/plain": [
       "25925"
      ]
     },
     "execution_count": 10,
     "metadata": {},
     "output_type": "execute_result"
    }
   ],
   "source": [
    "score(*play_to_lose(*parse_input(input)))"
   ]
  }
 ],
 "metadata": {
  "kernelspec": {
   "display_name": "Python 3 (ipykernel)",
   "language": "python",
   "name": "python3"
  },
  "language_info": {
   "codemirror_mode": {
    "name": "ipython",
    "version": 3
   },
   "file_extension": ".py",
   "mimetype": "text/x-python",
   "name": "python",
   "nbconvert_exporter": "python",
   "pygments_lexer": "ipython3",
   "version": "3.8.5"
  }
 },
 "nbformat": 4,
 "nbformat_minor": 5
}
