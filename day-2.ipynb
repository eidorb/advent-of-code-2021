{
 "cells": [
  {
   "cell_type": "markdown",
   "id": "fe99efb2-5fcc-4515-8ee1-aa37f0fc27c4",
   "metadata": {},
   "source": [
    "# Day 2"
   ]
  },
  {
   "cell_type": "code",
   "execution_count": 1,
   "id": "ce3b4360-43b2-4eea-8109-93c6041f88a0",
   "metadata": {},
   "outputs": [
    {
     "data": {
      "text/plain": [
       "['forward',\n",
       " '5',\n",
       " 'down',\n",
       " '5',\n",
       " 'forward',\n",
       " '8',\n",
       " 'up',\n",
       " '3',\n",
       " 'down',\n",
       " '8',\n",
       " 'forward',\n",
       " '2']"
      ]
     },
     "execution_count": 1,
     "metadata": {},
     "output_type": "execute_result"
    }
   ],
   "source": [
    "example = \"\"\"\n",
    "forward 5\n",
    "down 5\n",
    "forward 8\n",
    "up 3\n",
    "down 8\n",
    "forward 2\n",
    "\"\"\".split()\n",
    "example"
   ]
  },
  {
   "cell_type": "code",
   "execution_count": 2,
   "id": "f809055a-f66c-4d69-9bf7-5659f2d38c72",
   "metadata": {},
   "outputs": [],
   "source": [
    "def plot(course):\n",
    "    \"\"\"Returns position and depth after taking course.\"\"\"\n",
    "    position = depth = 0\n",
    "    \n",
    "    for command, units in zip(course[::2], course[1::2]):\n",
    "        units = int(units)\n",
    "        if command == 'forward':\n",
    "            position += units\n",
    "        elif command == 'down':\n",
    "            depth += units\n",
    "        elif command == 'up':\n",
    "            depth -= units\n",
    "\n",
    "    return position, depth"
   ]
  },
  {
   "cell_type": "markdown",
   "id": "93d67807-1696-42af-bfdf-24da7675be7b",
   "metadata": {},
   "source": [
    "The example checks out."
   ]
  },
  {
   "cell_type": "code",
   "execution_count": 3,
   "id": "8cbbd0d9-817f-48d8-9739-7dc19e861cbc",
   "metadata": {},
   "outputs": [
    {
     "data": {
      "text/plain": [
       "(15, 10)"
      ]
     },
     "execution_count": 3,
     "metadata": {},
     "output_type": "execute_result"
    }
   ],
   "source": [
    "position, depth = plot(example)\n",
    "position, depth"
   ]
  },
  {
   "cell_type": "code",
   "execution_count": 4,
   "id": "8ef7164a-ec89-411c-85fe-46f7912594c1",
   "metadata": {},
   "outputs": [
    {
     "data": {
      "text/plain": [
       "150"
      ]
     },
     "execution_count": 4,
     "metadata": {},
     "output_type": "execute_result"
    }
   ],
   "source": [
    "position * depth"
   ]
  },
  {
   "cell_type": "code",
   "execution_count": 5,
   "id": "b785b574-9547-410c-8783-c59a32f0ec15",
   "metadata": {},
   "outputs": [],
   "source": [
    "input = open('day-2-input.txt').read().split()"
   ]
  },
  {
   "cell_type": "code",
   "execution_count": 6,
   "id": "065ae9d3-db4e-42a1-9e17-0446888d8e92",
   "metadata": {},
   "outputs": [
    {
     "data": {
      "text/plain": [
       "1427868"
      ]
     },
     "execution_count": 6,
     "metadata": {},
     "output_type": "execute_result"
    }
   ],
   "source": [
    "position, depth = plot(input)\n",
    "position * depth"
   ]
  },
  {
   "cell_type": "markdown",
   "id": "e2cc9fc3-fe49-4790-8b7d-3aa74836b728",
   "metadata": {},
   "source": [
    "# Part two"
   ]
  },
  {
   "cell_type": "code",
   "execution_count": 7,
   "id": "fb88cd6a-32ae-4af9-959d-a11e4f48fb2e",
   "metadata": {},
   "outputs": [],
   "source": [
    "def plot2(course):\n",
    "    \"\"\"Returns position and depth after taking course.\n",
    "    \n",
    "    Considers aim.\n",
    "    \"\"\"\n",
    "    position = depth = aim = 0\n",
    "    \n",
    "    for command, units in zip(course[::2], course[1::2]):\n",
    "        units = int(units)\n",
    "        if command == 'forward':\n",
    "            position += units\n",
    "            depth += aim * units\n",
    "        elif command == 'down':\n",
    "            aim += units\n",
    "        elif command == 'up':\n",
    "            aim -= units\n",
    "\n",
    "    return position, depth"
   ]
  },
  {
   "cell_type": "markdown",
   "id": "d9f5ac42-f7f0-4289-be54-86dd41054c31",
   "metadata": {},
   "source": [
    "Check example with new plot2 function. "
   ]
  },
  {
   "cell_type": "code",
   "execution_count": 8,
   "id": "ac75942f-9227-497f-b472-787cb5b70b25",
   "metadata": {},
   "outputs": [
    {
     "data": {
      "text/plain": [
       "(15, 60)"
      ]
     },
     "execution_count": 8,
     "metadata": {},
     "output_type": "execute_result"
    }
   ],
   "source": [
    "position, depth = plot2(example)\n",
    "position, depth"
   ]
  },
  {
   "cell_type": "code",
   "execution_count": 9,
   "id": "d579d27e-8fb4-403d-baba-0e72433ca3f8",
   "metadata": {},
   "outputs": [
    {
     "data": {
      "text/plain": [
       "900"
      ]
     },
     "execution_count": 9,
     "metadata": {},
     "output_type": "execute_result"
    }
   ],
   "source": [
    "position * depth"
   ]
  },
  {
   "cell_type": "code",
   "execution_count": 10,
   "id": "efe6cc91-597b-4ab0-b058-98fdadc85520",
   "metadata": {},
   "outputs": [
    {
     "data": {
      "text/plain": [
       "1568138742"
      ]
     },
     "execution_count": 10,
     "metadata": {},
     "output_type": "execute_result"
    }
   ],
   "source": [
    "position, depth = plot2(input)\n",
    "position * depth"
   ]
  }
 ],
 "metadata": {
  "kernelspec": {
   "display_name": "Python 3 (ipykernel)",
   "language": "python",
   "name": "python3"
  },
  "language_info": {
   "codemirror_mode": {
    "name": "ipython",
    "version": 3
   },
   "file_extension": ".py",
   "mimetype": "text/x-python",
   "name": "python",
   "nbconvert_exporter": "python",
   "pygments_lexer": "ipython3",
   "version": "3.9.7"
  }
 },
 "nbformat": 4,
 "nbformat_minor": 5
}
