{
 "cells": [
  {
   "cell_type": "markdown",
   "id": "08a2c44d-fbc3-4102-9087-37c0b6f65178",
   "metadata": {},
   "source": [
    "# Day 16: Packet Decoder"
   ]
  },
  {
   "cell_type": "markdown",
   "id": "31f00226-83b7-4347-8b66-32493b89a6c7",
   "metadata": {},
   "source": [
    "Leading zeros should be preserved."
   ]
  },
  {
   "cell_type": "code",
   "execution_count": 1,
   "id": "1aa4491f-e45c-4694-944a-bb950a55366e",
   "metadata": {},
   "outputs": [],
   "source": [
    "def parse(input):\n",
    "    \"\"\"Parses bit string from input.\"\"\"\n",
    "    return ''.join(format(int(char, base=16), '04b') for char in input.strip())\n",
    "\n",
    "assert parse('38006F45291200') == '00111000000000000110111101000101001010010001001000000000'"
   ]
  },
  {
   "cell_type": "code",
   "execution_count": 2,
   "id": "c296faee-c721-47dd-b804-4f02e3f6fde8",
   "metadata": {},
   "outputs": [],
   "source": [
    "def decode(packet):\n",
    "    \"\"\"Returns packet values\"\"\"\n",
    "    # Tracks location in packet.\n",
    "    head = 0\n",
    "    \n",
    "    # Version is 3 bits.\n",
    "    version = int(packet[head:(head := head + 3)], base=2)\n",
    "    \n",
    "    # Type is 3 bits.\n",
    "    type = int(packet[head:(head := head + 3)], base=2)\n",
    "    \n",
    "    if type != 4:\n",
    "        # It's an operator packet containing one or more subpackets.\n",
    "        subpackets = []\n",
    "        \n",
    "        # Length type is 1 bit.\n",
    "        length_type = int(packet[head:(head := head + 1)])\n",
    "        \n",
    "        if length_type:\n",
    "            # next 11 bits are a number that represents the number of sub-packets \n",
    "            # immediately contained by this packet.\n",
    "            length = int(packet[head:(head := head + 11)], base=2)\n",
    "            for _ in range(length):\n",
    "                subpacket = decode(packet[head:])\n",
    "                head += subpacket['head']\n",
    "                subpackets.append(subpacket)\n",
    "            return dict(version=version, type=type, length_type=length_type, subpackets=subpackets, head=head)\n",
    "\n",
    "        else:\n",
    "            # next 15 bits are a number that represents the total length in bits \n",
    "            # of the sub-packets contained by this packet..\n",
    "            length = int(packet[head:(head := head + 15)], base=2)\n",
    "\n",
    "            # Keep extracting subpackets until we reach length.\n",
    "            while length > 0:\n",
    "                subpacket = decode(packet[head:])\n",
    "                length -= subpacket['head']\n",
    "                head += subpacket['head'] \n",
    "                subpackets.append(subpacket)\n",
    "            return dict(version=version, type=type, length_type=length_type, subpackets=subpackets, head=head)\n",
    "\n",
    "\n",
    "    else:\n",
    "        # Type 4 is a literal value.\n",
    "        # Stitch together 5-bit chunks until MSB is 0.\n",
    "        value_chunks = []\n",
    "        while True:\n",
    "            # 1-bit flag indicates if more chunks follow.\n",
    "            more = int(packet[head:(head := head + 1)], base=2)\n",
    "            \n",
    "            # Append the 4-bit *string*.\n",
    "            value_chunks.append(packet[head:(head := head + 4)])\n",
    "            \n",
    "            if not more:\n",
    "                # Consume any remaining bits to align to 4-bit hex boundary.\n",
    "                return dict(version=version, type=type, value=int(''.join(value_chunks), base=2), head=head)"
   ]
  },
  {
   "cell_type": "markdown",
   "id": "bf9efe41-b1a4-4b3f-beb1-641395a4f6d4",
   "metadata": {},
   "source": [
    "Literal value 2021."
   ]
  },
  {
   "cell_type": "code",
   "execution_count": 3,
   "id": "0e432a7c-40d2-4ea7-a8dd-cd2e164cd1de",
   "metadata": {},
   "outputs": [],
   "source": [
    "assert decode(parse('D2FE28'))['value'] == 2021"
   ]
  },
  {
   "cell_type": "markdown",
   "id": "79adceb2-f3a3-46b5-99b1-aea8dc83d524",
   "metadata": {},
   "source": [
    "This operator packet should have two literal subpackets: 10 and 20."
   ]
  },
  {
   "cell_type": "code",
   "execution_count": 4,
   "id": "8240d498-252e-4cf7-8ea7-9c23db2cee68",
   "metadata": {},
   "outputs": [
    {
     "data": {
      "text/plain": [
       "{'version': 1,\n",
       " 'type': 6,\n",
       " 'length_type': 0,\n",
       " 'subpackets': [{'version': 6, 'type': 4, 'value': 10, 'head': 11},\n",
       "  {'version': 2, 'type': 4, 'value': 20, 'head': 16}],\n",
       " 'head': 49}"
      ]
     },
     "execution_count": 4,
     "metadata": {},
     "output_type": "execute_result"
    }
   ],
   "source": [
    "decode(parse('38006F45291200'))"
   ]
  },
  {
   "cell_type": "markdown",
   "id": "54058e24-21da-4845-add6-fbbaef4223cf",
   "metadata": {},
   "source": [
    "This operator packet should have three literal subpackets: 1, 2 and 3."
   ]
  },
  {
   "cell_type": "code",
   "execution_count": 5,
   "id": "eda0609c-9a8c-465d-ad80-35031a486540",
   "metadata": {},
   "outputs": [
    {
     "data": {
      "text/plain": [
       "{'version': 7,\n",
       " 'type': 3,\n",
       " 'length_type': 1,\n",
       " 'subpackets': [{'version': 2, 'type': 4, 'value': 1, 'head': 11},\n",
       "  {'version': 4, 'type': 4, 'value': 2, 'head': 11},\n",
       "  {'version': 1, 'type': 4, 'value': 3, 'head': 11}],\n",
       " 'head': 51}"
      ]
     },
     "execution_count": 5,
     "metadata": {},
     "output_type": "execute_result"
    }
   ],
   "source": [
    "decode(parse('EE00D40C823060'))"
   ]
  },
  {
   "cell_type": "code",
   "execution_count": 6,
   "id": "5cfef427-7fae-41a8-aaa1-3a48d45b6dab",
   "metadata": {},
   "outputs": [],
   "source": [
    "def walk_versions(packet):\n",
    "    \"\"\"Yields versions in packet and subpackets.\"\"\"\n",
    "    yield packet['version']\n",
    "    for packet in packet.get('subpackets', []):\n",
    "        yield from walk_versions(packet)"
   ]
  },
  {
   "cell_type": "markdown",
   "id": "a3910496-aeb0-48a0-aecf-c9d127dd6eba",
   "metadata": {},
   "source": [
    "This packet has a version sum of 16."
   ]
  },
  {
   "cell_type": "code",
   "execution_count": 7,
   "id": "e7fe2e7b-5167-4277-a1e3-39cce2013053",
   "metadata": {},
   "outputs": [
    {
     "data": {
      "text/plain": [
       "16"
      ]
     },
     "execution_count": 7,
     "metadata": {},
     "output_type": "execute_result"
    }
   ],
   "source": [
    "sum(walk_versions(decode(parse('8A004A801A8002F478'))))"
   ]
  },
  {
   "cell_type": "markdown",
   "id": "80e7837f-07d9-433c-9fe7-66be1daa5bea",
   "metadata": {},
   "source": [
    "This packet has a version sum of 12."
   ]
  },
  {
   "cell_type": "code",
   "execution_count": 8,
   "id": "506a764c-dcb4-4f61-8407-cce1979b42c2",
   "metadata": {},
   "outputs": [
    {
     "data": {
      "text/plain": [
       "12"
      ]
     },
     "execution_count": 8,
     "metadata": {},
     "output_type": "execute_result"
    }
   ],
   "source": [
    "sum(walk_versions(decode(parse('620080001611562C8802118E34'))))"
   ]
  },
  {
   "cell_type": "markdown",
   "id": "c5b04bee-39d1-456b-b66a-31d312711f19",
   "metadata": {},
   "source": [
    "This packet has a version sum of 23."
   ]
  },
  {
   "cell_type": "code",
   "execution_count": 9,
   "id": "220af6a3-0402-4be4-928f-7fa45fe9cc6e",
   "metadata": {},
   "outputs": [
    {
     "data": {
      "text/plain": [
       "23"
      ]
     },
     "execution_count": 9,
     "metadata": {},
     "output_type": "execute_result"
    }
   ],
   "source": [
    "sum(walk_versions(decode(parse('C0015000016115A2E0802F182340'))))"
   ]
  },
  {
   "cell_type": "markdown",
   "id": "2df725b1-ab9c-4fc7-9272-21999bde9349",
   "metadata": {},
   "source": [
    "This packet has a version sum of 31."
   ]
  },
  {
   "cell_type": "code",
   "execution_count": 10,
   "id": "939c6c43-9cea-4fe8-9fb9-ab754df55e8a",
   "metadata": {},
   "outputs": [
    {
     "data": {
      "text/plain": [
       "31"
      ]
     },
     "execution_count": 10,
     "metadata": {},
     "output_type": "execute_result"
    }
   ],
   "source": [
    "sum(walk_versions(decode(parse('A0016C880162017C3686B18A3D4780'))))"
   ]
  },
  {
   "cell_type": "markdown",
   "id": "a5ef08a8-1630-46dd-ad75-dd6be0310ff4",
   "metadata": {},
   "source": [
    "This packet has a version sum of 16."
   ]
  },
  {
   "cell_type": "code",
   "execution_count": 11,
   "id": "e734ca65-bef3-4d36-8c5b-4735939b3fb6",
   "metadata": {},
   "outputs": [
    {
     "data": {
      "text/plain": [
       "895"
      ]
     },
     "execution_count": 11,
     "metadata": {},
     "output_type": "execute_result"
    }
   ],
   "source": [
    "sum(walk_versions(decode(parse(open('day-16-input.txt').read()))))"
   ]
  },
  {
   "cell_type": "markdown",
   "id": "9a835db1-cdaf-4902-b496-7cea5e6abbf3",
   "metadata": {},
   "source": [
    "# Part two"
   ]
  },
  {
   "cell_type": "code",
   "execution_count": 12,
   "id": "bd236a24-9de5-4629-9eba-be7e248bafef",
   "metadata": {},
   "outputs": [],
   "source": [
    "import math\n",
    "\n",
    "def compute(packet):\n",
    "    \"\"\"Computes packet according to operators.\"\"\"\n",
    "    # Literal values (type ID 4) represent a single number\n",
    "    if packet['type'] == 4:\n",
    "        return packet['value']\n",
    "    # Packets with type ID 0 are sum packets - their value is the sum of the values of their sub-packets. \n",
    "    # If they only have a single sub-packet, their value is the value of the sub-packet.\n",
    "    elif packet['type'] == 0:\n",
    "        return sum(compute(packet) for packet in packet['subpackets'])\n",
    "    # Packets with type ID 1 are product packets - their value is the result of multiplying together the values of their sub-packets. \n",
    "    # If they only have a single sub-packet, their value is the value of the sub-packet.\n",
    "    elif packet['type'] == 1:\n",
    "        return math.prod(compute(packet) for packet in packet['subpackets'])\n",
    "    # Packets with type ID 2 are minimum packets - their value is the minimum of the values of their sub-packets.\n",
    "    elif packet['type'] == 2:\n",
    "        return min(compute(packet) for packet in packet['subpackets'])\n",
    "    # Packets with type ID 3 are maximum packets - their value is the maximum of the values of their sub-packets.\n",
    "    elif packet['type'] == 3:\n",
    "        return max(compute(packet) for packet in packet['subpackets'])\n",
    "    # Packets with type ID 5 are greater than packets - their value is 1 if the value of the first sub-packet is greater than the value of the second sub-packet; otherwise, their value is 0. These packets always have exactly two sub-packets.\n",
    "    elif packet['type'] == 5:\n",
    "        first, second = packet['subpackets']\n",
    "        return int(compute(first) > compute(second))\n",
    "    # Packets with type ID 6 are less than packets - their value is 1 if the value of the first sub-packet is less than the value of the second sub-packet; otherwise, their value is 0. These packets always have exactly two sub-packets.\n",
    "    elif packet['type'] == 6:\n",
    "        first, second = packet['subpackets']\n",
    "        return int(compute(first) < compute(second))\n",
    "    # Packets with type ID 7 are equal to packets - their value is 1 if the value of the first sub-packet is equal to the value of the second sub-packet; otherwise, their value is 0. These packets always have exactly two sub-packets.\n",
    "    elif packet['type'] == 7:\n",
    "        first, second = packet['subpackets']\n",
    "        return int(compute(first) == compute(second))"
   ]
  },
  {
   "cell_type": "markdown",
   "id": "a209d25c-2ac7-45d6-9f29-b37180707325",
   "metadata": {},
   "source": [
    "C200B40A82 finds the sum of 1 and 2, resulting in the value 3."
   ]
  },
  {
   "cell_type": "code",
   "execution_count": 13,
   "id": "6cf3ecaa-657b-4b51-a5b3-705058cbf4af",
   "metadata": {},
   "outputs": [
    {
     "data": {
      "text/plain": [
       "3"
      ]
     },
     "execution_count": 13,
     "metadata": {},
     "output_type": "execute_result"
    }
   ],
   "source": [
    "compute(decode(parse('C200B40A82')))"
   ]
  },
  {
   "cell_type": "markdown",
   "id": "6f63a2c0-1778-425d-a6b4-078b833d56a3",
   "metadata": {},
   "source": [
    "04005AC33890 finds the product of 6 and 9, resulting in the value 54."
   ]
  },
  {
   "cell_type": "code",
   "execution_count": 14,
   "id": "3e7b38cc-c29f-403a-8f71-06913604cd01",
   "metadata": {},
   "outputs": [
    {
     "data": {
      "text/plain": [
       "54"
      ]
     },
     "execution_count": 14,
     "metadata": {},
     "output_type": "execute_result"
    }
   ],
   "source": [
    "compute(decode(parse('04005AC33890')))"
   ]
  },
  {
   "cell_type": "markdown",
   "id": "7988e733-8535-4bf1-a1f7-a916b256c5c7",
   "metadata": {},
   "source": [
    "880086C3E88112 finds the minimum of 7, 8, and 9, resulting in the value 7."
   ]
  },
  {
   "cell_type": "code",
   "execution_count": 15,
   "id": "e16093c3-c7ec-498b-b624-fb70eb998bf9",
   "metadata": {},
   "outputs": [
    {
     "data": {
      "text/plain": [
       "7"
      ]
     },
     "execution_count": 15,
     "metadata": {},
     "output_type": "execute_result"
    }
   ],
   "source": [
    "compute(decode(parse('880086C3E88112')))"
   ]
  },
  {
   "cell_type": "markdown",
   "id": "f856ca11-58c1-4fe2-8c98-f0bd5ca2ab8e",
   "metadata": {},
   "source": [
    "CE00C43D881120 finds the maximum of 7, 8, and 9, resulting in the value 9."
   ]
  },
  {
   "cell_type": "code",
   "execution_count": 16,
   "id": "c4a599d5-e2c4-4cfe-a8e8-4e49c5b9bc42",
   "metadata": {},
   "outputs": [
    {
     "data": {
      "text/plain": [
       "9"
      ]
     },
     "execution_count": 16,
     "metadata": {},
     "output_type": "execute_result"
    }
   ],
   "source": [
    "compute(decode(parse('CE00C43D881120')))"
   ]
  },
  {
   "cell_type": "markdown",
   "id": "dbaf583c-a3cb-44c5-a558-3df34694a46b",
   "metadata": {},
   "source": [
    "D8005AC2A8F0 produces 1, because 5 is less than 15."
   ]
  },
  {
   "cell_type": "code",
   "execution_count": 17,
   "id": "5d0c8f18-cf86-4b46-a21c-400e620d711e",
   "metadata": {},
   "outputs": [
    {
     "data": {
      "text/plain": [
       "1"
      ]
     },
     "execution_count": 17,
     "metadata": {},
     "output_type": "execute_result"
    }
   ],
   "source": [
    "compute(decode(parse('D8005AC2A8F0')))"
   ]
  },
  {
   "cell_type": "markdown",
   "id": "af4adcf7-414d-4d8f-91c5-b7ed42e5754a",
   "metadata": {},
   "source": [
    "F600BC2D8F produces 0, because 5 is not greater than 15."
   ]
  },
  {
   "cell_type": "code",
   "execution_count": 18,
   "id": "182cc527-c137-4903-8a96-a32308fb9f0c",
   "metadata": {},
   "outputs": [
    {
     "data": {
      "text/plain": [
       "0"
      ]
     },
     "execution_count": 18,
     "metadata": {},
     "output_type": "execute_result"
    }
   ],
   "source": [
    "compute(decode(parse('F600BC2D8F')))"
   ]
  },
  {
   "cell_type": "markdown",
   "id": "7c5d1348-6a1d-4744-87e1-507414761655",
   "metadata": {},
   "source": [
    "9C005AC2F8F0 produces 0, because 5 is not equal to 15."
   ]
  },
  {
   "cell_type": "code",
   "execution_count": 19,
   "id": "a38b4fd3-242b-4d0c-8cc8-eca9e04aeea4",
   "metadata": {},
   "outputs": [
    {
     "data": {
      "text/plain": [
       "0"
      ]
     },
     "execution_count": 19,
     "metadata": {},
     "output_type": "execute_result"
    }
   ],
   "source": [
    "compute(decode(parse('9C005AC2F8F0')))"
   ]
  },
  {
   "cell_type": "markdown",
   "id": "1ab3d633-641a-4929-a389-218604e57af7",
   "metadata": {},
   "source": [
    "9C0141080250320F1802104A08 produces 1, because 1 + 3 = 2 * 2."
   ]
  },
  {
   "cell_type": "code",
   "execution_count": 20,
   "id": "954fee50-89b2-4aab-8a9e-93362770f6f5",
   "metadata": {},
   "outputs": [
    {
     "data": {
      "text/plain": [
       "1"
      ]
     },
     "execution_count": 20,
     "metadata": {},
     "output_type": "execute_result"
    }
   ],
   "source": [
    "compute(decode(parse('9C0141080250320F1802104A08')))"
   ]
  },
  {
   "cell_type": "markdown",
   "id": "bc9e68d0-0b13-40a7-ad1d-8d99639fd26a",
   "metadata": {},
   "source": [
    "Evaluate input."
   ]
  },
  {
   "cell_type": "code",
   "execution_count": 21,
   "id": "79d56d35-1fef-4702-97d1-c6f9b49d564d",
   "metadata": {},
   "outputs": [
    {
     "data": {
      "text/plain": [
       "1148595959144"
      ]
     },
     "execution_count": 21,
     "metadata": {},
     "output_type": "execute_result"
    }
   ],
   "source": [
    "compute(decode(parse(open('day-16-input.txt').read())))"
   ]
  }
 ],
 "metadata": {
  "kernelspec": {
   "display_name": "Python 3 (ipykernel)",
   "language": "python",
   "name": "python3"
  },
  "language_info": {
   "codemirror_mode": {
    "name": "ipython",
    "version": 3
   },
   "file_extension": ".py",
   "mimetype": "text/x-python",
   "name": "python",
   "nbconvert_exporter": "python",
   "pygments_lexer": "ipython3",
   "version": "3.8.5"
  }
 },
 "nbformat": 4,
 "nbformat_minor": 5
}
