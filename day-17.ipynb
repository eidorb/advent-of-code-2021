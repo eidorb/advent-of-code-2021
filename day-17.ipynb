{
 "cells": [
  {
   "cell_type": "markdown",
   "id": "aa3d24db-7358-46f6-a7d2-e1c437cf6f7d",
   "metadata": {},
   "source": [
    "# Day 17: Trick Shot"
   ]
  },
  {
   "cell_type": "code",
   "execution_count": 1,
   "id": "83384bf6-aab7-4ad0-b9ad-670f0522aaf9",
   "metadata": {},
   "outputs": [],
   "source": [
    "example = \"\"\"target area: x=20..30, y=-10..-5\"\"\""
   ]
  },
  {
   "cell_type": "code",
   "execution_count": 2,
   "id": "1aba42eb-4867-427b-95b0-7330164b5417",
   "metadata": {},
   "outputs": [
    {
     "data": {
      "text/plain": [
       "{(20, -10),\n",
       " (20, -9),\n",
       " (20, -8),\n",
       " (20, -7),\n",
       " (20, -6),\n",
       " (20, -5),\n",
       " (21, -10),\n",
       " (21, -9),\n",
       " (21, -8),\n",
       " (21, -7),\n",
       " (21, -6),\n",
       " (21, -5),\n",
       " (22, -10),\n",
       " (22, -9),\n",
       " (22, -8),\n",
       " (22, -7),\n",
       " (22, -6),\n",
       " (22, -5),\n",
       " (23, -10),\n",
       " (23, -9),\n",
       " (23, -8),\n",
       " (23, -7),\n",
       " (23, -6),\n",
       " (23, -5),\n",
       " (24, -10),\n",
       " (24, -9),\n",
       " (24, -8),\n",
       " (24, -7),\n",
       " (24, -6),\n",
       " (24, -5),\n",
       " (25, -10),\n",
       " (25, -9),\n",
       " (25, -8),\n",
       " (25, -7),\n",
       " (25, -6),\n",
       " (25, -5),\n",
       " (26, -10),\n",
       " (26, -9),\n",
       " (26, -8),\n",
       " (26, -7),\n",
       " (26, -6),\n",
       " (26, -5),\n",
       " (27, -10),\n",
       " (27, -9),\n",
       " (27, -8),\n",
       " (27, -7),\n",
       " (27, -6),\n",
       " (27, -5),\n",
       " (28, -10),\n",
       " (28, -9),\n",
       " (28, -8),\n",
       " (28, -7),\n",
       " (28, -6),\n",
       " (28, -5),\n",
       " (29, -10),\n",
       " (29, -9),\n",
       " (29, -8),\n",
       " (29, -7),\n",
       " (29, -6),\n",
       " (29, -5),\n",
       " (30, -10),\n",
       " (30, -9),\n",
       " (30, -8),\n",
       " (30, -7),\n",
       " (30, -6),\n",
       " (30, -5)}"
      ]
     },
     "execution_count": 2,
     "metadata": {},
     "output_type": "execute_result"
    }
   ],
   "source": [
    "def parse(input):\n",
    "    \"\"\"Parses targets from input.\"\"\"\n",
    "    x1, x2, y1, y2 = (int(value) for part in input.split(': ')[1].split(', ') for value in part.split('=')[1].split('..'))\n",
    "    return set((x, y) for x in range(x1, 1 + x2) for y in range(y1, 1 + y2))\n",
    "    \n",
    "parse(example)"
   ]
  },
  {
   "cell_type": "code",
   "execution_count": 3,
   "id": "e165b222-cd40-4e9a-a900-31da66a8dd61",
   "metadata": {},
   "outputs": [
    {
     "data": {
      "text/plain": [
       "(1, 1, 0, 0)"
      ]
     },
     "execution_count": 3,
     "metadata": {},
     "output_type": "execute_result"
    }
   ],
   "source": [
    "def step(x, y, v_x, v_y):\n",
    "    \"\"\"Returns position and velocity after one step.\"\"\"\n",
    "    return x + v_x, y + v_y, v_x - 1 if v_x > 0 else 0, v_y - 1\n",
    "\n",
    "step(0, 0, 1, 1)"
   ]
  },
  {
   "cell_type": "markdown",
   "id": "470ccd3c-8cce-40b1-9bdf-7b54dc425522",
   "metadata": {},
   "source": [
    "If a probe has an initial y-velocity >= 0, it will pass through y=0 on the way back down. At this point the probe will have a negative velocity with 1 greater magnitude than the intial velocity.\n",
    "\n",
    "For example, a probe with initial y-velocity 3 will pass through y=0 with -4 y-velocity."
   ]
  },
  {
   "cell_type": "code",
   "execution_count": 4,
   "id": "c4099f44-d581-46d8-9f03-4825a5a0127e",
   "metadata": {},
   "outputs": [
    {
     "name": "stdout",
     "output_type": "stream",
     "text": [
      "Step 1: (0, 3) (0, 2)\n",
      "Step 2: (0, 5) (0, 1)\n",
      "Step 3: (0, 6) (0, 0)\n",
      "Step 4: (0, 6) (0, -1)\n",
      "Step 5: (0, 5) (0, -2)\n",
      "Step 6: (0, 3) (0, -3)\n",
      "Step 7: (0, 0) (0, -4)\n"
     ]
    }
   ],
   "source": [
    "x, y, v_x, v_y = 0, 0, 0, 3\n",
    "for s in range(1, 8):\n",
    "    x, y, v_x, v_y = step(x, y, v_x, v_y)\n",
    "    print(f'Step {s}: {(x, y)} {(v_x, v_y)}')"
   ]
  },
  {
   "cell_type": "markdown",
   "id": "9b7b84d2-822e-4722-8c67-e790159ccab6",
   "metadata": {},
   "source": [
    "The initial y-velocity cannot be greater than the magnitude of the lowest target minus 1."
   ]
  },
  {
   "cell_type": "code",
   "execution_count": 5,
   "id": "8576866b-e445-4097-87df-bb00b383ea3e",
   "metadata": {},
   "outputs": [
    {
     "data": {
      "text/plain": [
       "9"
      ]
     },
     "execution_count": 5,
     "metadata": {},
     "output_type": "execute_result"
    }
   ],
   "source": [
    "def max_v_y(targets):\n",
    "    \"\"\"Returns maximum initial y-velocity that can hit targets.\"\"\"\n",
    "    return abs(min(targets)[1]) - 1 \n",
    "\n",
    "max_v_y(parse(example))"
   ]
  },
  {
   "cell_type": "markdown",
   "id": "1e042cf1-0c8d-4637-8082-ffb400be8440",
   "metadata": {},
   "source": [
    "A probe's y velocities form an infinite arithmetic progression. We can consider a finite portion of this progression: from initial velocity until inflection (y-velocity = 0). \n",
    "\n",
    "A probe's highest y-position is the sum of the finite progression. \n",
    "\n",
    "A probe's highest position for an initial y-velocity 9 can be calculated as follows:"
   ]
  },
  {
   "cell_type": "code",
   "execution_count": 6,
   "id": "109e9f1a-e756-44fc-9e64-cf18102057d6",
   "metadata": {},
   "outputs": [
    {
     "data": {
      "text/plain": [
       "45"
      ]
     },
     "execution_count": 6,
     "metadata": {},
     "output_type": "execute_result"
    }
   ],
   "source": [
    "def max_height(v):\n",
    "    \"\"\"Returns max height of travelling with initial y-velocity v.\"\"\"\n",
    "    return int(v * (v + 1) / 2)\n",
    "\n",
    "max_height(max_v_y(parse(example)))"
   ]
  },
  {
   "cell_type": "markdown",
   "id": "29030880-f5a6-4511-b5ee-be67942eab00",
   "metadata": {},
   "source": [
    "Find the maximum height of a probe that will hit targets in input."
   ]
  },
  {
   "cell_type": "code",
   "execution_count": 7,
   "id": "43a7926a-da01-48b7-aeb8-e4825e64712e",
   "metadata": {},
   "outputs": [
    {
     "data": {
      "text/plain": [
       "19503"
      ]
     },
     "execution_count": 7,
     "metadata": {},
     "output_type": "execute_result"
    }
   ],
   "source": [
    "max_height(max_v_y(parse(open('day-17-input.txt').read())))"
   ]
  },
  {
   "cell_type": "markdown",
   "id": "4a0538f7-5366-4276-86a6-fcaef74b9f6b",
   "metadata": {},
   "source": [
    "# Part two"
   ]
  },
  {
   "cell_type": "markdown",
   "id": "9dbe02b3-2b41-4d97-8327-2866acc9b814",
   "metadata": {},
   "source": [
    "You can't start with an x-velocity greater than the rightmost target's x-position, otherwise the probe would to the right of the target area after the first step."
   ]
  },
  {
   "cell_type": "code",
   "execution_count": 8,
   "id": "df0618e3-fa99-47ce-afec-091dedf03e68",
   "metadata": {},
   "outputs": [
    {
     "data": {
      "text/plain": [
       "30"
      ]
     },
     "execution_count": 8,
     "metadata": {},
     "output_type": "execute_result"
    }
   ],
   "source": [
    "max(parse(example))[0]"
   ]
  },
  {
   "cell_type": "markdown",
   "id": "b2c2df23-cc89-44a7-83c6-a35241fc6bce",
   "metadata": {},
   "source": [
    "You can't start with a y-velocity less than the lowest target's y-position, otherwise the probe would be lower than the target area after the first step."
   ]
  },
  {
   "cell_type": "code",
   "execution_count": 9,
   "id": "7b305687-c47c-46b1-8a67-276630fe3443",
   "metadata": {},
   "outputs": [
    {
     "data": {
      "text/plain": [
       "-10"
      ]
     },
     "execution_count": 9,
     "metadata": {},
     "output_type": "execute_result"
    }
   ],
   "source": [
    "min(parse(example))[1]"
   ]
  },
  {
   "cell_type": "markdown",
   "id": "e86ba289-e43f-40f4-9379-8e188ce00ceb",
   "metadata": {},
   "source": [
    "A probe's final x-position must not be less than the leftmost position of the target area, otherwise the probe will never reach the target area horizontally.\n",
    "\n",
    "x velocities form an [arithmetic progression](https://en.wikipedia.org/wiki/Arithmetic_progression): the difference between consecutive terms is constant. e.g., from initial velocity to final velocity: (5, 4, 3, 2, 1, 0).\n",
    "\n",
    "The sum of a finite arithmetic progression is an arithmetic series. Here, this equates to the probe's final x-position.\n",
    "\n",
    "The final x-position (series) for an intial x-velocity of 5 can be calculated as follows:"
   ]
  },
  {
   "cell_type": "code",
   "execution_count": 10,
   "id": "ca75fd7f-ec88-4333-9505-11a766ecc318",
   "metadata": {},
   "outputs": [
    {
     "data": {
      "text/plain": [
       "15"
      ]
     },
     "execution_count": 10,
     "metadata": {},
     "output_type": "execute_result"
    }
   ],
   "source": [
    "final_x = max_height\n",
    "\n",
    "final_x(5)"
   ]
  },
  {
   "cell_type": "markdown",
   "id": "1b75def8-65de-4d37-afe2-cbcc82231dee",
   "metadata": {},
   "source": [
    "We've got bounds for initial x-velocity and initial y-velocity.\n",
    "\n",
    "Let's iterate through these and see what hits."
   ]
  },
  {
   "cell_type": "code",
   "execution_count": 11,
   "id": "3079a3a2-4271-46c0-ad9c-c14e16cf4a3c",
   "metadata": {},
   "outputs": [
    {
     "data": {
      "text/plain": [
       "3060"
      ]
     },
     "execution_count": 11,
     "metadata": {},
     "output_type": "execute_result"
    }
   ],
   "source": [
    "targets = parse(open('day-17-input.txt').read())\n",
    "len(targets)"
   ]
  },
  {
   "cell_type": "code",
   "execution_count": 12,
   "id": "f72a96a4-8465-4efb-994a-06edc86395d0",
   "metadata": {},
   "outputs": [
    {
     "data": {
      "text/plain": [
       "112"
      ]
     },
     "execution_count": 12,
     "metadata": {},
     "output_type": "execute_result"
    }
   ],
   "source": [
    "import itertools\n",
    "\n",
    "def hits(targets):\n",
    "    \"\"\"Yields initial velocities of probes that reach targets.\"\"\"\n",
    "    leftmost = min(targets)[0]\n",
    "    rightmost = max(targets)[0]\n",
    "    lowest = min(targets)[1]\n",
    "    \n",
    "    # Initial x velocities.\n",
    "    v_xs = (v for v in range(rightmost + 1) if final_x(v) >= leftmost)\n",
    "    # Map x position sequences to initial x velocities.\n",
    "    x_pos = {\n",
    "        # Sum terms in sequences from initial x velocity to 1. \n",
    "        v_x: [int(n * (v_x + v) / 2) for n, v in enumerate(range(v_x, 0, -1), start=1) if (n * (v_x + v) / 2) <= rightmost]\n",
    "        for v_x in v_xs\n",
    "    }\n",
    "    \n",
    "    # Initial y velocities.\n",
    "    v_ys = range(lowest, max_v_y(targets) + 1)\n",
    "    y_pos = {}\n",
    "    for v_y in v_ys:\n",
    "        # Determine the probe's final y position within target.\n",
    "        # Take a shortcut by considering only movement below the y-axis.\n",
    "        final_v_y = -(v_y + 1) if v_y > 0 else v_y\n",
    "        final_y = final_v_y\n",
    "        while (final_y + final_v_y - 1) >= lowest:\n",
    "            final_v_y -= 1\n",
    "            final_y += final_v_y\n",
    "\n",
    "        # Then determine y positions for each step.\n",
    "        y_pos[v_y] = [n * (v_y + v) / 2 for n, v in enumerate(range(v_y, final_v_y - 1, -1), start=1)]\n",
    "    \n",
    "    for v_x, xs in x_pos.items():\n",
    "        for v_y, ys in y_pos.items():\n",
    "            # Repeat the final x position forever if it has run out of steam.\n",
    "            tweaked_xs = itertools.chain(xs, itertools.repeat(xs[-1])) if len(xs) > 1 and xs[-2] + 1 == xs[-1] else xs\n",
    "            \n",
    "            # If any positions of this trajectory are in targets, yield the initial velocities.\n",
    "            if set(zip(tweaked_xs, ys)) & targets:\n",
    "                yield v_x, v_y\n",
    "\n",
    "len(set(hits(parse(example))))"
   ]
  },
  {
   "cell_type": "markdown",
   "id": "f15424ee-8d48-4f9f-b3fd-8a2363eac16d",
   "metadata": {},
   "source": [
    "Find number of starting velocities that hit target."
   ]
  },
  {
   "cell_type": "code",
   "execution_count": 13,
   "id": "3ac16d1c-b8b3-447a-8f30-cf1f2504c6fe",
   "metadata": {},
   "outputs": [
    {
     "data": {
      "text/plain": [
       "5200"
      ]
     },
     "execution_count": 13,
     "metadata": {},
     "output_type": "execute_result"
    }
   ],
   "source": [
    "len(set(hits(parse(open('day-17-input.txt').read()))))"
   ]
  }
 ],
 "metadata": {
  "kernelspec": {
   "display_name": "Python 3 (ipykernel)",
   "language": "python",
   "name": "python3"
  },
  "language_info": {
   "codemirror_mode": {
    "name": "ipython",
    "version": 3
   },
   "file_extension": ".py",
   "mimetype": "text/x-python",
   "name": "python",
   "nbconvert_exporter": "python",
   "pygments_lexer": "ipython3",
   "version": "3.8.5"
  }
 },
 "nbformat": 4,
 "nbformat_minor": 5
}
